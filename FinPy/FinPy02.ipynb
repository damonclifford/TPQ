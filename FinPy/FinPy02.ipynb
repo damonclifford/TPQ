{
 "cells": [
  {
   "cell_type": "markdown",
   "metadata": {},
   "source": [
    "<img src=\"https://i.imgur.com/d28OeSq.png\" width=\"350px\" align=\"right\">"
   ]
  },
  {
   "cell_type": "markdown",
   "metadata": {},
   "source": [
    "# Finance with Python Video 2 "
   ]
  },
  {
   "cell_type": "markdown",
   "metadata": {},
   "source": [
    "Credit to Dr. Yves Hilpisch of The Python Quants GmBH for instructional material"
   ]
  },
  {
   "cell_type": "code",
   "execution_count": 1,
   "metadata": {},
   "outputs": [],
   "source": [
    "import pandas as pd\n",
    "import numpy as np\n",
    "import matplotlib.pyplot as plt"
   ]
  },
  {
   "cell_type": "markdown",
   "metadata": {},
   "source": [
    "## Option Replication and Pricing"
   ]
  },
  {
   "cell_type": "code",
   "execution_count": 2,
   "metadata": {},
   "outputs": [],
   "source": [
    "'''Stocks'''\n",
    "S = np.array((20., 5.)) "
   ]
  },
  {
   "cell_type": "code",
   "execution_count": 3,
   "metadata": {},
   "outputs": [],
   "source": [
    "'''S at time zero'''\n",
    "S0 = 10."
   ]
  },
  {
   "cell_type": "code",
   "execution_count": 4,
   "metadata": {},
   "outputs": [],
   "source": [
    "'''Riskless bond asset'''\n",
    "B = np.array((11.,11.))"
   ]
  },
  {
   "cell_type": "code",
   "execution_count": 5,
   "metadata": {},
   "outputs": [],
   "source": [
    "'''Bond at time zero'''\n",
    "B0 = 10."
   ]
  },
  {
   "cell_type": "code",
   "execution_count": 6,
   "metadata": {},
   "outputs": [
    {
     "data": {
      "text/plain": [
       "array([[20., 11.],\n",
       "       [ 5., 11.]])"
      ]
     },
     "execution_count": 6,
     "metadata": {},
     "output_type": "execute_result"
    }
   ],
   "source": [
    "'''Market matrix'''\n",
    "M = np.array((S, B)).T\n",
    "M"
   ]
  },
  {
   "cell_type": "code",
   "execution_count": 7,
   "metadata": {},
   "outputs": [
    {
     "data": {
      "text/plain": [
       "array([10., 10.])"
      ]
     },
     "execution_count": 7,
     "metadata": {},
     "output_type": "execute_result"
    }
   ],
   "source": [
    "'''Market price vector'''\n",
    "M0 = np.array((S0,B0)).T\n",
    "M0"
   ]
  },
  {
   "cell_type": "code",
   "execution_count": 8,
   "metadata": {},
   "outputs": [
    {
     "data": {
      "text/plain": [
       "array([ 4.5, -3. ])"
      ]
     },
     "execution_count": 8,
     "metadata": {},
     "output_type": "execute_result"
    }
   ],
   "source": [
    "0.5 * S - 0.5 * B"
   ]
  },
  {
   "cell_type": "code",
   "execution_count": 9,
   "metadata": {},
   "outputs": [
    {
     "data": {
      "text/plain": [
       "array([5., 0.])"
      ]
     },
     "execution_count": 9,
     "metadata": {},
     "output_type": "execute_result"
    }
   ],
   "source": [
    "K = 15. # strike price of call option\n",
    "C = np.maximum (S - K, 0) # payoff of call option\n",
    "C"
   ]
  },
  {
   "cell_type": "code",
   "execution_count": 10,
   "metadata": {},
   "outputs": [
    {
     "data": {
      "text/plain": [
       "array([ 0.33333333, -0.15151515])"
      ]
     },
     "execution_count": 10,
     "metadata": {},
     "output_type": "execute_result"
    }
   ],
   "source": [
    "'''Solve for the optimal portfolio'''\n",
    "'''shows we should long .33 bond and short the bond .1515 this \n",
    "is not replicable in the real world because of partial shares isssues'''\n",
    "phi = np.linalg.solve(M, C) # solving for M(market) & C(Call Option)\n",
    "phi #replication portfolio"
   ]
  },
  {
   "cell_type": "code",
   "execution_count": 11,
   "metadata": {},
   "outputs": [
    {
     "data": {
      "text/plain": [
       "array([5.00000000e+00, 2.22044605e-16])"
      ]
     },
     "execution_count": 11,
     "metadata": {},
     "output_type": "execute_result"
    }
   ],
   "source": [
    "np.dot(M, phi)# portfolio payoff = option payoff"
   ]
  },
  {
   "cell_type": "code",
   "execution_count": 12,
   "metadata": {},
   "outputs": [
    {
     "data": {
      "text/plain": [
       "1.8181818181818188"
      ]
     },
     "execution_count": 12,
     "metadata": {},
     "output_type": "execute_result"
    }
   ],
   "source": [
    "C0 = np.dot(M0, phi)# cost to set up portfolio\n",
    "C0"
   ]
  },
  {
   "cell_type": "markdown",
   "metadata": {},
   "source": [
    "1.818 is the arbitrage free price of the option "
   ]
  },
  {
   "cell_type": "markdown",
   "metadata": {},
   "source": [
    "## Fundamental Theorem of Asset Pricing"
   ]
  },
  {
   "cell_type": "markdown",
   "metadata": {},
   "source": [
    "Is a martingale measure and the absence of arbitrage are equivalent\n",
    "http://pi.math.cornell.edu/~mec/Summer2008/spulido/fftap.html"
   ]
  },
  {
   "cell_type": "markdown",
   "metadata": {},
   "source": [
    "### Probability Measure and Expectation "
   ]
  },
  {
   "cell_type": "code",
   "execution_count": 13,
   "metadata": {},
   "outputs": [
    {
     "data": {
      "text/plain": [
       "array([0.5, 0.5])"
      ]
     },
     "execution_count": 13,
     "metadata": {},
     "output_type": "execute_result"
    }
   ],
   "source": [
    "'''explicit modeling represented as 2d matrix; up & down where P == Up state'''\n",
    "P = 0.5\n",
    "P = np.array((P, 1 - P))\n",
    "P"
   ]
  },
  {
   "cell_type": "code",
   "execution_count": 14,
   "metadata": {},
   "outputs": [
    {
     "data": {
      "text/plain": [
       "12.5"
      ]
     },
     "execution_count": 14,
     "metadata": {},
     "output_type": "execute_result"
    }
   ],
   "source": [
    "'''expected value of S'''\n",
    "ES = np.dot(S, P)\n",
    "ES"
   ]
  },
  {
   "cell_type": "code",
   "execution_count": 15,
   "metadata": {},
   "outputs": [
    {
     "data": {
      "text/plain": [
       "11.0"
      ]
     },
     "execution_count": 15,
     "metadata": {},
     "output_type": "execute_result"
    }
   ],
   "source": [
    "'''expected value of B'''\n",
    "EB = np.dot(B,P)\n",
    "EB"
   ]
  },
  {
   "cell_type": "markdown",
   "metadata": {},
   "source": [
    "### Maritingale Property "
   ]
  },
  {
   "cell_type": "code",
   "execution_count": 16,
   "metadata": {},
   "outputs": [
    {
     "data": {
      "text/plain": [
       "0.9090909090909091"
      ]
     },
     "execution_count": 16,
     "metadata": {},
     "output_type": "execute_result"
    }
   ],
   "source": [
    "'''interest rate'''\n",
    "i = 0.1\n",
    "\n",
    "df = 1 / (1 + i)\n",
    "df"
   ]
  },
  {
   "cell_type": "markdown",
   "metadata": {},
   "source": [
    "$Q$ is called a Martingale measure if \n",
    "\n",
    "> $\\frac{1}{1+i}\\cdot E^Q(S_1) = S_0$    \n",
    "\n",
    "holds"
   ]
  },
  {
   "cell_type": "code",
   "execution_count": 17,
   "metadata": {},
   "outputs": [
    {
     "data": {
      "text/plain": [
       "11.363636363636363"
      ]
     },
     "execution_count": 17,
     "metadata": {},
     "output_type": "execute_result"
    }
   ],
   "source": [
    "df * np.dot(S, P)"
   ]
  },
  {
   "cell_type": "code",
   "execution_count": 18,
   "metadata": {},
   "outputs": [
    {
     "data": {
      "text/plain": [
       "10.0"
      ]
     },
     "execution_count": 18,
     "metadata": {},
     "output_type": "execute_result"
    }
   ],
   "source": [
    "S0 # we are looking for S0, the above did not give 10.0\n",
    "# under P, the price process was not a price process"
   ]
  },
  {
   "cell_type": "markdown",
   "metadata": {},
   "source": [
    "## Deriving a Martingale Measure "
   ]
  },
  {
   "cell_type": "code",
   "execution_count": 19,
   "metadata": {},
   "outputs": [],
   "source": [
    "'''minimize an error measure under a constraint'''\n",
    "from scipy.optimize import minimize"
   ]
  },
  {
   "cell_type": "code",
   "execution_count": 20,
   "metadata": {},
   "outputs": [],
   "source": [
    "'''derive an error measure'''\n",
    "def error (Q):\n",
    "    return (np.dot(S, Q) / (1+i) - S0) ** 2 # add the square for convex optimizers; a differentiable smooth function"
   ]
  },
  {
   "cell_type": "code",
   "execution_count": 21,
   "metadata": {},
   "outputs": [
    {
     "data": {
      "text/plain": [
       "1.859504132231404"
      ]
     },
     "execution_count": 21,
     "metadata": {},
     "output_type": "execute_result"
    }
   ],
   "source": [
    "'''call error on P, the up|down 2d matrix'''\n",
    "error(P)"
   ]
  },
  {
   "cell_type": "code",
   "execution_count": 22,
   "metadata": {},
   "outputs": [],
   "source": [
    "'''constraint: the sum of the two vectors need to add to 1'''\n",
    "'''type equation function: lambda Q: Q is supposed to == 1'''\n",
    "cons = ({'type': 'eq', 'fun': lambda Q: Q.sum() - 1}) #this is a probability constraint"
   ]
  },
  {
   "cell_type": "code",
   "execution_count": 23,
   "metadata": {},
   "outputs": [],
   "source": [
    "'''boundaries: 2 elements over which we are going to optimize & the prob measure shall be between 0 and 1'''\n",
    "bnds = ((0,1),(0,1))"
   ]
  },
  {
   "cell_type": "code",
   "execution_count": 24,
   "metadata": {},
   "outputs": [
    {
     "data": {
      "text/plain": [
       "     fun: 1.0172028584007344e-14\n",
       "     jac: array([ 1.25849558e-06, -6.09001821e-07])\n",
       " message: 'Optimization terminated successfully.'\n",
       "    nfev: 9\n",
       "     nit: 2\n",
       "    njev: 2\n",
       "  status: 0\n",
       " success: True\n",
       "       x: array([0.39999999, 0.60000001])"
      ]
     },
     "execution_count": 24,
     "metadata": {},
     "output_type": "execute_result"
    }
   ],
   "source": [
    "''''''\n",
    "res = minimize(error,(0.5, 0.5), bounds=bnds, constraints=cons)\n",
    "res"
   ]
  },
  {
   "cell_type": "code",
   "execution_count": 25,
   "metadata": {},
   "outputs": [
    {
     "data": {
      "text/plain": [
       "0.0"
      ]
     },
     "execution_count": 25,
     "metadata": {},
     "output_type": "execute_result"
    }
   ],
   "source": [
    "round(res['fun'], 5)"
   ]
  },
  {
   "cell_type": "code",
   "execution_count": 26,
   "metadata": {},
   "outputs": [
    {
     "data": {
      "text/plain": [
       "array([0.39999999, 0.60000001])"
      ]
     },
     "execution_count": 26,
     "metadata": {},
     "output_type": "execute_result"
    }
   ],
   "source": [
    "# x is from array shown above\n",
    "Q = res['x']\n",
    "Q"
   ]
  },
  {
   "cell_type": "code",
   "execution_count": 27,
   "metadata": {},
   "outputs": [
    {
     "data": {
      "text/plain": [
       "1.0172028584007344e-14"
      ]
     },
     "execution_count": 27,
     "metadata": {},
     "output_type": "execute_result"
    }
   ],
   "source": [
    "error(Q)"
   ]
  },
  {
   "cell_type": "code",
   "execution_count": 28,
   "metadata": {},
   "outputs": [
    {
     "data": {
      "text/plain": [
       "9.999999899143525"
      ]
     },
     "execution_count": 28,
     "metadata": {},
     "output_type": "execute_result"
    }
   ],
   "source": [
    "np.dot(S,Q) / (1 + i)"
   ]
  },
  {
   "cell_type": "code",
   "execution_count": 29,
   "metadata": {},
   "outputs": [
    {
     "data": {
      "text/plain": [
       "10.0"
      ]
     },
     "execution_count": 29,
     "metadata": {},
     "output_type": "execute_result"
    }
   ],
   "source": [
    "S0"
   ]
  },
  {
   "cell_type": "markdown",
   "metadata": {},
   "source": [
    "### Risk Neutral ('Martingale') Pricing "
   ]
  },
  {
   "cell_type": "code",
   "execution_count": 30,
   "metadata": {},
   "outputs": [
    {
     "data": {
      "text/plain": [
       "array([ 0.33333333, -0.15151515])"
      ]
     },
     "execution_count": 30,
     "metadata": {},
     "output_type": "execute_result"
    }
   ],
   "source": [
    "phi"
   ]
  },
  {
   "cell_type": "code",
   "execution_count": 31,
   "metadata": {},
   "outputs": [
    {
     "data": {
      "text/plain": [
       "array([5.00000000e+00, 2.22044605e-16])"
      ]
     },
     "execution_count": 31,
     "metadata": {},
     "output_type": "execute_result"
    }
   ],
   "source": [
    "np.dot(M, phi)"
   ]
  },
  {
   "cell_type": "code",
   "execution_count": 32,
   "metadata": {},
   "outputs": [
    {
     "data": {
      "text/plain": [
       "1.8181818181818188"
      ]
     },
     "execution_count": 32,
     "metadata": {},
     "output_type": "execute_result"
    }
   ],
   "source": [
    "np.dot(M0, phi)"
   ]
  },
  {
   "cell_type": "code",
   "execution_count": 33,
   "metadata": {},
   "outputs": [
    {
     "data": {
      "text/plain": [
       "2.2727272727272725"
      ]
     },
     "execution_count": 33,
     "metadata": {},
     "output_type": "execute_result"
    }
   ],
   "source": [
    "np.dot(C, P) / (1 + i) # wrong measure OR wrong discount rate"
   ]
  },
  {
   "cell_type": "code",
   "execution_count": 34,
   "metadata": {},
   "outputs": [
    {
     "data": {
      "text/plain": [
       "1.8181817845629937"
      ]
     },
     "execution_count": 34,
     "metadata": {},
     "output_type": "execute_result"
    }
   ],
   "source": [
    "np.dot(C, Q) / (1 + i) # martingale meas in combo with risk free rate"
   ]
  },
  {
   "cell_type": "markdown",
   "metadata": {},
   "source": [
    "### Aproximation by Ordinary Least Squares"
   ]
  },
  {
   "cell_type": "code",
   "execution_count": 35,
   "metadata": {},
   "outputs": [
    {
     "name": "stderr",
     "output_type": "stream",
     "text": [
      "/anaconda3/lib/python3.7/site-packages/ipykernel_launcher.py:2: FutureWarning: `rcond` parameter will change to the default of machine precision times ``max(M, N)`` where M and N are the input matrix dimensions.\n",
      "To use the future default and silence this warning we advise to pass `rcond=None`, to keep using the old, explicitly pass `rcond=-1`.\n",
      "  \n"
     ]
    },
    {
     "data": {
      "text/plain": [
       "array([ 0.33333333, -0.15151515])"
      ]
     },
     "execution_count": 35,
     "metadata": {},
     "output_type": "execute_result"
    }
   ],
   "source": [
    "'''same as phi & np.linalg.solve'''\n",
    "reg = np.linalg.lstsq(M,C)[0]\n",
    "reg"
   ]
  },
  {
   "cell_type": "code",
   "execution_count": 36,
   "metadata": {},
   "outputs": [
    {
     "data": {
      "text/plain": [
       "array([5.00000000e+00, 6.66133815e-16])"
      ]
     },
     "execution_count": 36,
     "metadata": {},
     "output_type": "execute_result"
    }
   ],
   "source": [
    "np.dot(M, reg)"
   ]
  },
  {
   "cell_type": "code",
   "execution_count": 37,
   "metadata": {},
   "outputs": [
    {
     "data": {
      "text/plain": [
       "1.8181818181818188"
      ]
     },
     "execution_count": 37,
     "metadata": {},
     "output_type": "execute_result"
    }
   ],
   "source": [
    "np.dot(M0, reg)"
   ]
  },
  {
   "cell_type": "markdown",
   "metadata": {},
   "source": [
    "### Option Pricing Based on Neural Nets (\"Learning')"
   ]
  },
  {
   "cell_type": "code",
   "execution_count": 38,
   "metadata": {
    "scrolled": true
   },
   "outputs": [
    {
     "data": {
      "text/plain": [
       "array([[20., 11.],\n",
       "       [ 5., 11.]])"
      ]
     },
     "execution_count": 38,
     "metadata": {},
     "output_type": "execute_result"
    }
   ],
   "source": [
    "M # layer 0"
   ]
  },
  {
   "cell_type": "code",
   "execution_count": 39,
   "metadata": {},
   "outputs": [],
   "source": [
    "'''guessing the portfolio by replication with neural nets'''\n",
    "'''initial weights vector'''\n",
    "w = np.array((1., -1.))"
   ]
  },
  {
   "cell_type": "code",
   "execution_count": 40,
   "metadata": {},
   "outputs": [
    {
     "data": {
      "text/plain": [
       "array([ 9., -6.])"
      ]
     },
     "execution_count": 40,
     "metadata": {},
     "output_type": "execute_result"
    }
   ],
   "source": [
    "'''layer 1'''\n",
    "layer1 = np.dot(M, w)  \n",
    "layer1"
   ]
  },
  {
   "cell_type": "code",
   "execution_count": 41,
   "metadata": {},
   "outputs": [
    {
     "data": {
      "text/plain": [
       "array([ 4., -6.])"
      ]
     },
     "execution_count": 41,
     "metadata": {},
     "output_type": "execute_result"
    }
   ],
   "source": [
    "'''deltas'''\n",
    "d = layer1 - C\n",
    "d"
   ]
  },
  {
   "cell_type": "code",
   "execution_count": 42,
   "metadata": {},
   "outputs": [
    {
     "data": {
      "text/plain": [
       "26.0"
      ]
     },
     "execution_count": 42,
     "metadata": {},
     "output_type": "execute_result"
    }
   ],
   "source": [
    "'''mean squared error'''\n",
    "(d ** 2).mean()"
   ]
  },
  {
   "cell_type": "code",
   "execution_count": 43,
   "metadata": {},
   "outputs": [],
   "source": [
    "'''set alpha to [x]'''\n",
    "alpha = 0.01"
   ]
  },
  {
   "cell_type": "code",
   "execution_count": 44,
   "metadata": {},
   "outputs": [
    {
     "data": {
      "text/plain": [
       "array([ 0.96, -0.94])"
      ]
     },
     "execution_count": 44,
     "metadata": {},
     "output_type": "execute_result"
    }
   ],
   "source": [
    "'''update the weight vector - the \"learning\" step '''\n",
    "w -= alpha * d # with in place substraction\n",
    "w"
   ]
  },
  {
   "cell_type": "code",
   "execution_count": 45,
   "metadata": {
    "scrolled": true
   },
   "outputs": [
    {
     "name": "stdout",
     "output_type": "stream",
     "text": [
      "22.7956\n",
      "19.961021860000002\n",
      "17.457452107065993\n",
      "15.250618412184856\n",
      "13.30936408577991\n",
      "11.60507649520492\n",
      "10.111481421813131\n",
      "8.804566373317922\n",
      "7.6625264792585455\n",
      "6.665692134082745\n",
      "5.7964285834261675\n",
      "5.039010883039852\n",
      "4.379482091822218\n",
      "3.8055029321912013\n",
      "3.3061998862007806\n",
      "2.8720169752269555\n",
      "2.4945748244864405\n",
      "2.1665392411974533\n",
      "1.88150047883408\n",
      "1.6338635928641287\n",
      "1.4187497647794394\n",
      "1.2319081274028374\n",
      "1.0696374176220944\n",
      "0.9287166738543854\n",
      "0.8063441544369638\n",
      "0.7000836571405773\n",
      "0.6078174526479784\n",
      "0.5277050944433831\n",
      "0.4581474260178029\n",
      "0.397755168139082\n",
      "0.3453215305859752\n",
      "0.299798351962883\n",
      "0.2602753266862044\n",
      "0.22596192928857556\n",
      "0.19617169257004025\n",
      "0.17030853785498823\n",
      "0.14785489287913103\n",
      "0.12836136591860176\n",
      "0.11143777401974464\n",
      "0.09674534894766645\n",
      "0.08398996709606393\n",
      "0.07291626942715977\n",
      "0.06330255485360142\n",
      "0.054956345623050094\n",
      "0.04771053648308851\n",
      "0.04142005092460259\n",
      "0.03595893783602279\n",
      "0.031217850635158258\n",
      "0.027101858544419332\n",
      "0.023528546283895203\n",
      "0.02042636420225479\n",
      "0.017733195859141886\n",
      "0.01539511441212972\n",
      "0.013365302931403889\n",
      "0.01160311704041522\n",
      "0.010073271125433509\n",
      "0.00874513182757304\n",
      "0.007592104676464484\n",
      "0.006591101587974824\n",
      "0.005722078566282792\n",
      "0.004967634355476246\n",
      "0.004312662005633336\n",
      "0.003744046377451185\n",
      "0.003250401529034704\n",
      "0.0028218427268276525\n",
      "0.0024497885158211476\n",
      "0.0021267888859668365\n",
      "0.0018463760941906018\n",
      "0.0016029351550043644\n",
      "0.0013915914065138018\n",
      "0.0012081129005114774\n",
      "0.001048825662161905\n",
      "0.000910540122471301\n",
      "0.0007904872504489583\n",
      "0.0006862631060869952\n",
      "0.0005957807038981873\n",
      "0.0005172282231357056\n",
      "0.0004490327279012994\n",
      "0.0003898286706769756\n",
      "0.00033843054859775796\n",
      "0.00029380916493615427\n",
      "0.0002550710204595457\n",
      "0.00022144042199374512\n",
      "0.00019224394993516269\n",
      "0.00016689697368921574\n",
      "0.00014489194502036819\n",
      "0.00012578823489979262\n",
      "0.00010920331034402824\n",
      "9.480507456921075e-05\n",
      "8.230521708050203e-05\n",
      "7.145344053855763e-05\n",
      "6.203244880199896e-05\n",
      "5.385359578630004e-05\n",
      "4.675310801173011e-05\n",
      "4.058880520075328e-05\n",
      "3.5237253258018535e-05\n",
      "3.0591292624129354e-05\n",
      "2.6557892510986757e-05\n",
      "2.3056288051887536e-05\n",
      "2.001636306455681e-05\n",
      "1.737724604364507e-05\n",
      "1.5086091268757118e-05\n",
      "1.3097020620941122e-05\n",
      "1.1370204918503588e-05\n",
      "9.871066376870554e-06\n",
      "8.569586222489563e-06\n",
      "7.439703596429482e-06\n",
      "6.4587937113505756e-06\n",
      "5.607214812396694e-06\n",
      "4.867914870403899e-06\n",
      "4.226090131785138e-06\n",
      "3.6688886879608215e-06\n",
      "3.185153128514229e-06\n",
      "2.7651971250526527e-06\n",
      "2.400611472001366e-06\n",
      "2.0840957005538513e-06\n",
      "1.8093118939581713e-06\n",
      "1.5707577769819212e-06\n",
      "1.3636565382604654e-06\n",
      "1.1838611793555464e-06\n",
      "1.0277714751939495e-06\n",
      "8.922618831008505e-07\n",
      "7.746189568892249e-07\n",
      "6.724870127659459e-07\n",
      "5.83820959088615e-07\n",
      "5.068453454129465e-07\n",
      "4.400188108487743e-07\n",
      "3.820032198241177e-07\n",
      "3.3163686723919283e-07\n",
      "2.8791121646220836e-07\n",
      "2.4995070438036067e-07\n",
      "2.1699520910584146e-07\n",
      "1.8838482928741098e-07\n",
      "1.6354667023230492e-07\n",
      "1.4198337225555678e-07\n",
      "1.2326315154267329e-07\n",
      "1.07011154100861e-07\n",
      "9.290194967991744e-08\n",
      "8.065301534994216e-08\n",
      "7.001907825873014e-08\n",
      "6.078720428448247e-08\n",
      "5.277253423761641e-08\n",
      "4.5814582240773744e-08\n",
      "3.977402215404824e-08\n",
      "3.452989770796293e-08\n",
      "2.997720047298853e-08\n",
      "2.602476716824788e-08\n",
      "2.2593454207667053e-08\n",
      "1.9614552927099402e-08\n",
      "1.7028413760505297e-08\n"
     ]
    }
   ],
   "source": [
    "for _ in range(150):  # range needs to be 150 for teaching purposes :: matches arb free price of ~1.818 at 150\n",
    "    layer1 = np.dot(M, w)\n",
    "    d = layer1 - C\n",
    "    print((d ** 2).mean())\n",
    "    w -= alpha * d"
   ]
  },
  {
   "cell_type": "code",
   "execution_count": 46,
   "metadata": {},
   "outputs": [
    {
     "data": {
      "text/plain": [
       "array([ 0.33334948, -0.15153449])"
      ]
     },
     "execution_count": 46,
     "metadata": {},
     "output_type": "execute_result"
    }
   ],
   "source": [
    "w"
   ]
  },
  {
   "cell_type": "code",
   "execution_count": 47,
   "metadata": {},
   "outputs": [
    {
     "data": {
      "text/plain": [
       "array([ 5.00011e+00, -1.30000e-04])"
      ]
     },
     "execution_count": 47,
     "metadata": {},
     "output_type": "execute_result"
    }
   ],
   "source": [
    "layer1 = np.dot(M, w)\n",
    "layer1.round(5)"
   ]
  },
  {
   "cell_type": "code",
   "execution_count": 48,
   "metadata": {},
   "outputs": [
    {
     "data": {
      "text/plain": [
       "1.8181498972598868"
      ]
     },
     "execution_count": 48,
     "metadata": {},
     "output_type": "execute_result"
    }
   ],
   "source": [
    "np.dot(M0, w)"
   ]
  },
  {
   "cell_type": "markdown",
   "metadata": {},
   "source": [
    "## What was going on above: "
   ]
  },
  {
   "cell_type": "markdown",
   "metadata": {},
   "source": [
    "__Image credits to Dr. Yves Hilpisch and The Python Quants__"
   ]
  },
  {
   "cell_type": "markdown",
   "metadata": {},
   "source": [
    "<img src=\"https://i.imgur.com/z96a78Z.png\" width=\"720px\" align=\"center\">"
   ]
  },
  {
   "cell_type": "markdown",
   "metadata": {},
   "source": [
    "<img src=\"https://i.imgur.com/gbscHEI.png\" width=\"720px\" align=\"center\">"
   ]
  },
  {
   "cell_type": "markdown",
   "metadata": {},
   "source": [
    "## Mean-Variance Portfolio Theory "
   ]
  },
  {
   "cell_type": "code",
   "execution_count": 49,
   "metadata": {},
   "outputs": [
    {
     "data": {
      "text/plain": [
       "array([[20., 11.,  5.],\n",
       "       [10., 11.,  0.],\n",
       "       [ 5., 11.,  0.]])"
      ]
     },
     "execution_count": 49,
     "metadata": {},
     "output_type": "execute_result"
    }
   ],
   "source": [
    "'''Array of 3 Stock Payoffs '''\n",
    "S = np.array((20, 10, 5.))\n",
    "'''Array of 3 Riskless Payoffs '''\n",
    "B = np.array((11., 11, 11))\n",
    "'''Call Option'''\n",
    "C = np.maximum(S - K, 0)\n",
    "'''Market'''\n",
    "M = np.array((S, B, C)).T\n",
    "M"
   ]
  },
  {
   "cell_type": "code",
   "execution_count": 50,
   "metadata": {},
   "outputs": [
    {
     "data": {
      "text/plain": [
       "array([[20., 11.],\n",
       "       [10., 11.],\n",
       "       [ 5., 11.]])"
      ]
     },
     "execution_count": 50,
     "metadata": {},
     "output_type": "execute_result"
    }
   ],
   "source": [
    "'''all rows and first 2 columns'''\n",
    "M[:, :2]"
   ]
  },
  {
   "cell_type": "code",
   "execution_count": 51,
   "metadata": {},
   "outputs": [
    {
     "data": {
      "text/plain": [
       "array([ 0.35714286, -0.22727273])"
      ]
     },
     "execution_count": 51,
     "metadata": {},
     "output_type": "execute_result"
    }
   ],
   "source": [
    "reg = np.linalg.lstsq(M[:,:2], C, rcond=None)[0] # had to pass rcond to stop update msg\n",
    "reg"
   ]
  },
  {
   "cell_type": "code",
   "execution_count": 52,
   "metadata": {},
   "outputs": [
    {
     "data": {
      "text/plain": [
       "array([ 4.64285714,  1.07142857, -0.71428571])"
      ]
     },
     "execution_count": 52,
     "metadata": {},
     "output_type": "execute_result"
    }
   ],
   "source": [
    "'''3 payoff state least squares regression'''\n",
    "np.dot(M[:,:2], reg)"
   ]
  },
  {
   "cell_type": "code",
   "execution_count": 53,
   "metadata": {},
   "outputs": [
    {
     "data": {
      "text/plain": [
       "array([ 0.,  0., -0.])"
      ]
     },
     "execution_count": 53,
     "metadata": {},
     "output_type": "execute_result"
    }
   ],
   "source": [
    "'''another numerical check with exact solver replicating zero vector'''\n",
    "np.linalg.solve(M, np.array((0, 0, 0)))"
   ]
  },
  {
   "cell_type": "code",
   "execution_count": 54,
   "metadata": {},
   "outputs": [
    {
     "data": {
      "text/plain": [
       "array([-0.2       ,  0.36363636,  0.2       ])"
      ]
     },
     "execution_count": 54,
     "metadata": {},
     "output_type": "execute_result"
    }
   ],
   "source": [
    "'''another numerical check with exact solver replicating another vector for complete market'''\n",
    "np.linalg.solve(M, np.array((1, 2, 3)))"
   ]
  },
  {
   "cell_type": "markdown",
   "metadata": {},
   "source": [
    "## Returns "
   ]
  },
  {
   "cell_type": "code",
   "execution_count": 55,
   "metadata": {},
   "outputs": [
    {
     "data": {
      "text/plain": [
       "array([10.  , 10.  ,  1.25])"
      ]
     },
     "execution_count": 55,
     "metadata": {},
     "output_type": "execute_result"
    }
   ],
   "source": [
    "'''option payoff is non-redudant cannot use replication arguments IOT come up with unique arb free price'''\n",
    "'''3-sum vector'''\n",
    "C0 = 1.25 # <--- Option Payoff\n",
    "M0 = np.array((S0, B0, C0))\n",
    "M0"
   ]
  },
  {
   "cell_type": "code",
   "execution_count": 56,
   "metadata": {},
   "outputs": [
    {
     "data": {
      "text/plain": [
       "array([[20., 11.,  5.],\n",
       "       [10., 11.,  0.],\n",
       "       [ 5., 11.,  0.]])"
      ]
     },
     "execution_count": 56,
     "metadata": {},
     "output_type": "execute_result"
    }
   ],
   "source": [
    "'''Market Matrix'''\n",
    "M"
   ]
  },
  {
   "cell_type": "code",
   "execution_count": 57,
   "metadata": {},
   "outputs": [
    {
     "data": {
      "text/plain": [
       "array([[ 1. ,  0.1,  3. ],\n",
       "       [ 0. ,  0.1, -1. ],\n",
       "       [-0.5,  0.1, -1. ]])"
      ]
     },
     "execution_count": 57,
     "metadata": {},
     "output_type": "execute_result"
    }
   ],
   "source": [
    "'''Return Matrix'''\n",
    "R = M / M0 -1\n",
    "R"
   ]
  },
  {
   "cell_type": "code",
   "execution_count": 58,
   "metadata": {},
   "outputs": [
    {
     "data": {
      "text/plain": [
       "array([0.33333333, 0.33333333, 0.33333333])"
      ]
     },
     "execution_count": 58,
     "metadata": {},
     "output_type": "execute_result"
    }
   ],
   "source": [
    "'''setting a probability vector'''\n",
    "P = np.ones(3) / 3\n",
    "P"
   ]
  },
  {
   "cell_type": "code",
   "execution_count": 59,
   "metadata": {},
   "outputs": [],
   "source": [
    "'''assign R.mean to a vector variable'''\n",
    "r = R.mean(axis=0) # stock, bonds, option"
   ]
  },
  {
   "cell_type": "markdown",
   "metadata": {},
   "source": [
    "## Portfolio Return"
   ]
  },
  {
   "cell_type": "code",
   "execution_count": 60,
   "metadata": {},
   "outputs": [],
   "source": [
    "'''portfolio weights assumed to add up to 1'''\n",
    "phi = np.array((0.3, 0.4, 0.3))"
   ]
  },
  {
   "cell_type": "code",
   "execution_count": 61,
   "metadata": {},
   "outputs": [
    {
     "data": {
      "text/plain": [
       "0.19"
      ]
     },
     "execution_count": 61,
     "metadata": {},
     "output_type": "execute_result"
    }
   ],
   "source": [
    "'''the portfolio return'''\n",
    "np.dot(r, phi)"
   ]
  },
  {
   "cell_type": "markdown",
   "metadata": {},
   "source": [
    "## Volatilities "
   ]
  },
  {
   "cell_type": "markdown",
   "metadata": {},
   "source": [
    "Generally defined as the standard deviation of the returns"
   ]
  },
  {
   "cell_type": "code",
   "execution_count": 62,
   "metadata": {},
   "outputs": [
    {
     "data": {
      "text/plain": [
       "array([[ 1. ,  0.1,  3. ],\n",
       "       [ 0. ,  0.1, -1. ],\n",
       "       [-0.5,  0.1, -1. ]])"
      ]
     },
     "execution_count": 62,
     "metadata": {},
     "output_type": "execute_result"
    }
   ],
   "source": [
    "'''R is the returns matrix'''\n",
    "R"
   ]
  },
  {
   "cell_type": "code",
   "execution_count": 63,
   "metadata": {},
   "outputs": [
    {
     "data": {
      "text/plain": [
       "array([0.62360956, 0.        , 1.88561808])"
      ]
     },
     "execution_count": 63,
     "metadata": {},
     "output_type": "execute_result"
    }
   ],
   "source": [
    "R.std(axis=0) # stocks, bonds, option :: simple model structure and rather extreme S & C values"
   ]
  },
  {
   "cell_type": "markdown",
   "metadata": {},
   "source": [
    "<img src=\"https://i.imgur.com/d28OeSq.png\" width=\"350px\" align=\"right\">"
   ]
  },
  {
   "cell_type": "code",
   "execution_count": null,
   "metadata": {},
   "outputs": [],
   "source": []
  }
 ],
 "metadata": {
  "kernelspec": {
   "display_name": "Python 3",
   "language": "python",
   "name": "python3"
  },
  "language_info": {
   "codemirror_mode": {
    "name": "ipython",
    "version": 3
   },
   "file_extension": ".py",
   "mimetype": "text/x-python",
   "name": "python",
   "nbconvert_exporter": "python",
   "pygments_lexer": "ipython3",
   "version": "3.7.3"
  }
 },
 "nbformat": 4,
 "nbformat_minor": 2
}
