{
 "cells": [
  {
   "cell_type": "markdown",
   "metadata": {},
   "source": [
    "<img src=\"https://i.imgur.com/d28OeSq.png\" width=\"350px\" align=\"right\">"
   ]
  },
  {
   "cell_type": "markdown",
   "metadata": {},
   "source": [
    "# Finance with Python Video 2 "
   ]
  },
  {
   "cell_type": "markdown",
   "metadata": {},
   "source": [
    "Credit to Dr. Yves Hilpisch of The Python Quants GmBH for instructional material"
   ]
  },
  {
   "cell_type": "code",
   "execution_count": 1,
   "metadata": {},
   "outputs": [],
   "source": [
    "import pandas as pd\n",
    "import numpy as np\n",
    "import matplotlib.pyplot as plt"
   ]
  },
  {
   "cell_type": "markdown",
   "metadata": {},
   "source": [
    "## Option Replication and Pricing"
   ]
  },
  {
   "cell_type": "code",
   "execution_count": 2,
   "metadata": {},
   "outputs": [],
   "source": [
    "'''Stocks'''\n",
    "S = np.array((20., 5.)) "
   ]
  },
  {
   "cell_type": "code",
   "execution_count": 3,
   "metadata": {},
   "outputs": [],
   "source": [
    "'''S at time zero'''\n",
    "S0 = 10."
   ]
  },
  {
   "cell_type": "code",
   "execution_count": 4,
   "metadata": {},
   "outputs": [],
   "source": [
    "'''Riskless bond asset'''\n",
    "B = np.array((11.,11.))"
   ]
  },
  {
   "cell_type": "code",
   "execution_count": 5,
   "metadata": {},
   "outputs": [],
   "source": [
    "'''Bond at time zero'''\n",
    "B0 = 10."
   ]
  },
  {
   "cell_type": "code",
   "execution_count": 6,
   "metadata": {},
   "outputs": [
    {
     "data": {
      "text/plain": [
       "array([[20., 11.],\n",
       "       [ 5., 11.]])"
      ]
     },
     "execution_count": 6,
     "metadata": {},
     "output_type": "execute_result"
    }
   ],
   "source": [
    "'''Market matrix'''\n",
    "M = np.array((S, B)).T\n",
    "M"
   ]
  },
  {
   "cell_type": "code",
   "execution_count": 7,
   "metadata": {},
   "outputs": [
    {
     "data": {
      "text/plain": [
       "array([10., 10.])"
      ]
     },
     "execution_count": 7,
     "metadata": {},
     "output_type": "execute_result"
    }
   ],
   "source": [
    "'''Market price vector'''\n",
    "M0 = np.array((S0,B0)).T\n",
    "M0"
   ]
  },
  {
   "cell_type": "code",
   "execution_count": 8,
   "metadata": {},
   "outputs": [
    {
     "data": {
      "text/plain": [
       "array([ 4.5, -3. ])"
      ]
     },
     "execution_count": 8,
     "metadata": {},
     "output_type": "execute_result"
    }
   ],
   "source": [
    "0.5 * S - 0.5 * B"
   ]
  },
  {
   "cell_type": "code",
   "execution_count": 9,
   "metadata": {},
   "outputs": [
    {
     "data": {
      "text/plain": [
       "array([5., 0.])"
      ]
     },
     "execution_count": 9,
     "metadata": {},
     "output_type": "execute_result"
    }
   ],
   "source": [
    "K = 15. # strike price of call option\n",
    "C = np.maximum (S - K, 0) # payoff of call option\n",
    "C"
   ]
  },
  {
   "cell_type": "code",
   "execution_count": 10,
   "metadata": {},
   "outputs": [
    {
     "data": {
      "text/plain": [
       "array([ 0.33333333, -0.15151515])"
      ]
     },
     "execution_count": 10,
     "metadata": {},
     "output_type": "execute_result"
    }
   ],
   "source": [
    "'''Solve for the optimal portfolio'''\n",
    "'''shows we should long .33 bond and short the bond .1515 this \n",
    "is not replicable in the real world because of partial shares isssues'''\n",
    "phi = np.linalg.solve(M, C) # solving for M(market) & C(Call Option)\n",
    "phi #replication portfolio"
   ]
  },
  {
   "cell_type": "code",
   "execution_count": 11,
   "metadata": {},
   "outputs": [
    {
     "data": {
      "text/plain": [
       "array([5.00000000e+00, 2.22044605e-16])"
      ]
     },
     "execution_count": 11,
     "metadata": {},
     "output_type": "execute_result"
    }
   ],
   "source": [
    "np.dot(M, phi)# portfolio payoff = option payoff"
   ]
  },
  {
   "cell_type": "code",
   "execution_count": 12,
   "metadata": {},
   "outputs": [
    {
     "data": {
      "text/plain": [
       "1.8181818181818188"
      ]
     },
     "execution_count": 12,
     "metadata": {},
     "output_type": "execute_result"
    }
   ],
   "source": [
    "C0 = np.dot(M0, phi)# cost to set up portfolio\n",
    "C0"
   ]
  },
  {
   "cell_type": "markdown",
   "metadata": {},
   "source": [
    "1.818 is the arbitrage free price of the option "
   ]
  },
  {
   "cell_type": "markdown",
   "metadata": {},
   "source": [
    "## Fundamental Theorem of Asset Pricing"
   ]
  },
  {
   "cell_type": "markdown",
   "metadata": {},
   "source": [
    "Is a martingale measure and the absence of arbitrage are equivalent\n",
    "http://pi.math.cornell.edu/~mec/Summer2008/spulido/fftap.html"
   ]
  },
  {
   "cell_type": "markdown",
   "metadata": {},
   "source": [
    "### Probability Measure and Expectation "
   ]
  },
  {
   "cell_type": "code",
   "execution_count": 13,
   "metadata": {},
   "outputs": [
    {
     "data": {
      "text/plain": [
       "array([0.5, 0.5])"
      ]
     },
     "execution_count": 13,
     "metadata": {},
     "output_type": "execute_result"
    }
   ],
   "source": [
    "'''explicit modeling represented as 2d matrix; up & down where P == Up state'''\n",
    "P = 0.5\n",
    "P = np.array((P, 1 - P))\n",
    "P"
   ]
  },
  {
   "cell_type": "code",
   "execution_count": 14,
   "metadata": {},
   "outputs": [
    {
     "data": {
      "text/plain": [
       "12.5"
      ]
     },
     "execution_count": 14,
     "metadata": {},
     "output_type": "execute_result"
    }
   ],
   "source": [
    "'''expected value of S'''\n",
    "ES = np.dot(S, P)\n",
    "ES"
   ]
  },
  {
   "cell_type": "code",
   "execution_count": 15,
   "metadata": {},
   "outputs": [
    {
     "data": {
      "text/plain": [
       "11.0"
      ]
     },
     "execution_count": 15,
     "metadata": {},
     "output_type": "execute_result"
    }
   ],
   "source": [
    "'''expected value of B'''\n",
    "EB = np.dot(B,P)\n",
    "EB"
   ]
  },
  {
   "cell_type": "markdown",
   "metadata": {},
   "source": [
    "### Maritingale Property "
   ]
  },
  {
   "cell_type": "code",
   "execution_count": 16,
   "metadata": {},
   "outputs": [
    {
     "data": {
      "text/plain": [
       "0.9090909090909091"
      ]
     },
     "execution_count": 16,
     "metadata": {},
     "output_type": "execute_result"
    }
   ],
   "source": [
    "'''interest rate'''\n",
    "i = 0.1\n",
    "\n",
    "df = 1 / (1 + i)\n",
    "df"
   ]
  },
  {
   "cell_type": "markdown",
   "metadata": {},
   "source": [
    "$Q$ is called a Martingale measure if \n",
    "\n",
    "> $\\frac{1}{1+i}\\cdot E^Q(S_1) = S_0$    \n",
    "\n",
    "holds"
   ]
  },
  {
   "cell_type": "code",
   "execution_count": 17,
   "metadata": {},
   "outputs": [
    {
     "data": {
      "text/plain": [
       "11.363636363636363"
      ]
     },
     "execution_count": 17,
     "metadata": {},
     "output_type": "execute_result"
    }
   ],
   "source": [
    "df * np.dot(S, P)"
   ]
  },
  {
   "cell_type": "code",
   "execution_count": 18,
   "metadata": {},
   "outputs": [
    {
     "data": {
      "text/plain": [
       "10.0"
      ]
     },
     "execution_count": 18,
     "metadata": {},
     "output_type": "execute_result"
    }
   ],
   "source": [
    "S0 # we are looking for S0, the above did not give 10.0\n",
    "# under P, the price process was not a price process"
   ]
  },
  {
   "cell_type": "markdown",
   "metadata": {},
   "source": [
    "## Deriving a Martingale Measure "
   ]
  },
  {
   "cell_type": "code",
   "execution_count": 19,
   "metadata": {},
   "outputs": [],
   "source": [
    "'''minimize an error measure under a constraint'''\n",
    "from scipy.optimize import minimize"
   ]
  },
  {
   "cell_type": "code",
   "execution_count": 20,
   "metadata": {},
   "outputs": [],
   "source": [
    "'''derive an error measure'''\n",
    "def error (Q):\n",
    "    return (np.dot(S, Q) / (1+i) - S0) ** 2 # add the square for convex optimizers; a differentiable smooth function"
   ]
  },
  {
   "cell_type": "code",
   "execution_count": 21,
   "metadata": {},
   "outputs": [
    {
     "data": {
      "text/plain": [
       "1.859504132231404"
      ]
     },
     "execution_count": 21,
     "metadata": {},
     "output_type": "execute_result"
    }
   ],
   "source": [
    "'''call error on P, the up|down 2d matrix'''\n",
    "error(P)"
   ]
  },
  {
   "cell_type": "code",
   "execution_count": 22,
   "metadata": {},
   "outputs": [],
   "source": [
    "'''constraint: the sum of the two vectors need to add to 1'''\n",
    "'''type equation function: lambda Q: Q is supposed to == 1'''\n",
    "cons = ({'type': 'eq', 'fun': lambda Q: Q.sum() - 1}) #this is a probability constraint"
   ]
  },
  {
   "cell_type": "code",
   "execution_count": 23,
   "metadata": {},
   "outputs": [],
   "source": [
    "'''boundaries: 2 elements over which we are going to optimize & the prob measure shall be between 0 and 1'''\n",
    "bnds = ((0,1),(0,1))"
   ]
  },
  {
   "cell_type": "code",
   "execution_count": 24,
   "metadata": {},
   "outputs": [
    {
     "data": {
      "text/plain": [
       "     fun: 1.0172028584007344e-14\n",
       "     jac: array([ 1.25849558e-06, -6.09001821e-07])\n",
       " message: 'Optimization terminated successfully.'\n",
       "    nfev: 9\n",
       "     nit: 2\n",
       "    njev: 2\n",
       "  status: 0\n",
       " success: True\n",
       "       x: array([0.39999999, 0.60000001])"
      ]
     },
     "execution_count": 24,
     "metadata": {},
     "output_type": "execute_result"
    }
   ],
   "source": [
    "''''''\n",
    "res = minimize(error,(0.5, 0.5), bounds=bnds, constraints=cons)\n",
    "res"
   ]
  },
  {
   "cell_type": "code",
   "execution_count": 25,
   "metadata": {},
   "outputs": [
    {
     "data": {
      "text/plain": [
       "0.0"
      ]
     },
     "execution_count": 25,
     "metadata": {},
     "output_type": "execute_result"
    }
   ],
   "source": [
    "round(res['fun'], 5)"
   ]
  },
  {
   "cell_type": "code",
   "execution_count": 26,
   "metadata": {},
   "outputs": [
    {
     "data": {
      "text/plain": [
       "array([0.39999999, 0.60000001])"
      ]
     },
     "execution_count": 26,
     "metadata": {},
     "output_type": "execute_result"
    }
   ],
   "source": [
    "# x is from array shown above\n",
    "Q = res['x']\n",
    "Q"
   ]
  },
  {
   "cell_type": "code",
   "execution_count": 27,
   "metadata": {},
   "outputs": [
    {
     "data": {
      "text/plain": [
       "1.0172028584007344e-14"
      ]
     },
     "execution_count": 27,
     "metadata": {},
     "output_type": "execute_result"
    }
   ],
   "source": [
    "error(Q)"
   ]
  },
  {
   "cell_type": "code",
   "execution_count": 28,
   "metadata": {},
   "outputs": [
    {
     "data": {
      "text/plain": [
       "9.999999899143525"
      ]
     },
     "execution_count": 28,
     "metadata": {},
     "output_type": "execute_result"
    }
   ],
   "source": [
    "np.dot(S,Q) / (1 + i)"
   ]
  },
  {
   "cell_type": "code",
   "execution_count": 29,
   "metadata": {},
   "outputs": [
    {
     "data": {
      "text/plain": [
       "10.0"
      ]
     },
     "execution_count": 29,
     "metadata": {},
     "output_type": "execute_result"
    }
   ],
   "source": [
    "S0"
   ]
  },
  {
   "cell_type": "markdown",
   "metadata": {},
   "source": [
    "### Risk Neutral ('Martingale') Pricing "
   ]
  },
  {
   "cell_type": "code",
   "execution_count": 30,
   "metadata": {},
   "outputs": [
    {
     "data": {
      "text/plain": [
       "array([ 0.33333333, -0.15151515])"
      ]
     },
     "execution_count": 30,
     "metadata": {},
     "output_type": "execute_result"
    }
   ],
   "source": [
    "phi"
   ]
  },
  {
   "cell_type": "code",
   "execution_count": 31,
   "metadata": {},
   "outputs": [
    {
     "data": {
      "text/plain": [
       "array([5.00000000e+00, 2.22044605e-16])"
      ]
     },
     "execution_count": 31,
     "metadata": {},
     "output_type": "execute_result"
    }
   ],
   "source": [
    "np.dot(M, phi)"
   ]
  },
  {
   "cell_type": "code",
   "execution_count": 32,
   "metadata": {},
   "outputs": [
    {
     "data": {
      "text/plain": [
       "1.8181818181818188"
      ]
     },
     "execution_count": 32,
     "metadata": {},
     "output_type": "execute_result"
    }
   ],
   "source": [
    "np.dot(M0, phi)"
   ]
  },
  {
   "cell_type": "code",
   "execution_count": 33,
   "metadata": {},
   "outputs": [
    {
     "data": {
      "text/plain": [
       "2.2727272727272725"
      ]
     },
     "execution_count": 33,
     "metadata": {},
     "output_type": "execute_result"
    }
   ],
   "source": [
    "np.dot(C, P) / (1 + i) # wrong measure OR wrong discount rate"
   ]
  },
  {
   "cell_type": "code",
   "execution_count": 34,
   "metadata": {},
   "outputs": [
    {
     "data": {
      "text/plain": [
       "1.8181817845629937"
      ]
     },
     "execution_count": 34,
     "metadata": {},
     "output_type": "execute_result"
    }
   ],
   "source": [
    "np.dot(C, Q) / (1 + i) # martingale meas in combo with risk free rate"
   ]
  },
  {
   "cell_type": "markdown",
   "metadata": {},
   "source": [
    "### Aproximation by Ordinary Least Squares"
   ]
  },
  {
   "cell_type": "code",
   "execution_count": 35,
   "metadata": {},
   "outputs": [
    {
     "name": "stderr",
     "output_type": "stream",
     "text": [
      "/anaconda3/lib/python3.7/site-packages/ipykernel_launcher.py:2: FutureWarning: `rcond` parameter will change to the default of machine precision times ``max(M, N)`` where M and N are the input matrix dimensions.\n",
      "To use the future default and silence this warning we advise to pass `rcond=None`, to keep using the old, explicitly pass `rcond=-1`.\n",
      "  \n"
     ]
    },
    {
     "data": {
      "text/plain": [
       "array([ 0.33333333, -0.15151515])"
      ]
     },
     "execution_count": 35,
     "metadata": {},
     "output_type": "execute_result"
    }
   ],
   "source": [
    "'''same as phi & np.linalg.solve'''\n",
    "reg = np.linalg.lstsq(M,C)[0]\n",
    "reg"
   ]
  },
  {
   "cell_type": "code",
   "execution_count": 36,
   "metadata": {},
   "outputs": [
    {
     "data": {
      "text/plain": [
       "array([5.00000000e+00, 6.66133815e-16])"
      ]
     },
     "execution_count": 36,
     "metadata": {},
     "output_type": "execute_result"
    }
   ],
   "source": [
    "np.dot(M, reg)"
   ]
  },
  {
   "cell_type": "code",
   "execution_count": 37,
   "metadata": {},
   "outputs": [
    {
     "data": {
      "text/plain": [
       "1.8181818181818188"
      ]
     },
     "execution_count": 37,
     "metadata": {},
     "output_type": "execute_result"
    }
   ],
   "source": [
    "np.dot(M0, reg)"
   ]
  },
  {
   "cell_type": "markdown",
   "metadata": {},
   "source": [
    "### Option Pricing Based on Neural Nets (\"Learning')"
   ]
  },
  {
   "cell_type": "code",
   "execution_count": 38,
   "metadata": {
    "scrolled": true
   },
   "outputs": [
    {
     "data": {
      "text/plain": [
       "array([[20., 11.],\n",
       "       [ 5., 11.]])"
      ]
     },
     "execution_count": 38,
     "metadata": {},
     "output_type": "execute_result"
    }
   ],
   "source": [
    "M # layer 0"
   ]
  },
  {
   "cell_type": "code",
   "execution_count": 39,
   "metadata": {},
   "outputs": [],
   "source": [
    "'''guessing the portfolio by replication with neural nets'''\n",
    "'''initial weights vector'''\n",
    "w = np.array((1., -1.))"
   ]
  },
  {
   "cell_type": "code",
   "execution_count": 40,
   "metadata": {},
   "outputs": [
    {
     "data": {
      "text/plain": [
       "array([ 9., -6.])"
      ]
     },
     "execution_count": 40,
     "metadata": {},
     "output_type": "execute_result"
    }
   ],
   "source": [
    "'''layer 1'''\n",
    "layer1 = np.dot(M, w)  \n",
    "layer1"
   ]
  },
  {
   "cell_type": "code",
   "execution_count": 41,
   "metadata": {},
   "outputs": [
    {
     "data": {
      "text/plain": [
       "array([ 4., -6.])"
      ]
     },
     "execution_count": 41,
     "metadata": {},
     "output_type": "execute_result"
    }
   ],
   "source": [
    "'''deltas'''\n",
    "d = layer1 - C\n",
    "d"
   ]
  },
  {
   "cell_type": "code",
   "execution_count": 42,
   "metadata": {},
   "outputs": [
    {
     "data": {
      "text/plain": [
       "26.0"
      ]
     },
     "execution_count": 42,
     "metadata": {},
     "output_type": "execute_result"
    }
   ],
   "source": [
    "'''mean squared error'''\n",
    "(d ** 2).mean()"
   ]
  },
  {
   "cell_type": "code",
   "execution_count": 43,
   "metadata": {},
   "outputs": [],
   "source": [
    "'''set alpha to [x]'''\n",
    "alpha = 0.01"
   ]
  },
  {
   "cell_type": "code",
   "execution_count": 44,
   "metadata": {},
   "outputs": [
    {
     "data": {
      "text/plain": [
       "array([ 0.96, -0.94])"
      ]
     },
     "execution_count": 44,
     "metadata": {},
     "output_type": "execute_result"
    }
   ],
   "source": [
    "'''update the weight vector - the \"learning\" step '''\n",
    "w -= alpha * d # with in place substraction\n",
    "w"
   ]
  },
  {
   "cell_type": "code",
   "execution_count": 53,
   "metadata": {
    "scrolled": true
   },
   "outputs": [
    {
     "name": "stdout",
     "output_type": "stream",
     "text": [
      "1.7729916163179096e-09\n",
      "1.539226254576981e-09\n",
      "1.3362823833480757e-09\n",
      "1.1600962514542644e-09\n",
      "1.0071399050191329e-09\n",
      "8.743505437482512e-10\n",
      "7.590691914284266e-10\n",
      "6.589874524578808e-10\n",
      "5.721012885211035e-10\n",
      "4.966708897255833e-10\n",
      "4.3118583658436344e-10\n",
      "3.743348553575931e-10\n",
      "3.2497956112844093e-10\n",
      "2.82131662727227e-10\n",
      "2.449331731247443e-10\n",
      "2.1263922920553212e-10\n",
      "1.846031765369193e-10\n",
      "1.6026362075137816e-10\n",
      "1.3913318621385145e-10\n",
      "1.2078875677177544e-10\n",
      "1.0486300327367831e-10\n",
      "9.10370282019665e-11\n",
      "7.903398000040985e-11\n",
      "6.861350944784897e-11\n",
      "5.956695687901023e-11\n",
      "5.171317399210625e-11\n",
      "4.489489650451783e-11\n",
      "3.897559512257364e-11\n",
      "3.383674166471219e-11\n",
      "2.937543565144982e-11\n",
      "2.5502343819866392e-11\n",
      "2.2139911323354693e-11\n",
      "1.922080875835719e-11\n",
      "1.6686583964651873e-11\n",
      "1.4486491589872088e-11\n",
      "1.2576476946209528e-11\n",
      "1.0918293877037618e-11\n",
      "9.478738891679353e-12\n",
      "8.228986323320916e-12\n",
      "7.144011105069731e-12\n",
      "6.2020876780907056e-12\n",
      "5.384354950632078e-12\n",
      "4.674438632104332e-12\n",
      "4.058123343671113e-12\n",
      "3.523067981370827e-12\n",
      "3.058558587653071e-12\n",
      "2.6552938185989326e-12\n",
      "2.3051986950085656e-12\n",
      "2.0012629039284564e-12\n",
      "1.7374004346079767e-12\n",
      "1.508327698362567e-12\n",
      "1.30945773960683e-12\n",
      "1.1368083831556294e-12\n",
      "9.86922494976137e-13\n",
      "8.567987583906132e-13\n",
      "7.438315740076163e-13\n",
      "6.457588832457619e-13\n",
      "5.606168798888896e-13\n",
      "4.86700677830697e-13\n",
      "4.225301767577282e-13\n",
      "3.6682042662670155e-13\n",
      "3.184558944924496e-13\n",
      "2.7646812845226263e-13\n",
      "2.4001636432020886e-13\n",
      "2.0837069199138163e-13\n",
      "1.808974372175513e-13\n",
      "1.570464754688277e-13\n",
      "1.3634021523691126e-13\n",
      "1.183640333437842e-13\n",
      "1.0275797459770486e-13\n",
      "8.920954335055491e-14\n",
      "7.744744526448425e-14\n",
      "6.723615619114532e-14\n",
      "5.837120486862049e-14\n",
      "5.067507922394994e-14\n",
      "4.3993672651160696e-14\n",
      "3.819319576934665e-14\n",
      "3.315749997201128e-14\n",
      "2.878575070081229e-14\n",
      "2.4990407614065947e-14\n",
      "2.169547286837202e-14\n",
      "1.8834968636858688e-14\n",
      "1.6351616144935676e-14\n",
      "1.4195688586340154e-14\n",
      "1.2324015713087973e-14\n",
      "1.0699119109139217e-14\n",
      "9.288461919952398e-15\n",
      "8.06379693278735e-15\n",
      "7.000601607784674e-15\n",
      "6.077586435523492e-15\n",
      "5.276268937235088e-15\n",
      "4.58060354058414e-15\n",
      "3.976660222863824e-15\n",
      "3.4523456393702312e-15\n",
      "2.997160844537227e-15\n",
      "2.6019911932422385e-15\n",
      "2.2589239451042568e-15\n",
      "1.9610893324339647e-15\n",
      "1.7025236682264788e-15\n",
      "1.4780493908424004e-15\n",
      "1.283171573398517e-15\n",
      "1.1139879694883032e-15\n",
      "9.67110909374671e-16\n",
      "8.395993062689808e-16\n",
      "7.288998100690889e-16\n",
      "6.327958732869368e-16\n",
      "5.493629982155897e-16\n",
      "4.769306127356307e-16\n",
      "4.1404827624141345e-16\n",
      "3.5945684429410005e-16\n",
      "3.120631765232549e-16\n",
      "2.7091828134198925e-16\n",
      "2.351982486870194e-16\n",
      "2.0418783969128162e-16\n",
      "1.772660899698826e-16\n",
      "1.538939100989517e-16\n",
      "1.3360330461927824e-16\n",
      "1.1598798308308312e-16\n",
      "1.0069520583105354e-16\n",
      "8.741874089910284e-17\n",
      "7.589275687948424e-17\n",
      "6.588645320126426e-17\n",
      "5.719945825060228e-17\n",
      "4.9657824379137476e-17\n",
      "4.311054211680966e-17\n",
      "3.742650567593373e-17\n",
      "3.24918950826327e-17\n",
      "2.820790553208205e-17\n",
      "2.4488749926187032e-17\n",
      "2.125995698037612e-17\n",
      "1.8456874615348838e-17\n",
      "1.6023371041003946e-17\n",
      "1.391072109171048e-17\n",
      "1.2076621335321256e-17\n",
      "1.0484341733299733e-17\n",
      "9.102003412425932e-18\n",
      "7.901925016447394e-18\n",
      "6.860070241658727e-18\n",
      "5.955583775939949e-18\n",
      "5.1703530834014946e-18\n",
      "4.4886515585399145e-18\n",
      "3.8968321359751335e-18\n",
      "3.383041897229718e-18\n",
      "2.9369952343735116e-18\n",
      "2.5497580307938917e-18\n",
      "2.2135771175756773e-18\n",
      "1.921722498206155e-18\n",
      "1.6683474254159745e-18\n",
      "1.4483791820799979e-18\n",
      "1.2574132354017908e-18\n"
     ]
    }
   ],
   "source": [
    "for _ in range(150):  # range needs to be 150 for teaching purposes :: matches arb free price of ~1.818 at 150\n",
    "    layer1 = np.dot(M, w)\n",
    "    d = layer1 - C\n",
    "    print((d ** 2).mean())\n",
    "    w -= alpha * d"
   ]
  },
  {
   "cell_type": "code",
   "execution_count": 54,
   "metadata": {},
   "outputs": [
    {
     "data": {
      "text/plain": [
       "array([ 0.33333333, -0.15151515])"
      ]
     },
     "execution_count": 54,
     "metadata": {},
     "output_type": "execute_result"
    }
   ],
   "source": [
    "w"
   ]
  },
  {
   "cell_type": "code",
   "execution_count": 55,
   "metadata": {},
   "outputs": [
    {
     "data": {
      "text/plain": [
       "array([ 5., -0.])"
      ]
     },
     "execution_count": 55,
     "metadata": {},
     "output_type": "execute_result"
    }
   ],
   "source": [
    "layer1 = np.dot(M, w)\n",
    "layer1.round(5)"
   ]
  },
  {
   "cell_type": "code",
   "execution_count": 56,
   "metadata": {},
   "outputs": [
    {
     "data": {
      "text/plain": [
       "1.818181817907517"
      ]
     },
     "execution_count": 56,
     "metadata": {},
     "output_type": "execute_result"
    }
   ],
   "source": [
    "np.dot(M0, w)"
   ]
  },
  {
   "cell_type": "markdown",
   "metadata": {},
   "source": [
    "## What was going on above: "
   ]
  },
  {
   "cell_type": "markdown",
   "metadata": {},
   "source": [
    "<img src=\"https://i.imgur.com/z96a78Z.png\" width=\"720px\" align=\"center\">"
   ]
  },
  {
   "cell_type": "markdown",
   "metadata": {},
   "source": [
    "<font color=red size=1> <div align=\"right\">__Image credits to Dr. Yves Hilpisch and The Python Quants__"
   ]
  },
  {
   "cell_type": "markdown",
   "metadata": {},
   "source": [
    "<img src=\"https://i.imgur.com/gbscHEI.png\" width=\"720px\" align=\"center\">"
   ]
  },
  {
   "cell_type": "markdown",
   "metadata": {},
   "source": [
    "<font color=red size=1> <div align=\"right\">__Image credits to Dr. Yves Hilpisch and The Python Quants__"
   ]
  },
  {
   "cell_type": "markdown",
   "metadata": {},
   "source": [
    "## Mean-Variance Portfolio Theory "
   ]
  },
  {
   "cell_type": "code",
   "execution_count": 85,
   "metadata": {},
   "outputs": [
    {
     "data": {
      "text/plain": [
       "array([[20., 11.,  5.],\n",
       "       [10., 11.,  0.],\n",
       "       [ 5., 11.,  0.]])"
      ]
     },
     "execution_count": 85,
     "metadata": {},
     "output_type": "execute_result"
    }
   ],
   "source": [
    "'''Array of 3 Payoffs '''\n",
    "S = np.array((20, 10, 5.))\n",
    "'''Array of 3 Riskless Payoffs '''\n",
    "B = np.array((11., 11, 11))\n",
    "'''Call Option'''\n",
    "C = np.maximum(S - K, 0)\n",
    "'''Market'''\n",
    "M = np.array((S, B, C)).T\n",
    "M"
   ]
  },
  {
   "cell_type": "code",
   "execution_count": 86,
   "metadata": {},
   "outputs": [
    {
     "data": {
      "text/plain": [
       "array([[20., 11.],\n",
       "       [10., 11.],\n",
       "       [ 5., 11.]])"
      ]
     },
     "execution_count": 86,
     "metadata": {},
     "output_type": "execute_result"
    }
   ],
   "source": [
    "'''all rows and first 2 columns'''\n",
    "M[:, :2]"
   ]
  },
  {
   "cell_type": "code",
   "execution_count": 90,
   "metadata": {},
   "outputs": [
    {
     "data": {
      "text/plain": [
       "array([ 0.35714286, -0.22727273])"
      ]
     },
     "execution_count": 90,
     "metadata": {},
     "output_type": "execute_result"
    }
   ],
   "source": [
    "reg = np.linalg.lstsq(M[:,:2], C, rcond=None)[0] # had to pass rcond to stop update msg\n",
    "reg"
   ]
  },
  {
   "cell_type": "code",
   "execution_count": 92,
   "metadata": {},
   "outputs": [
    {
     "data": {
      "text/plain": [
       "array([ 4.64285714,  1.07142857, -0.71428571])"
      ]
     },
     "execution_count": 92,
     "metadata": {},
     "output_type": "execute_result"
    }
   ],
   "source": [
    "'''3 payoff state least squares regression'''\n",
    "np.dot(M[:,:2], reg)"
   ]
  },
  {
   "cell_type": "code",
   "execution_count": 97,
   "metadata": {},
   "outputs": [
    {
     "data": {
      "text/plain": [
       "array([ 0.,  0., -0.])"
      ]
     },
     "execution_count": 97,
     "metadata": {},
     "output_type": "execute_result"
    }
   ],
   "source": [
    "'''another numerical check with exact solver replicating zero vector'''\n",
    "np.linalg.solve(M, np.array((0, 0, 0)))"
   ]
  },
  {
   "cell_type": "code",
   "execution_count": 98,
   "metadata": {},
   "outputs": [
    {
     "data": {
      "text/plain": [
       "array([-0.2       ,  0.36363636,  0.2       ])"
      ]
     },
     "execution_count": 98,
     "metadata": {},
     "output_type": "execute_result"
    }
   ],
   "source": [
    "'''another numerical check with exact solver replicating another vector for complete market'''\n",
    "np.linalg.solve(M, np.array((1, 2, 3)))"
   ]
  },
  {
   "cell_type": "markdown",
   "metadata": {},
   "source": [
    "## Returns "
   ]
  },
  {
   "cell_type": "code",
   "execution_count": 103,
   "metadata": {},
   "outputs": [
    {
     "data": {
      "text/plain": [
       "array([10.  , 10.  ,  1.25])"
      ]
     },
     "execution_count": 103,
     "metadata": {},
     "output_type": "execute_result"
    }
   ],
   "source": [
    "'''option payoff is non-redudant cannot use replication arguments IOT come up with unique arb free price'''\n",
    "'''3-sum vector'''\n",
    "C0 = 1.25 # <--- Option Payoff\n",
    "M0 = np.array((S0, B0, C0))\n",
    "M0"
   ]
  },
  {
   "cell_type": "code",
   "execution_count": 111,
   "metadata": {},
   "outputs": [
    {
     "data": {
      "text/plain": [
       "array([[20., 11.,  5.],\n",
       "       [10., 11.,  0.],\n",
       "       [ 5., 11.,  0.]])"
      ]
     },
     "execution_count": 111,
     "metadata": {},
     "output_type": "execute_result"
    }
   ],
   "source": [
    "'''Market Matrix'''\n",
    "M"
   ]
  },
  {
   "cell_type": "code",
   "execution_count": 113,
   "metadata": {},
   "outputs": [
    {
     "data": {
      "text/plain": [
       "array([[ 1. ,  0.1,  3. ],\n",
       "       [ 0. ,  0.1, -1. ],\n",
       "       [-0.5,  0.1, -1. ]])"
      ]
     },
     "execution_count": 113,
     "metadata": {},
     "output_type": "execute_result"
    }
   ],
   "source": [
    "'''Return Matrix'''\n",
    "R = M / M0 -1\n",
    "R"
   ]
  },
  {
   "cell_type": "code",
   "execution_count": 114,
   "metadata": {},
   "outputs": [
    {
     "data": {
      "text/plain": [
       "array([0.33333333, 0.33333333, 0.33333333])"
      ]
     },
     "execution_count": 114,
     "metadata": {},
     "output_type": "execute_result"
    }
   ],
   "source": [
    "'''setting a probability vector'''\n",
    "P = np.ones(3) / 3\n",
    "P"
   ]
  },
  {
   "cell_type": "code",
   "execution_count": 116,
   "metadata": {},
   "outputs": [],
   "source": [
    "'''assign R.mean to a vector variable'''\n",
    "r = R.mean(axis=0) # stock, bonds, option"
   ]
  },
  {
   "cell_type": "markdown",
   "metadata": {},
   "source": [
    "## Portfolio Return"
   ]
  },
  {
   "cell_type": "code",
   "execution_count": 117,
   "metadata": {},
   "outputs": [],
   "source": [
    "'''portfolio weights assumed to add up to 1'''\n",
    "phi = np.array((0.3, 0.4, 0.3))"
   ]
  },
  {
   "cell_type": "code",
   "execution_count": 124,
   "metadata": {},
   "outputs": [
    {
     "data": {
      "text/plain": [
       "0.19"
      ]
     },
     "execution_count": 124,
     "metadata": {},
     "output_type": "execute_result"
    }
   ],
   "source": [
    "'''the portfolio return'''\n",
    "np.dot(r, phi)"
   ]
  },
  {
   "cell_type": "markdown",
   "metadata": {},
   "source": [
    "## Volatilities "
   ]
  },
  {
   "cell_type": "markdown",
   "metadata": {},
   "source": [
    "Generally defined as the standard deviation of the returns"
   ]
  },
  {
   "cell_type": "code",
   "execution_count": 125,
   "metadata": {},
   "outputs": [
    {
     "data": {
      "text/plain": [
       "array([[ 1. ,  0.1,  3. ],\n",
       "       [ 0. ,  0.1, -1. ],\n",
       "       [-0.5,  0.1, -1. ]])"
      ]
     },
     "execution_count": 125,
     "metadata": {},
     "output_type": "execute_result"
    }
   ],
   "source": [
    "'''R is the returns matrix'''\n",
    "R"
   ]
  },
  {
   "cell_type": "code",
   "execution_count": 127,
   "metadata": {},
   "outputs": [
    {
     "data": {
      "text/plain": [
       "array([0.62360956, 0.        , 1.88561808])"
      ]
     },
     "execution_count": 127,
     "metadata": {},
     "output_type": "execute_result"
    }
   ],
   "source": [
    "R.std(axis=0) # stocks, bonds, option :: simple model structure and rather extreme S & C values"
   ]
  },
  {
   "cell_type": "markdown",
   "metadata": {},
   "source": [
    "<img src=\"https://i.imgur.com/d28OeSq.png\" width=\"350px\" align=\"right\">"
   ]
  },
  {
   "cell_type": "code",
   "execution_count": null,
   "metadata": {},
   "outputs": [],
   "source": []
  }
 ],
 "metadata": {
  "kernelspec": {
   "display_name": "Python 3",
   "language": "python",
   "name": "python3"
  },
  "language_info": {
   "codemirror_mode": {
    "name": "ipython",
    "version": 3
   },
   "file_extension": ".py",
   "mimetype": "text/x-python",
   "name": "python",
   "nbconvert_exporter": "python",
   "pygments_lexer": "ipython3",
   "version": "3.7.3"
  }
 },
 "nbformat": 4,
 "nbformat_minor": 2
}
