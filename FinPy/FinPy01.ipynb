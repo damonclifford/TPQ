{
 "cells": [
  {
   "cell_type": "markdown",
   "metadata": {},
   "source": [
    "<img src=\"https://i.imgur.com/d28OeSq.png\" width=\"350px\" align=\"right\">"
   ]
  },
  {
   "cell_type": "markdown",
   "metadata": {},
   "source": [
    "# `Finance With Python` \n",
    "\n",
    "## <font color=red> Video Overview\n",
    "* static two state economy: fundamental theorem of asset pricing\n",
    "* static three state ec: dealing with mkt incompleteness\n",
    "* state multi-state ec: generalizing the state space\n",
    "* dynamic ec: modeling uncertainty over time"
   ]
  },
  {
   "cell_type": "code",
   "execution_count": 1,
   "metadata": {},
   "outputs": [],
   "source": [
    "import numpy as np\n",
    "import pandas as pd"
   ]
  },
  {
   "cell_type": "markdown",
   "metadata": {},
   "source": [
    "## <font color=red> __Static Two State Economy__"
   ]
  },
  {
   "cell_type": "markdown",
   "metadata": {},
   "source": [
    "### <font color=red> Cash"
   ]
  },
  {
   "cell_type": "code",
   "execution_count": 2,
   "metadata": {},
   "outputs": [],
   "source": [
    "c = 10 # c = cash"
   ]
  },
  {
   "cell_type": "code",
   "execution_count": 3,
   "metadata": {},
   "outputs": [
    {
     "data": {
      "text/plain": [
       "float"
      ]
     },
     "execution_count": 3,
     "metadata": {},
     "output_type": "execute_result"
    }
   ],
   "source": [
    "c = 5.75\n",
    "type(c)"
   ]
  },
  {
   "cell_type": "markdown",
   "metadata": {},
   "source": [
    "### <font color=red> Interest Rate"
   ]
  },
  {
   "cell_type": "code",
   "execution_count": 4,
   "metadata": {},
   "outputs": [],
   "source": [
    "i = 0.1"
   ]
  },
  {
   "cell_type": "code",
   "execution_count": 5,
   "metadata": {},
   "outputs": [],
   "source": [
    "df = 1 / (1 + i)"
   ]
  },
  {
   "cell_type": "code",
   "execution_count": 6,
   "metadata": {},
   "outputs": [
    {
     "data": {
      "text/plain": [
       "0.9090909090909091"
      ]
     },
     "execution_count": 6,
     "metadata": {},
     "output_type": "execute_result"
    }
   ],
   "source": [
    "df"
   ]
  },
  {
   "cell_type": "markdown",
   "metadata": {},
   "source": [
    "### <font color=red> Present Value &mdash; Python"
   ]
  },
  {
   "cell_type": "code",
   "execution_count": 7,
   "metadata": {},
   "outputs": [
    {
     "data": {
      "text/plain": [
       "5.2272727272727275"
      ]
     },
     "execution_count": 7,
     "metadata": {},
     "output_type": "execute_result"
    }
   ],
   "source": [
    "c * df  # simple present value on n of 1"
   ]
  },
  {
   "cell_type": "code",
   "execution_count": 8,
   "metadata": {},
   "outputs": [],
   "source": [
    "cl = [10, 12.5, 15, 20]"
   ]
  },
  {
   "cell_type": "code",
   "execution_count": 9,
   "metadata": {},
   "outputs": [
    {
     "name": "stdout",
     "output_type": "stream",
     "text": [
      "10\n",
      "12.5\n",
      "15\n",
      "20\n"
     ]
    }
   ],
   "source": [
    "for c in cl:\n",
    "    print(c)"
   ]
  },
  {
   "cell_type": "code",
   "execution_count": 10,
   "metadata": {},
   "outputs": [
    {
     "name": "stdout",
     "output_type": "stream",
     "text": [
      "9.09090909090909\n",
      "11.363636363636363\n",
      "13.636363636363637\n",
      "18.18181818181818\n"
     ]
    }
   ],
   "source": [
    "for c in cl:\n",
    "    print(c * df)"
   ]
  },
  {
   "cell_type": "code",
   "execution_count": 11,
   "metadata": {},
   "outputs": [
    {
     "name": "stdout",
     "output_type": "stream",
     "text": [
      "10\n",
      "12.5\n",
      "15\n",
      "20\n"
     ]
    }
   ],
   "source": [
    "for t in range(4):\n",
    "    print(cl[t]) # print by index example"
   ]
  },
  {
   "cell_type": "code",
   "execution_count": 12,
   "metadata": {},
   "outputs": [
    {
     "data": {
      "text/plain": [
       "10"
      ]
     },
     "execution_count": 12,
     "metadata": {},
     "output_type": "execute_result"
    }
   ],
   "source": [
    "cl[0] # was simple indexing example"
   ]
  },
  {
   "cell_type": "code",
   "execution_count": 13,
   "metadata": {},
   "outputs": [
    {
     "name": "stdout",
     "output_type": "stream",
     "text": [
      "10.0\n",
      "11.363636363636363\n",
      "12.396694214876032\n",
      "15.02629601803155\n"
     ]
    }
   ],
   "source": [
    "for t in range(4):\n",
    "    print(cl[t] / (1 + i) ** t)  # tvm example for cashflows"
   ]
  },
  {
   "cell_type": "code",
   "execution_count": 14,
   "metadata": {},
   "outputs": [
    {
     "data": {
      "text/plain": [
       "57.5"
      ]
     },
     "execution_count": 14,
     "metadata": {},
     "output_type": "execute_result"
    }
   ],
   "source": [
    "sum(cl) #sum of cashflows"
   ]
  },
  {
   "cell_type": "code",
   "execution_count": 15,
   "metadata": {},
   "outputs": [
    {
     "name": "stdout",
     "output_type": "stream",
     "text": [
      "48.78662659654395\n"
     ]
    }
   ],
   "source": [
    "s = 0\n",
    "for t in range(4):\n",
    "    s += (cl[t] / (1 + i) ** t)  # inplace addition for summing present value with discount rate\n",
    "print(s)"
   ]
  },
  {
   "cell_type": "markdown",
   "metadata": {},
   "source": [
    "## <font color=red> Present Value &mdash; Numpy "
   ]
  },
  {
   "cell_type": "code",
   "execution_count": 16,
   "metadata": {},
   "outputs": [],
   "source": [
    "a = np.arange(4) # remember that arange is similar to range"
   ]
  },
  {
   "cell_type": "code",
   "execution_count": 17,
   "metadata": {},
   "outputs": [
    {
     "data": {
      "text/plain": [
       "2"
      ]
     },
     "execution_count": 17,
     "metadata": {},
     "output_type": "execute_result"
    }
   ],
   "source": [
    "a[2] # simple indexing example"
   ]
  },
  {
   "cell_type": "code",
   "execution_count": 18,
   "metadata": {},
   "outputs": [
    {
     "data": {
      "text/plain": [
       "array([10. , 12.5, 15. , 20. ])"
      ]
     },
     "execution_count": 18,
     "metadata": {},
     "output_type": "execute_result"
    }
   ],
   "source": [
    "a = np.array(cl)\n",
    "a"
   ]
  },
  {
   "cell_type": "markdown",
   "metadata": {},
   "source": [
    "#### <font color=red> Vectorized Operations with Numpy"
   ]
  },
  {
   "cell_type": "code",
   "execution_count": 19,
   "metadata": {},
   "outputs": [
    {
     "data": {
      "text/plain": [
       "[10, 12.5, 15, 20, 10, 12.5, 15, 20]"
      ]
     },
     "execution_count": 19,
     "metadata": {},
     "output_type": "execute_result"
    }
   ],
   "source": [
    "2 * cl"
   ]
  },
  {
   "cell_type": "code",
   "execution_count": 20,
   "metadata": {},
   "outputs": [
    {
     "data": {
      "text/plain": [
       "[10, 12.5, 15, 20, 10, 12.5, 15, 20]"
      ]
     },
     "execution_count": 20,
     "metadata": {},
     "output_type": "execute_result"
    }
   ],
   "source": [
    "cl + cl # only appends or concatentes a list"
   ]
  },
  {
   "cell_type": "code",
   "execution_count": 21,
   "metadata": {},
   "outputs": [
    {
     "data": {
      "text/plain": [
       "array([20., 25., 30., 40.])"
      ]
     },
     "execution_count": 21,
     "metadata": {},
     "output_type": "execute_result"
    }
   ],
   "source": [
    "2 * a # scalar operations in linear algebra"
   ]
  },
  {
   "cell_type": "code",
   "execution_count": 22,
   "metadata": {},
   "outputs": [
    {
     "data": {
      "text/plain": [
       "array([20., 25., 30., 40.])"
      ]
     },
     "execution_count": 22,
     "metadata": {},
     "output_type": "execute_result"
    }
   ],
   "source": [
    "a + a # array has element wise operations"
   ]
  },
  {
   "cell_type": "code",
   "execution_count": 23,
   "metadata": {},
   "outputs": [
    {
     "data": {
      "text/plain": [
       "array([0., 0., 0., 0.])"
      ]
     },
     "execution_count": 23,
     "metadata": {},
     "output_type": "execute_result"
    }
   ],
   "source": [
    "a - a # more element wise ops"
   ]
  },
  {
   "cell_type": "code",
   "execution_count": 24,
   "metadata": {},
   "outputs": [
    {
     "data": {
      "text/plain": [
       "array([1., 1., 1., 1.])"
      ]
     },
     "execution_count": 24,
     "metadata": {},
     "output_type": "execute_result"
    }
   ],
   "source": [
    "a / a"
   ]
  },
  {
   "cell_type": "code",
   "execution_count": 25,
   "metadata": {},
   "outputs": [
    {
     "data": {
      "text/plain": [
       "array([10. , 12.5, 15. , 20. ])"
      ]
     },
     "execution_count": 25,
     "metadata": {},
     "output_type": "execute_result"
    }
   ],
   "source": [
    "a # scalar ops do not effect original array"
   ]
  },
  {
   "cell_type": "code",
   "execution_count": 26,
   "metadata": {},
   "outputs": [
    {
     "data": {
      "text/plain": [
       "array([0, 1, 2, 3])"
      ]
     },
     "execution_count": 26,
     "metadata": {},
     "output_type": "execute_result"
    }
   ],
   "source": [
    "t = np.arange(4)\n",
    "t"
   ]
  },
  {
   "cell_type": "code",
   "execution_count": 27,
   "metadata": {},
   "outputs": [
    {
     "data": {
      "text/plain": [
       "array([100.  , 156.25, 225.  , 400.  ])"
      ]
     },
     "execution_count": 27,
     "metadata": {},
     "output_type": "execute_result"
    }
   ],
   "source": [
    "a ** 2 # showing more basic ops"
   ]
  },
  {
   "cell_type": "code",
   "execution_count": 28,
   "metadata": {
    "scrolled": true
   },
   "outputs": [
    {
     "data": {
      "text/plain": [
       "array([1.02400000e+03, 5.79261875e+03, 3.27680000e+04, 1.04857600e+06])"
      ]
     },
     "execution_count": 28,
     "metadata": {},
     "output_type": "execute_result"
    }
   ],
   "source": [
    "2 ** a"
   ]
  },
  {
   "cell_type": "code",
   "execution_count": 29,
   "metadata": {
    "scrolled": true
   },
   "outputs": [
    {
     "data": {
      "text/plain": [
       "array([1.   , 1.1  , 1.21 , 1.331])"
      ]
     },
     "execution_count": 29,
     "metadata": {},
     "output_type": "execute_result"
    }
   ],
   "source": [
    "(1 + i) ** t"
   ]
  },
  {
   "cell_type": "code",
   "execution_count": 30,
   "metadata": {
    "scrolled": true
   },
   "outputs": [
    {
     "data": {
      "text/plain": [
       "array([1.        , 0.90909091, 0.82644628, 0.7513148 ])"
      ]
     },
     "execution_count": 30,
     "metadata": {},
     "output_type": "execute_result"
    }
   ],
   "source": [
    "(1 + i) ** (-t)"
   ]
  },
  {
   "cell_type": "code",
   "execution_count": 31,
   "metadata": {},
   "outputs": [
    {
     "data": {
      "text/plain": [
       "array([10. , 12.5, 15. , 20. ])"
      ]
     },
     "execution_count": 31,
     "metadata": {},
     "output_type": "execute_result"
    }
   ],
   "source": [
    "a"
   ]
  },
  {
   "cell_type": "code",
   "execution_count": 32,
   "metadata": {},
   "outputs": [
    {
     "data": {
      "text/plain": [
       "0.9090909090909091"
      ]
     },
     "execution_count": 32,
     "metadata": {},
     "output_type": "execute_result"
    }
   ],
   "source": [
    "df"
   ]
  },
  {
   "cell_type": "code",
   "execution_count": 33,
   "metadata": {},
   "outputs": [
    {
     "data": {
      "text/plain": [
       "array([ 9.09090909, 11.36363636, 13.63636364, 18.18181818])"
      ]
     },
     "execution_count": 33,
     "metadata": {},
     "output_type": "execute_result"
    }
   ],
   "source": [
    "a * df"
   ]
  },
  {
   "cell_type": "code",
   "execution_count": 34,
   "metadata": {},
   "outputs": [
    {
     "data": {
      "text/plain": [
       "52.27272727272727"
      ]
     },
     "execution_count": 34,
     "metadata": {},
     "output_type": "execute_result"
    }
   ],
   "source": [
    "sum (a * df)"
   ]
  },
  {
   "cell_type": "markdown",
   "metadata": {},
   "source": [
    "## <font color=red> Traded Financial Assets\n",
    "\n",
    "* Static TWO state economy"
   ]
  },
  {
   "cell_type": "code",
   "execution_count": 35,
   "metadata": {},
   "outputs": [],
   "source": [
    "S = np.array((20., 5.)) # stock pays either 20 or 5 tomorrow"
   ]
  },
  {
   "cell_type": "code",
   "execution_count": 36,
   "metadata": {},
   "outputs": [],
   "source": [
    "S0 = 10. # define price today"
   ]
  },
  {
   "cell_type": "code",
   "execution_count": 37,
   "metadata": {},
   "outputs": [],
   "source": [
    "B = np.array((11., 11.)) # introduce a riskless asset, a bond"
   ]
  },
  {
   "cell_type": "code",
   "execution_count": 38,
   "metadata": {},
   "outputs": [],
   "source": [
    "B0 = 10. # using . makes the variable a float"
   ]
  },
  {
   "cell_type": "markdown",
   "metadata": {},
   "source": [
    "## <font color=red> The Market "
   ]
  },
  {
   "cell_type": "code",
   "execution_count": 39,
   "metadata": {},
   "outputs": [],
   "source": [
    "M = np.array((S, B)).T # market matrix # capital T transposes M"
   ]
  },
  {
   "cell_type": "code",
   "execution_count": 40,
   "metadata": {},
   "outputs": [
    {
     "data": {
      "text/plain": [
       "array([[20., 11.],\n",
       "       [ 5., 11.]])"
      ]
     },
     "execution_count": 40,
     "metadata": {},
     "output_type": "execute_result"
    }
   ],
   "source": [
    "M"
   ]
  },
  {
   "cell_type": "code",
   "execution_count": 41,
   "metadata": {},
   "outputs": [
    {
     "data": {
      "text/plain": [
       "array([10., 10.])"
      ]
     },
     "execution_count": 41,
     "metadata": {},
     "output_type": "execute_result"
    }
   ],
   "source": [
    "M0 = np.array((S0, B0)) # the market at time zero\n",
    "M0"
   ]
  },
  {
   "cell_type": "markdown",
   "metadata": {},
   "source": [
    "## <font color= red> A portfolio "
   ]
  },
  {
   "cell_type": "code",
   "execution_count": 42,
   "metadata": {},
   "outputs": [
    {
     "data": {
      "text/plain": [
       "array([2, 3])"
      ]
     },
     "execution_count": 42,
     "metadata": {},
     "output_type": "execute_result"
    }
   ],
   "source": [
    "phi = np.array((2, 3)) # the greek letter phi for portolio; this is a vector; 2 stocks and 3 bonds\n",
    "phi"
   ]
  },
  {
   "cell_type": "code",
   "execution_count": 43,
   "metadata": {},
   "outputs": [
    {
     "data": {
      "text/plain": [
       "array([73., 43.])"
      ]
     },
     "execution_count": 43,
     "metadata": {},
     "output_type": "execute_result"
    }
   ],
   "source": [
    "phi[0] * S + phi[1] * B # explicit way of constructing overal portfolio payoff of buying today and tomorrow"
   ]
  },
  {
   "cell_type": "code",
   "execution_count": 44,
   "metadata": {},
   "outputs": [
    {
     "data": {
      "text/plain": [
       "50.0"
      ]
     },
     "execution_count": 44,
     "metadata": {},
     "output_type": "execute_result"
    }
   ],
   "source": [
    "phi[0] * S0 + phi[1] * B0 # "
   ]
  },
  {
   "cell_type": "code",
   "execution_count": 45,
   "metadata": {},
   "outputs": [
    {
     "data": {
      "text/plain": [
       "array([73., 43.])"
      ]
     },
     "execution_count": 45,
     "metadata": {},
     "output_type": "execute_result"
    }
   ],
   "source": [
    "np.dot(M, phi)"
   ]
  },
  {
   "cell_type": "code",
   "execution_count": 46,
   "metadata": {},
   "outputs": [
    {
     "data": {
      "text/plain": [
       "array([ 2, -3])"
      ]
     },
     "execution_count": 46,
     "metadata": {},
     "output_type": "execute_result"
    }
   ],
   "source": [
    "phi = np.array((2, -3)) # the greek letter phi for portolio; this is a vector; 2 stocks and 3 bonds\n",
    "phi"
   ]
  },
  {
   "cell_type": "code",
   "execution_count": 47,
   "metadata": {},
   "outputs": [
    {
     "data": {
      "text/plain": [
       "array([  7., -23.])"
      ]
     },
     "execution_count": 47,
     "metadata": {},
     "output_type": "execute_result"
    }
   ],
   "source": [
    "phi[0] * S + phi[1] * B # explicit way of constructing overal portfolio payoff of buying today and tomorrow"
   ]
  },
  {
   "cell_type": "code",
   "execution_count": 48,
   "metadata": {},
   "outputs": [
    {
     "data": {
      "text/plain": [
       "-10.0"
      ]
     },
     "execution_count": 48,
     "metadata": {},
     "output_type": "execute_result"
    }
   ],
   "source": [
    "phi[0] * S0 + phi[1] * B0 # "
   ]
  },
  {
   "cell_type": "code",
   "execution_count": 49,
   "metadata": {},
   "outputs": [
    {
     "data": {
      "text/plain": [
       "array([  7., -23.])"
      ]
     },
     "execution_count": 49,
     "metadata": {},
     "output_type": "execute_result"
    }
   ],
   "source": [
    "np.dot(M, phi) # same as phi[0] * S + phi[1] * B"
   ]
  },
  {
   "cell_type": "markdown",
   "metadata": {},
   "source": [
    "## <font color=red> A Call Option "
   ]
  },
  {
   "cell_type": "code",
   "execution_count": 50,
   "metadata": {},
   "outputs": [],
   "source": [
    "K = 15.\n",
    "C = np.maximum(S - K, 0) # max function makes sure the lowest is 0"
   ]
  },
  {
   "cell_type": "code",
   "execution_count": 51,
   "metadata": {},
   "outputs": [
    {
     "data": {
      "text/plain": [
       "array([  5., -10.])"
      ]
     },
     "execution_count": 51,
     "metadata": {},
     "output_type": "execute_result"
    }
   ],
   "source": [
    "S - K"
   ]
  },
  {
   "cell_type": "markdown",
   "metadata": {},
   "source": [
    "## <font color=red> Expected Return"
   ]
  },
  {
   "cell_type": "code",
   "execution_count": 52,
   "metadata": {},
   "outputs": [],
   "source": [
    "def ret(x, x0):\n",
    "    return x.mean() / x0 - 1"
   ]
  },
  {
   "cell_type": "code",
   "execution_count": 53,
   "metadata": {},
   "outputs": [
    {
     "data": {
      "text/plain": [
       "0.25"
      ]
     },
     "execution_count": 53,
     "metadata": {},
     "output_type": "execute_result"
    }
   ],
   "source": [
    "S.mean() / S0 - 1 # S.mean = avg value of the future payoff :: S.mean / S0 == relative performance"
   ]
  },
  {
   "cell_type": "code",
   "execution_count": 54,
   "metadata": {},
   "outputs": [
    {
     "data": {
      "text/plain": [
       "0.25"
      ]
     },
     "execution_count": 54,
     "metadata": {},
     "output_type": "execute_result"
    }
   ],
   "source": [
    "\"\"\"checking stock return\"\"\"\n",
    "rS = ret(S, S0)\n",
    "rS"
   ]
  },
  {
   "cell_type": "code",
   "execution_count": 55,
   "metadata": {},
   "outputs": [
    {
     "data": {
      "text/plain": [
       "0.10000000000000009"
      ]
     },
     "execution_count": 55,
     "metadata": {},
     "output_type": "execute_result"
    }
   ],
   "source": [
    "'''Checking bond return'''\n",
    "rB = ret(B, B0)\n",
    "rB"
   ]
  },
  {
   "cell_type": "markdown",
   "metadata": {},
   "source": [
    "## <font color= red> Option Valuation &mdash; Wrong Way "
   ]
  },
  {
   "cell_type": "code",
   "execution_count": 56,
   "metadata": {},
   "outputs": [
    {
     "data": {
      "text/plain": [
       "2.0"
      ]
     },
     "execution_count": 56,
     "metadata": {},
     "output_type": "execute_result"
    }
   ],
   "source": [
    "C.mean() / (1 + rS) # discounting with exp ret of stock"
   ]
  },
  {
   "cell_type": "code",
   "execution_count": 57,
   "metadata": {},
   "outputs": [
    {
     "data": {
      "text/plain": [
       "2.2727272727272725"
      ]
     },
     "execution_count": 57,
     "metadata": {},
     "output_type": "execute_result"
    }
   ],
   "source": [
    "C.mean() / (1 + rB) # discounting with exp ret of bond"
   ]
  },
  {
   "cell_type": "markdown",
   "metadata": {},
   "source": [
    "## <font color=red> Span of Financial Traded Assets"
   ]
  },
  {
   "cell_type": "markdown",
   "metadata": {},
   "source": [
    "Span is a linear algebra term: a linear combo of two vectors representing the uncertain future payoff of our two assets similar to np.dot (explicit) and phi[0] * S + phi[1] * B (matrix form)\n",
    "\n",
    "\n",
    "All the results that we can expect for different values of phi0 and phi1\n"
   ]
  },
  {
   "cell_type": "code",
   "execution_count": 58,
   "metadata": {},
   "outputs": [],
   "source": [
    "from pylab import plt\n",
    "plt.style.use('seaborn')\n",
    "%matplotlib inline "
   ]
  },
  {
   "cell_type": "code",
   "execution_count": 59,
   "metadata": {},
   "outputs": [],
   "source": [
    "'''random allocation to stock'''\n",
    "s = np.random.random(250) # 250 reps amount of pseudo random numbers into array object"
   ]
  },
  {
   "cell_type": "code",
   "execution_count": 60,
   "metadata": {
    "collapsed": true
   },
   "outputs": [
    {
     "data": {
      "text/plain": [
       "array([0.1439152 , 0.61932603, 0.40552209, 0.28552553, 0.12575326,\n",
       "       0.70245871, 0.10017182, 0.9975142 , 0.2719497 , 0.29461359,\n",
       "       0.21359592, 0.53912599, 0.13242135, 0.0242027 , 0.33436483,\n",
       "       0.70018647, 0.71611215, 0.70127772, 0.56171046, 0.67305758,\n",
       "       0.26454751, 0.17105936, 0.16170284, 0.13938738, 0.15032449,\n",
       "       0.42805067, 0.85357187, 0.82813503, 0.01940636, 0.94439595,\n",
       "       0.52742173, 0.08767833, 0.09798795, 0.88593715, 0.8861059 ,\n",
       "       0.88259678, 0.59769056, 0.45946324, 0.79688338, 0.59936037,\n",
       "       0.731636  , 0.13014533, 0.40156847, 0.35102867, 0.05764236,\n",
       "       0.20420382, 0.59931845, 0.85912919, 0.64209171, 0.83827974,\n",
       "       0.96272607, 0.74530641, 0.5956775 , 0.27771222, 0.18723525,\n",
       "       0.50216173, 0.13311451, 0.95677454, 0.15312308, 0.68302758,\n",
       "       0.85966893, 0.56266109, 0.91503899, 0.95473537, 0.31802467,\n",
       "       0.3876915 , 0.50713284, 0.70508992, 0.25798129, 0.50273095,\n",
       "       0.72850299, 0.14884557, 0.21515788, 0.9391163 , 0.27261918,\n",
       "       0.45024087, 0.68943467, 0.73614729, 0.16448172, 0.7640977 ,\n",
       "       0.79673252, 0.83052485, 0.01177577, 0.34500968, 0.74673573,\n",
       "       0.03215045, 0.87442615, 0.30529123, 0.0197762 , 0.09421955,\n",
       "       0.99546956, 0.69154935, 0.33922236, 0.3472274 , 0.40804731,\n",
       "       0.73440496, 0.63910325, 0.87794986, 0.41003037, 0.69166139,\n",
       "       0.93269601, 0.55300959, 0.95489076, 0.85580532, 0.89090981,\n",
       "       0.45347989, 0.13860183, 0.93141267, 0.05809671, 0.48893535,\n",
       "       0.88626621, 0.2506136 , 0.53993621, 0.37539525, 0.24421223,\n",
       "       0.78064856, 0.99100322, 0.62836017, 0.28725901, 0.33006309,\n",
       "       0.52824427, 0.90696774, 0.0493567 , 0.52485429, 0.79721593,\n",
       "       0.71865378, 0.06653206, 0.11222038, 0.65825889, 0.40667482,\n",
       "       0.91092339, 0.29200337, 0.47090162, 0.23043411, 0.697304  ,\n",
       "       0.05806573, 0.69206327, 0.96427349, 0.97316955, 0.13882839,\n",
       "       0.54866936, 0.75580594, 0.57849415, 0.41960688, 0.36633283,\n",
       "       0.71793825, 0.87838881, 0.44389121, 0.87375545, 0.12744847,\n",
       "       0.8433982 , 0.49805351, 0.24600056, 0.63530987, 0.58279507,\n",
       "       0.16553438, 0.57679286, 0.64231532, 0.59656664, 0.61279809,\n",
       "       0.20713968, 0.04673076, 0.47624656, 0.91411829, 0.21167107,\n",
       "       0.53739388, 0.21563452, 0.8311999 , 0.39352219, 0.25433022,\n",
       "       0.91989837, 0.18728761, 0.56152246, 0.93972465, 0.29885124,\n",
       "       0.44572089, 0.72846495, 0.60354255, 0.38865453, 0.387898  ,\n",
       "       0.98055391, 0.81298578, 0.46998548, 0.42177078, 0.02236364,\n",
       "       0.55800194, 0.72022531, 0.97498376, 0.01438925, 0.41365724,\n",
       "       0.5486182 , 0.12766211, 0.57391092, 0.24881714, 0.09489015,\n",
       "       0.77611372, 0.25627865, 0.14326156, 0.18633676, 0.70417081,\n",
       "       0.41418794, 0.50097472, 0.86078893, 0.42322313, 0.4422725 ,\n",
       "       0.57197077, 0.70486611, 0.81200219, 0.99946007, 0.80654843,\n",
       "       0.86496991, 0.51968495, 0.74147979, 0.87439094, 0.56294502,\n",
       "       0.41158845, 0.6536943 , 0.91298463, 0.64573298, 0.98131191,\n",
       "       0.79635536, 0.12096735, 0.79638073, 0.07177544, 0.66844887,\n",
       "       0.39179848, 0.02281297, 0.47638754, 0.57848797, 0.36491662,\n",
       "       0.76372115, 0.07578451, 0.08840585, 0.80623573, 0.37745764,\n",
       "       0.18058916, 0.09677879, 0.01365684, 0.98669439, 0.38589866,\n",
       "       0.91001279, 0.20900295, 0.94146825, 0.84287924, 0.71691857,\n",
       "       0.95178547, 0.44843119, 0.74156186, 0.70243867, 0.89855121])"
      ]
     },
     "execution_count": 60,
     "metadata": {},
     "output_type": "execute_result"
    }
   ],
   "source": [
    "'''random allocation to bonds; the complement of stocks: S + B = 1'''\n",
    "1 - s "
   ]
  },
  {
   "cell_type": "code",
   "execution_count": 61,
   "metadata": {},
   "outputs": [
    {
     "data": {
      "text/plain": [
       "array([18.70476323,  5.86349118])"
      ]
     },
     "execution_count": 61,
     "metadata": {},
     "output_type": "execute_result"
    }
   ],
   "source": [
    "s[0] * S + (1 - s[0]) * B"
   ]
  },
  {
   "cell_type": "code",
   "execution_count": 62,
   "metadata": {},
   "outputs": [
    {
     "data": {
      "text/plain": [
       "array([0.8560848, 0.1439152])"
      ]
     },
     "execution_count": 62,
     "metadata": {},
     "output_type": "execute_result"
    }
   ],
   "source": [
    "phi = np.array((s[0], 1 - s[0]))\n",
    "phi"
   ]
  },
  {
   "cell_type": "code",
   "execution_count": 63,
   "metadata": {},
   "outputs": [
    {
     "data": {
      "text/plain": [
       "array([18.70476323,  5.86349118])"
      ]
     },
     "execution_count": 63,
     "metadata": {},
     "output_type": "execute_result"
    }
   ],
   "source": [
    "np.dot(M, phi) # same as s[0] * S + (1 - s[0]) * B"
   ]
  },
  {
   "cell_type": "code",
   "execution_count": 64,
   "metadata": {},
   "outputs": [],
   "source": [
    "'''collecting the data set of 250 pseudo randoms'''\n",
    "# a list object\n",
    "pl = []\n",
    "for i in s:\n",
    "    pl.append(i * S + (1 - i) * B) # did not need to index i in s[i]"
   ]
  },
  {
   "cell_type": "code",
   "execution_count": 65,
   "metadata": {},
   "outputs": [],
   "source": [
    "pl = np.array(pl)"
   ]
  },
  {
   "cell_type": "code",
   "execution_count": 66,
   "metadata": {},
   "outputs": [
    {
     "data": {
      "image/png": "[encoded data removed]",
      "text/plain": [
       "<Figure size 432x288 with 1 Axes>"
      ]
     },
     "metadata": {
      "needs_background": "light"
     },
     "output_type": "display_data"
    }
   ],
   "source": [
    "plt.plot(pl[:,0], pl[:,1], 'r.');"
   ]
  },
  {
   "cell_type": "code",
   "execution_count": 67,
   "metadata": {
    "collapsed": true
   },
   "outputs": [
    {
     "data": {
      "text/plain": [
       "array([ 2.58503443e-01,  1.50630996e+00,  1.68052951e+00,  6.18551193e-01,\n",
       "       -8.84734139e-01, -1.47071067e+00, -1.14656328e-01,  5.77612000e-01,\n",
       "        7.89612799e-02, -1.12575982e+00, -7.20415646e-01,  3.51996004e-01,\n",
       "       -1.05358148e+00,  2.49625983e-01,  1.90042552e+00,  5.27731106e-01,\n",
       "       -1.50250487e+00, -8.13962768e-03, -2.09960603e-01, -7.11873757e-01,\n",
       "       -8.25102299e-01, -1.68782295e+00,  2.56876240e-02,  8.77525245e-01,\n",
       "       -6.61614401e-01,  3.59797260e-01,  1.53664674e+00, -1.64685410e+00,\n",
       "        3.51514266e-02, -6.51992351e-01, -1.21596138e+00, -3.71322981e-01,\n",
       "        1.91407611e-01, -1.17396224e+00,  2.25434387e-01,  1.21343910e-01,\n",
       "        3.98460016e-01,  3.50951454e-01, -7.74238234e-01,  1.74474194e+00,\n",
       "       -2.06955492e-01, -7.44719669e-01,  3.96693697e-01,  1.09311226e+00,\n",
       "        8.41693306e-01, -1.66121344e-01,  3.17737319e-01, -2.48332108e-01,\n",
       "        9.69514763e-01, -5.30929170e-01,  2.21486225e-01,  5.28791823e-01,\n",
       "       -9.32731486e-01, -9.45036189e-01, -1.56961550e-01, -7.73088645e-01,\n",
       "        8.06008127e-01, -6.63652073e-01,  2.23793223e+00,  1.47294407e-01,\n",
       "        2.90521351e-01,  9.06627741e-01, -4.06529125e-01,  7.54783933e-01,\n",
       "        7.05198882e-01, -1.02504814e+00,  8.53785200e-01, -3.05025044e-01,\n",
       "        6.03043070e-01,  3.42139296e-01,  8.01620303e-01,  3.76875052e-01,\n",
       "        9.88564235e-01, -7.65457859e-01, -1.20719288e+00, -1.31049657e+00,\n",
       "        7.13493240e-01, -8.90129835e-01,  2.52019948e+00,  5.79277559e-01,\n",
       "       -2.90990529e-01, -8.93900837e-01, -8.07043733e-01, -1.29775086e-01,\n",
       "       -1.38935488e+00, -1.25747202e+00, -2.01224683e-02, -1.82611006e+00,\n",
       "       -1.39726787e+00, -1.17218238e+00,  3.73114217e-01, -1.85121958e-01,\n",
       "        5.23325378e-02,  3.91798847e-01,  1.05826035e+00, -6.35160241e-01,\n",
       "        1.76110773e+00,  1.81196730e+00, -6.24812893e-01, -1.02200101e+00,\n",
       "        1.28008300e+00,  3.48861700e-01, -1.81142391e-01,  2.25296834e+00,\n",
       "        2.11698864e-01,  1.82613513e-01, -2.78752162e-01, -1.81368694e+00,\n",
       "       -5.97298902e-01,  5.94849206e-01,  2.20247513e-01,  2.85696102e-01,\n",
       "        2.87280002e-01, -9.09681673e-01,  2.40615695e+00,  4.40948817e-01,\n",
       "       -9.30476298e-01,  4.97475932e-01,  5.02793356e-01, -1.46592456e+00,\n",
       "        1.02794204e+00,  1.30546307e+00,  1.51738816e+00,  9.55558800e-03,\n",
       "       -2.39356002e+00, -7.56601065e-01, -1.51801933e-01,  7.41186428e-01,\n",
       "       -7.83879923e-01,  1.57444938e+00,  1.24729462e-01,  6.25517496e-01,\n",
       "        1.58786001e+00,  4.49177876e-01, -1.80189402e-01,  3.48077728e-01,\n",
       "        9.92363272e-01,  2.14348074e-01, -6.88325095e-01, -1.20093274e+00,\n",
       "       -3.94600093e-01, -2.93010740e-01, -7.79143503e-01, -6.44579206e-01,\n",
       "       -1.71117714e-01, -1.17565483e+00, -5.23778970e-01,  5.10975190e-01,\n",
       "        3.55984647e+00,  5.09736207e-01,  8.59278207e-01, -1.29471522e+00,\n",
       "        3.32113844e-01,  1.94318722e-01, -6.97167417e-04, -3.96456138e-01,\n",
       "        3.09612288e-01,  1.13399541e+00,  5.97088670e-01,  1.24387923e+00,\n",
       "        7.53865335e-01,  2.58399591e+00,  1.00190910e+00, -9.77064830e-01,\n",
       "       -1.04580515e+00, -1.07776637e+00,  4.79279121e-01, -7.90628270e-01,\n",
       "        7.08283984e-01, -9.64928058e-01,  1.15518345e+00, -1.11964048e-01,\n",
       "       -1.70151053e+00,  1.69197250e-01, -5.97099507e-01, -5.27352059e-01,\n",
       "        1.01135675e+00, -3.81113457e-01, -1.07807812e+00, -5.94897718e-01,\n",
       "       -1.20108666e-01,  5.87402778e-01, -1.98924642e-01, -1.71558943e+00,\n",
       "        1.41066710e+00, -4.36582786e-01,  1.25475756e+00,  2.63791052e-01,\n",
       "        7.52276335e-01,  1.04481198e+00,  1.51216978e+00,  1.79120421e+00,\n",
       "        2.61257644e-01, -1.72762825e+00, -7.73689367e-02,  7.66678068e-01,\n",
       "       -3.06397735e-01, -1.61994419e-01,  1.51517655e+00,  1.13076238e+00,\n",
       "       -4.27874544e-01, -2.37384191e-02,  1.31807702e+00,  2.63222860e-01,\n",
       "       -1.83431473e-03,  1.57806923e+00, -4.67840915e-01, -8.40706819e-01,\n",
       "       -6.20435748e-01,  1.03893434e+00, -3.47494603e-01, -9.57369762e-01,\n",
       "       -2.16169665e+00,  1.28314485e+00,  4.67996959e-01,  6.83374353e-01,\n",
       "       -1.40874136e-01, -6.60174642e-01,  1.30904935e+00,  3.09202798e-01,\n",
       "        2.29776597e-01,  1.35182874e+00,  6.50604366e-01, -9.51993682e-03,\n",
       "        1.22119476e+00,  5.78648163e-02, -1.67970499e-01, -2.41887496e-01,\n",
       "        4.43745703e-01,  1.63787133e+00, -1.39164468e-01, -1.58464916e+00,\n",
       "       -7.59574224e-01, -4.16211185e-01,  3.65241049e-01, -5.36489377e-01,\n",
       "       -6.57070505e-01,  6.57275863e-01, -4.29063180e-01,  4.98744846e-01,\n",
       "       -1.36297855e+00, -7.17750300e-02,  5.05155656e-01,  1.50845663e+00,\n",
       "       -1.90029909e-02, -2.02531078e+00,  6.02753507e-02, -3.78203934e-01,\n",
       "       -4.78288612e-03, -2.74605006e-01])"
      ]
     },
     "execution_count": 67,
     "metadata": {},
     "output_type": "execute_result"
    }
   ],
   "source": [
    "'''random allocation to stock using standard_normal dist'''\n",
    "s = np.random.standard_normal(250) # 250 reps amount of pseudo random numbers into array object\n",
    "s"
   ]
  },
  {
   "cell_type": "code",
   "execution_count": 68,
   "metadata": {},
   "outputs": [],
   "source": [
    "'''collecting the data set of 250 pseudo randoms'''\n",
    "# a list object\n",
    "pl = []\n",
    "for i in s:\n",
    "    pl.append(i * S + (1 - i) * B) # did not need to index i in s[i]"
   ]
  },
  {
   "cell_type": "code",
   "execution_count": 69,
   "metadata": {},
   "outputs": [],
   "source": [
    "pl = np.array(pl)"
   ]
  },
  {
   "cell_type": "code",
   "execution_count": 70,
   "metadata": {},
   "outputs": [
    {
     "data": {
      "image/png": "[encoded data removed]",
      "text/plain": [
       "<Figure size 432x288 with 1 Axes>"
      ]
     },
     "metadata": {
      "needs_background": "light"
     },
     "output_type": "display_data"
    }
   ],
   "source": [
    "plt.plot(pl[:,0], pl[:,1], 'r.');"
   ]
  },
  {
   "cell_type": "code",
   "execution_count": 75,
   "metadata": {},
   "outputs": [],
   "source": [
    "'''random allocation to stock'''\n",
    "s = np.random.random(250) # 250 reps amount of pseudo random numbers into array object\n",
    "b = np.random.random(250)"
   ]
  },
  {
   "cell_type": "code",
   "execution_count": 79,
   "metadata": {},
   "outputs": [],
   "source": [
    "'''collecting the data set of 250 pseudo randoms'''\n",
    "# a list object\n",
    "pl = []\n",
    "for i in range(len(s)):\n",
    "    pl.append(s[i] * S + (1 - b[i]) * B) # replace s with b in (1 - s[i])"
   ]
  },
  {
   "cell_type": "code",
   "execution_count": 80,
   "metadata": {},
   "outputs": [],
   "source": [
    "pl = np.array(pl)"
   ]
  },
  {
   "cell_type": "code",
   "execution_count": 83,
   "metadata": {},
   "outputs": [
    {
     "data": {
      "image/png": "[encoded data removed]",
      "text/plain": [
       "<Figure size 432x288 with 1 Axes>"
      ]
     },
     "metadata": {
      "needs_background": "light"
     },
     "output_type": "display_data"
    }
   ],
   "source": [
    "'''producing a plane in the space while constraining random numbers'''\n",
    "plt.plot(pl[:,0], pl[:,1], 'r.');"
   ]
  },
  {
   "cell_type": "code",
   "execution_count": null,
   "metadata": {},
   "outputs": [],
   "source": []
  },
  {
   "cell_type": "code",
   "execution_count": 88,
   "metadata": {},
   "outputs": [],
   "source": [
    "'''using standard_normal; neg & pos payoffs; further away from 0 - 1 bounds'''\n",
    "s = np.random.standard_normal(250) # 250 reps amount of pseudo random numbers into array object\n",
    "b = np.random.standard_normal(250)"
   ]
  },
  {
   "cell_type": "code",
   "execution_count": 100,
   "metadata": {},
   "outputs": [],
   "source": [
    "'''collecting the data set of 250 pseudo randoms'''\n",
    "pl = []# a list object\n",
    "for i in range(len(s)):\n",
    "    pl.append(s[i] * S + (1 - b[i]) * B) # replace s with b in (1 - s[i])"
   ]
  },
  {
   "cell_type": "code",
   "execution_count": 101,
   "metadata": {},
   "outputs": [],
   "source": [
    "pl = np.array(pl)"
   ]
  },
  {
   "cell_type": "code",
   "execution_count": 102,
   "metadata": {},
   "outputs": [
    {
     "data": {
      "image/png": "[encoded data removed]",
      "text/plain": [
       "<Figure size 432x288 with 1 Axes>"
      ]
     },
     "metadata": {
      "needs_background": "light"
     },
     "output_type": "display_data"
    }
   ],
   "source": [
    "'''producing a plane in the space while constraining random numbers'''\n",
    "plt.plot(pl[:,0], pl[:,1], 'r.');"
   ]
  },
  {
   "cell_type": "markdown",
   "metadata": {},
   "source": [
    "## <font color=red> Replication of the Option Payoff"
   ]
  },
  {
   "cell_type": "code",
   "execution_count": 103,
   "metadata": {},
   "outputs": [
    {
     "data": {
      "text/plain": [
       "array([ 0.33333333, -0.15151515])"
      ]
     },
     "execution_count": 103,
     "metadata": {},
     "output_type": "execute_result"
    }
   ],
   "source": [
    "'''replicating phi'''\n",
    "phi = np.linalg.solve(M, C)\n",
    "phi"
   ]
  },
  {
   "cell_type": "code",
   "execution_count": 104,
   "metadata": {},
   "outputs": [
    {
     "data": {
      "text/plain": [
       "array([5., 0.])"
      ]
     },
     "execution_count": 104,
     "metadata": {},
     "output_type": "execute_result"
    }
   ],
   "source": [
    "np.dot(M, phi).round(3)"
   ]
  },
  {
   "cell_type": "code",
   "execution_count": 105,
   "metadata": {},
   "outputs": [
    {
     "data": {
      "text/plain": [
       "1.818"
      ]
     },
     "execution_count": 105,
     "metadata": {},
     "output_type": "execute_result"
    }
   ],
   "source": [
    "'''arbitrage free price'''\n",
    "'''if the price is lower than what we see here than arbitrage opportunities may be possible'''\n",
    "np.dot(M0, phi).round(3) # M0 is the price vector"
   ]
  },
  {
   "cell_type": "code",
   "execution_count": 106,
   "metadata": {},
   "outputs": [],
   "source": [
    "'''arbitrage free price'''\n",
    "'''if the price is lower than what we see here than arbitrage opportunities may be possible'''\n",
    "C0 = np.dot(M0, phi).round(3) # M0 is the price vector"
   ]
  },
  {
   "cell_type": "code",
   "execution_count": 107,
   "metadata": {},
   "outputs": [
    {
     "data": {
      "text/plain": [
       "0.375"
      ]
     },
     "execution_count": 107,
     "metadata": {},
     "output_type": "execute_result"
    }
   ],
   "source": [
    "ret(C, C0).round(3) # the correct discount rate"
   ]
  },
  {
   "cell_type": "code",
   "execution_count": 108,
   "metadata": {},
   "outputs": [
    {
     "data": {
      "text/plain": [
       "1.818"
      ]
     },
     "execution_count": 108,
     "metadata": {},
     "output_type": "execute_result"
    }
   ],
   "source": [
    "C.mean() / (1 + (ret(C, C0)))"
   ]
  },
  {
   "cell_type": "markdown",
   "metadata": {},
   "source": [
    "## <font color=red> Risk-Return Comparison"
   ]
  },
  {
   "cell_type": "code",
   "execution_count": 109,
   "metadata": {},
   "outputs": [],
   "source": [
    "def vol(x, x0):\n",
    "    return (x / x0 - 1).std() # standard deviation"
   ]
  },
  {
   "cell_type": "code",
   "execution_count": 110,
   "metadata": {},
   "outputs": [
    {
     "data": {
      "text/plain": [
       "array([ 1. , -0.5])"
      ]
     },
     "execution_count": 110,
     "metadata": {},
     "output_type": "execute_result"
    }
   ],
   "source": [
    "S / S0 -1"
   ]
  },
  {
   "cell_type": "code",
   "execution_count": 111,
   "metadata": {},
   "outputs": [
    {
     "data": {
      "text/plain": [
       "0.75"
      ]
     },
     "execution_count": 111,
     "metadata": {},
     "output_type": "execute_result"
    }
   ],
   "source": [
    "(S / S0 -1).std()"
   ]
  },
  {
   "cell_type": "code",
   "execution_count": 113,
   "metadata": {},
   "outputs": [
    {
     "data": {
      "text/plain": [
       "0.75"
      ]
     },
     "execution_count": 113,
     "metadata": {},
     "output_type": "execute_result"
    }
   ],
   "source": [
    "'''same as above'''\n",
    "vol(S, S0) "
   ]
  },
  {
   "cell_type": "code",
   "execution_count": 115,
   "metadata": {},
   "outputs": [
    {
     "data": {
      "text/plain": [
       "0.25"
      ]
     },
     "execution_count": 115,
     "metadata": {},
     "output_type": "execute_result"
    }
   ],
   "source": [
    "ret(S, S0)"
   ]
  },
  {
   "cell_type": "markdown",
   "metadata": {},
   "source": [
    "<font color= gray> __Repeat with b__"
   ]
  },
  {
   "cell_type": "code",
   "execution_count": 122,
   "metadata": {},
   "outputs": [
    {
     "data": {
      "text/plain": [
       "0.106"
      ]
     },
     "execution_count": 122,
     "metadata": {},
     "output_type": "execute_result"
    }
   ],
   "source": [
    "vol(b, B0).round(3)"
   ]
  },
  {
   "cell_type": "code",
   "execution_count": 123,
   "metadata": {},
   "outputs": [
    {
     "data": {
      "text/plain": [
       "-1.002"
      ]
     },
     "execution_count": 123,
     "metadata": {},
     "output_type": "execute_result"
    }
   ],
   "source": [
    "ret(b, B0).round(3)"
   ]
  },
  {
   "cell_type": "markdown",
   "metadata": {},
   "source": [
    "<font color= grey> __Repeat with C__"
   ]
  },
  {
   "cell_type": "code",
   "execution_count": 124,
   "metadata": {},
   "outputs": [
    {
     "data": {
      "text/plain": [
       "1.375"
      ]
     },
     "execution_count": 124,
     "metadata": {},
     "output_type": "execute_result"
    }
   ],
   "source": [
    "'''calculate the risk of the call option'''\n",
    "'''137% = well above the vol of the stock, therefor higher return'''\n",
    "vol(C, C0).round(3)"
   ]
  },
  {
   "cell_type": "code",
   "execution_count": 125,
   "metadata": {},
   "outputs": [
    {
     "data": {
      "text/plain": [
       "0.375"
      ]
     },
     "execution_count": 125,
     "metadata": {},
     "output_type": "execute_result"
    }
   ],
   "source": [
    "ret(C, C0).round(3)"
   ]
  },
  {
   "cell_type": "markdown",
   "metadata": {},
   "source": [
    "<img src=\"https://i.imgur.com/d28OeSq.png\" width=\"350px\" align=\"right\">"
   ]
  }
 ],
 "metadata": {
  "kernelspec": {
   "display_name": "Python 3",
   "language": "python",
   "name": "python3"
  },
  "language_info": {
   "codemirror_mode": {
    "name": "ipython",
    "version": 3
   },
   "file_extension": ".py",
   "mimetype": "text/x-python",
   "name": "python",
   "nbconvert_exporter": "python",
   "pygments_lexer": "ipython3",
   "version": "3.7.3"
  }
 },
 "nbformat": 4,
 "nbformat_minor": 2
}
