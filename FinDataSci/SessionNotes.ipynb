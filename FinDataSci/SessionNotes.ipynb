{
 "cells": [
  {
   "cell_type": "code",
   "execution_count": 1,
   "metadata": {},
   "outputs": [],
   "source": [
    "import numpy as np"
   ]
  },
  {
   "cell_type": "code",
   "execution_count": 2,
   "metadata": {},
   "outputs": [],
   "source": [
    "import keyword"
   ]
  },
  {
   "cell_type": "code",
   "execution_count": 3,
   "metadata": {},
   "outputs": [
    {
     "data": {
      "text/plain": [
       "['False',\n",
       " 'None',\n",
       " 'True',\n",
       " 'and',\n",
       " 'as',\n",
       " 'assert',\n",
       " 'async',\n",
       " 'await',\n",
       " 'break',\n",
       " 'class',\n",
       " 'continue',\n",
       " 'def',\n",
       " 'del',\n",
       " 'elif',\n",
       " 'else',\n",
       " 'except',\n",
       " 'finally',\n",
       " 'for',\n",
       " 'from',\n",
       " 'global',\n",
       " 'if',\n",
       " 'import',\n",
       " 'in',\n",
       " 'is',\n",
       " 'lambda',\n",
       " 'nonlocal',\n",
       " 'not',\n",
       " 'or',\n",
       " 'pass',\n",
       " 'raise',\n",
       " 'return',\n",
       " 'try',\n",
       " 'while',\n",
       " 'with',\n",
       " 'yield']"
      ]
     },
     "execution_count": 3,
     "metadata": {},
     "output_type": "execute_result"
    }
   ],
   "source": [
    "keyword.kwlist"
   ]
  },
  {
   "cell_type": "code",
   "execution_count": 4,
   "metadata": {},
   "outputs": [
    {
     "data": {
      "text/plain": [
       "'this is an integer 15'"
      ]
     },
     "execution_count": 4,
     "metadata": {},
     "output_type": "execute_result"
    }
   ],
   "source": [
    "'this is an integer %d' %15"
   ]
  },
  {
   "cell_type": "code",
   "execution_count": 5,
   "metadata": {},
   "outputs": [
    {
     "data": {
      "text/plain": [
       "'this is an integer   15'"
      ]
     },
     "execution_count": 5,
     "metadata": {},
     "output_type": "execute_result"
    }
   ],
   "source": [
    "'this is an integer %4d' %15"
   ]
  },
  {
   "cell_type": "code",
   "execution_count": 6,
   "metadata": {},
   "outputs": [
    {
     "data": {
      "text/plain": [
       "'this is a float    15.35'"
      ]
     },
     "execution_count": 6,
     "metadata": {},
     "output_type": "execute_result"
    }
   ],
   "source": [
    "'this is a float %8.2f' %15.3456"
   ]
  },
  {
   "cell_type": "code",
   "execution_count": 7,
   "metadata": {},
   "outputs": [
    {
     "data": {
      "text/plain": [
       "'this is a float 00015.35'"
      ]
     },
     "execution_count": 7,
     "metadata": {},
     "output_type": "execute_result"
    }
   ],
   "source": [
    "'this is a float %08.2f' %15.3456"
   ]
  },
  {
   "cell_type": "code",
   "execution_count": 8,
   "metadata": {},
   "outputs": [
    {
     "data": {
      "text/plain": [
       "'this is a string python'"
      ]
     },
     "execution_count": 8,
     "metadata": {},
     "output_type": "execute_result"
    }
   ],
   "source": [
    "'this is a string %s' %'python'"
   ]
  },
  {
   "cell_type": "code",
   "execution_count": 9,
   "metadata": {},
   "outputs": [
    {
     "data": {
      "text/plain": [
       "'this is an integer 15'"
      ]
     },
     "execution_count": 9,
     "metadata": {},
     "output_type": "execute_result"
    }
   ],
   "source": [
    "'this is an integer {:d}'.format(15)"
   ]
  },
  {
   "cell_type": "code",
   "execution_count": 10,
   "metadata": {},
   "outputs": [
    {
     "data": {
      "text/plain": [
       "'this is a float 15.340000'"
      ]
     },
     "execution_count": 10,
     "metadata": {},
     "output_type": "execute_result"
    }
   ],
   "source": [
    "'this is a float {:f}'.format(15.34)"
   ]
  },
  {
   "cell_type": "code",
   "execution_count": 11,
   "metadata": {},
   "outputs": [
    {
     "data": {
      "text/plain": [
       "'this is a string string'"
      ]
     },
     "execution_count": 11,
     "metadata": {},
     "output_type": "execute_result"
    }
   ],
   "source": [
    "'this is a string {:s}'.format('string')"
   ]
  },
  {
   "cell_type": "code",
   "execution_count": 12,
   "metadata": {},
   "outputs": [
    {
     "name": "stdout",
     "output_type": "stream",
     "text": [
      "this is a 0\n",
      "this is a 1\n",
      "this is a 2\n",
      "this is a 3\n"
     ]
    }
   ],
   "source": [
    "i = 0\n",
    "while i < 4:\n",
    "    print('this is a {:d}'.format(i))\n",
    "    i += 1"
   ]
  },
  {
   "cell_type": "markdown",
   "metadata": {},
   "source": [
    "# Session Two"
   ]
  },
  {
   "cell_type": "code",
   "execution_count": 13,
   "metadata": {},
   "outputs": [
    {
     "data": {
      "text/plain": [
       "[0, 1, 4, 9, 16]"
      ]
     },
     "execution_count": 13,
     "metadata": {},
     "output_type": "execute_result"
    }
   ],
   "source": [
    "m = list([i ** 2 for i in range(5)])\n",
    "m\n",
    "#n = ''.join(m)"
   ]
  },
  {
   "cell_type": "code",
   "execution_count": 14,
   "metadata": {},
   "outputs": [
    {
     "data": {
      "text/plain": [
       "list"
      ]
     },
     "execution_count": 14,
     "metadata": {},
     "output_type": "execute_result"
    }
   ],
   "source": [
    "type(m)"
   ]
  },
  {
   "cell_type": "code",
   "execution_count": 15,
   "metadata": {},
   "outputs": [],
   "source": [
    "def f(x):\n",
    "    return x ** 2\n",
    "g = f(3)"
   ]
  },
  {
   "cell_type": "code",
   "execution_count": 16,
   "metadata": {},
   "outputs": [
    {
     "data": {
      "text/plain": [
       "False"
      ]
     },
     "execution_count": 16,
     "metadata": {},
     "output_type": "execute_result"
    }
   ],
   "source": [
    "def even(x):\n",
    "    return x % 2 == 0\n",
    "even(3)"
   ]
  },
  {
   "cell_type": "code",
   "execution_count": 17,
   "metadata": {},
   "outputs": [
    {
     "data": {
      "text/plain": [
       "[True, False, True, False, True, False, True, False, True, False]"
      ]
     },
     "execution_count": 17,
     "metadata": {},
     "output_type": "execute_result"
    }
   ],
   "source": [
    "list(map(even, range(10)))\n",
    "# apply even to every element of range 10"
   ]
  },
  {
   "cell_type": "code",
   "execution_count": 18,
   "metadata": {},
   "outputs": [
    {
     "data": {
      "text/plain": [
       "[0, 1, 4, 9, 16, 25, 36, 49, 64, 81]"
      ]
     },
     "execution_count": 18,
     "metadata": {},
     "output_type": "execute_result"
    }
   ],
   "source": [
    "list(map(lambda x: x ** 2, range(10))) # lambdas are anonymous funtions"
   ]
  },
  {
   "cell_type": "code",
   "execution_count": 19,
   "metadata": {},
   "outputs": [
    {
     "data": {
      "text/plain": [
       "[0, 1, 4, 9, 16, 25, 36, 49, 64, 81]"
      ]
     },
     "execution_count": 19,
     "metadata": {},
     "output_type": "execute_result"
    }
   ],
   "source": [
    "[x ** 2 for x in range(10)] # same as above"
   ]
  },
  {
   "cell_type": "code",
   "execution_count": 20,
   "metadata": {},
   "outputs": [
    {
     "data": {
      "text/plain": [
       "[0, 2, 4, 6, 8, 10, 12, 14]"
      ]
     },
     "execution_count": 20,
     "metadata": {},
     "output_type": "execute_result"
    }
   ],
   "source": [
    "list(filter(even, range(15)))"
   ]
  },
  {
   "cell_type": "markdown",
   "metadata": {},
   "source": [
    "## Dictionaries "
   ]
  },
  {
   "cell_type": "code",
   "execution_count": 21,
   "metadata": {},
   "outputs": [
    {
     "data": {
      "text/plain": [
       "dict"
      ]
     },
     "execution_count": 21,
     "metadata": {},
     "output_type": "execute_result"
    }
   ],
   "source": [
    "d = {\n",
    "    'Name' : 'Angela Merkel',\n",
    "    'Country' : 'Germany',\n",
    "    'Profession' : 'Chancellor',\n",
    "    'Age' : 63, # do not put ints in ''\n",
    "    }\n",
    "type(d)"
   ]
  },
  {
   "cell_type": "code",
   "execution_count": 22,
   "metadata": {},
   "outputs": [
    {
     "name": "stdout",
     "output_type": "stream",
     "text": [
      "Angela Merkel 63\n"
     ]
    }
   ],
   "source": [
    "print(d['Name'], d['Age'])"
   ]
  },
  {
   "cell_type": "code",
   "execution_count": 23,
   "metadata": {},
   "outputs": [
    {
     "data": {
      "text/plain": [
       "dict_keys(['Name', 'Country', 'Profession', 'Age'])"
      ]
     },
     "execution_count": 23,
     "metadata": {},
     "output_type": "execute_result"
    }
   ],
   "source": [
    "d.keys()"
   ]
  },
  {
   "cell_type": "code",
   "execution_count": 24,
   "metadata": {},
   "outputs": [
    {
     "data": {
      "text/plain": [
       "dict_values(['Angela Merkel', 'Germany', 'Chancellor', 63])"
      ]
     },
     "execution_count": 24,
     "metadata": {},
     "output_type": "execute_result"
    }
   ],
   "source": [
    "d.values()"
   ]
  },
  {
   "cell_type": "code",
   "execution_count": 25,
   "metadata": {},
   "outputs": [
    {
     "data": {
      "text/plain": [
       "dict_items([('Name', 'Angela Merkel'), ('Country', 'Germany'), ('Profession', 'Chancellor'), ('Age', 63)])"
      ]
     },
     "execution_count": 25,
     "metadata": {},
     "output_type": "execute_result"
    }
   ],
   "source": [
    "d.items()"
   ]
  },
  {
   "cell_type": "code",
   "execution_count": 26,
   "metadata": {},
   "outputs": [
    {
     "name": "stdout",
     "output_type": "stream",
     "text": [
      "64\n"
     ]
    }
   ],
   "source": [
    "birthday = True\n",
    "if birthday is True:\n",
    "    d['Age'] += 1 # <- in place addition\n",
    "print(d['Age'])"
   ]
  },
  {
   "cell_type": "code",
   "execution_count": 27,
   "metadata": {},
   "outputs": [
    {
     "name": "stdout",
     "output_type": "stream",
     "text": [
      "('Name', 'Angela Merkel')\n",
      "('Country', 'Germany')\n",
      "('Profession', 'Chancellor')\n",
      "('Age', 64)\n"
     ]
    }
   ],
   "source": [
    "for item in d.items():\n",
    "    print(item)"
   ]
  },
  {
   "cell_type": "code",
   "execution_count": 28,
   "metadata": {},
   "outputs": [
    {
     "name": "stdout",
     "output_type": "stream",
     "text": [
      "Angela Merkel\n",
      "Germany\n",
      "Chancellor\n",
      "64\n"
     ]
    }
   ],
   "source": [
    "for value in d.values():\n",
    "    print(value)"
   ]
  },
  {
   "cell_type": "markdown",
   "metadata": {},
   "source": [
    "## Sets"
   ]
  },
  {
   "cell_type": "markdown",
   "metadata": {},
   "source": [
    "U and D etc are taken from derivative up, down, down + up etc"
   ]
  },
  {
   "cell_type": "code",
   "execution_count": 29,
   "metadata": {},
   "outputs": [
    {
     "data": {
      "text/plain": [
       "{'d', 'du', 'u', 'ud'}"
      ]
     },
     "execution_count": 29,
     "metadata": {},
     "output_type": "execute_result"
    }
   ],
   "source": [
    "s = set(['u', 'd', 'ud', 'du', 'd', 'du'])\n",
    "s"
   ]
  },
  {
   "cell_type": "code",
   "execution_count": 30,
   "metadata": {},
   "outputs": [
    {
     "data": {
      "text/plain": [
       "{'d', 'dd', 'u', 'uu'}"
      ]
     },
     "execution_count": 30,
     "metadata": {},
     "output_type": "execute_result"
    }
   ],
   "source": [
    "t = set(['d', 'dd', 'uu', 'u'])\n",
    "t"
   ]
  },
  {
   "cell_type": "code",
   "execution_count": 31,
   "metadata": {},
   "outputs": [
    {
     "data": {
      "text/plain": [
       "{'d', 'dd', 'du', 'u', 'ud', 'uu'}"
      ]
     },
     "execution_count": 31,
     "metadata": {},
     "output_type": "execute_result"
    }
   ],
   "source": [
    "s.union(t)"
   ]
  },
  {
   "cell_type": "code",
   "execution_count": 32,
   "metadata": {},
   "outputs": [
    {
     "data": {
      "text/plain": [
       "{'d', 'u'}"
      ]
     },
     "execution_count": 32,
     "metadata": {},
     "output_type": "execute_result"
    }
   ],
   "source": [
    "s.intersection(t)"
   ]
  },
  {
   "cell_type": "code",
   "execution_count": 33,
   "metadata": {},
   "outputs": [
    {
     "data": {
      "text/plain": [
       "{'du', 'ud'}"
      ]
     },
     "execution_count": 33,
     "metadata": {},
     "output_type": "execute_result"
    }
   ],
   "source": [
    "s.difference(t)"
   ]
  },
  {
   "cell_type": "code",
   "execution_count": 34,
   "metadata": {},
   "outputs": [
    {
     "data": {
      "text/plain": [
       "{'dd', 'uu'}"
      ]
     },
     "execution_count": 34,
     "metadata": {},
     "output_type": "execute_result"
    }
   ],
   "source": [
    "t.difference(s)"
   ]
  },
  {
   "cell_type": "code",
   "execution_count": 35,
   "metadata": {},
   "outputs": [
    {
     "data": {
      "text/plain": [
       "{'dd', 'du', 'ud', 'uu'}"
      ]
     },
     "execution_count": 35,
     "metadata": {},
     "output_type": "execute_result"
    }
   ],
   "source": [
    "s.symmetric_difference(t)"
   ]
  },
  {
   "cell_type": "code",
   "execution_count": 36,
   "metadata": {},
   "outputs": [
    {
     "data": {
      "text/plain": [
       "1000"
      ]
     },
     "execution_count": 36,
     "metadata": {},
     "output_type": "execute_result"
    }
   ],
   "source": [
    "from random import randint\n",
    "l = [randint(0,10) for i in range(1000)]\n",
    "len(l)"
   ]
  },
  {
   "cell_type": "code",
   "execution_count": 37,
   "metadata": {},
   "outputs": [
    {
     "data": {
      "text/plain": [
       "[8, 4, 1, 5, 6, 7, 3, 6, 4, 3, 7, 0, 1, 7, 9, 4, 5, 9, 6, 0]"
      ]
     },
     "execution_count": 37,
     "metadata": {},
     "output_type": "execute_result"
    }
   ],
   "source": [
    "l[:20]"
   ]
  },
  {
   "cell_type": "code",
   "execution_count": 38,
   "metadata": {},
   "outputs": [
    {
     "data": {
      "text/plain": [
       "{0, 1, 2, 3, 4, 5, 6, 7, 8, 9, 10}"
      ]
     },
     "execution_count": 38,
     "metadata": {},
     "output_type": "execute_result"
    }
   ],
   "source": [
    "s = set(l)\n",
    "s"
   ]
  },
  {
   "cell_type": "markdown",
   "metadata": {},
   "source": [
    "## Case Study "
   ]
  },
  {
   "cell_type": "code",
   "execution_count": 39,
   "metadata": {},
   "outputs": [],
   "source": [
    "url = 'http://hilpisch.com/Titanic.csv'"
   ]
  },
  {
   "cell_type": "code",
   "execution_count": 40,
   "metadata": {},
   "outputs": [],
   "source": [
    "import requests"
   ]
  },
  {
   "cell_type": "code",
   "execution_count": 41,
   "metadata": {},
   "outputs": [
    {
     "data": {
      "text/plain": [
       "'\"\",\"Class\",\"Sex\",\"Age\",\"Survived\",\"Freq\"\\n\"1\",\"1st\",\"Male\",\"Child\",\"No\",0\\n\"2\",\"2nd\",\"Male\",\"Child\",\"No\",0\\n\"3\",\"3rd\",\"Male\",\"Child\",\"No\",35\\n\"4\",\"Crew\",\"Male\",\"Child\",\"No\",0\\n\"5\",\"1st\",\"Female\",\"Child\",\"No\",0\\n\"6\",\"2nd\",\"Female\",\"Child\",\"No\",0\\n\"7\",\"3rd\",\"Female\",\"Child\",\"No\",17\\n\"8\",\"Crew\",\"Female\",\"Child\",\"No\",0\\n\"9\",\"1st\",\"Male\",\"Adult\",\"No\",118\\n\"10\",\"2nd\",\"Male\",\"Adult\",\"No\",154\\n\"11\",\"3rd\",\"Male\",\"Adult\",\"No\",387\\n\"12\",\"Crew\",\"Male\",\"Adult\",\"No\",670\\n\"13\",\"1st\",\"Female\",\"Adult\",\"No\",4\\n\"14\",\"2nd\",\"Female\",\"Adult\",\"No\",13\\n\"15\",\"3rd\",\"Female\",\"Adult\",\"No\",89\\n\"16\",\"Crew\",\"Female\",\"Adult\",\"No\",3\\n\"17\",\"1st\",\"Male\",\"Child\",\"Yes\",5\\n\"18\",\"2nd\",\"Male\",\"Child\",\"Yes\",11\\n\"19\",\"3rd\",\"Male\",\"Child\",\"Yes\",13\\n\"20\",\"Crew\",\"Male\",\"Child\",\"Yes\",0\\n\"21\",\"1st\",\"Female\",\"Child\",\"Yes\",1\\n\"22\",\"2nd\",\"Female\",\"Child\",\"Yes\",13\\n\"23\",\"3rd\",\"Female\",\"Child\",\"Yes\",14\\n\"24\",\"Crew\",\"Female\",\"Child\",\"Yes\",0\\n\"25\",\"1st\",\"Male\",\"Adult\",\"Yes\",57\\n\"26\",\"2nd\",\"Male\",\"Adult\",\"Yes\",14\\n\"27\",\"3rd\",\"Male\",\"Adult\",\"Yes\",75\\n\"28\",\"Crew\",\"Male\",\"Adult\",\"Yes\",192\\n\"29\",\"1st\",\"Female\",\"Adult\",\"Yes\",140\\n\"30\",\"2nd\",\"Female\",\"Adult\",\"Yes\",80\\n\"31\",\"3rd\",\"Female\",\"Adult\",\"Yes\",76\\n\"32\",\"Crew\",\"Female\",\"Adult\",\"Yes\",20\\n'"
      ]
     },
     "execution_count": 41,
     "metadata": {},
     "output_type": "execute_result"
    }
   ],
   "source": [
    "requests.get(url).text"
   ]
  },
  {
   "cell_type": "code",
   "execution_count": 42,
   "metadata": {},
   "outputs": [],
   "source": [
    "raw = requests.get(url).text"
   ]
  },
  {
   "cell_type": "code",
   "execution_count": 43,
   "metadata": {},
   "outputs": [
    {
     "data": {
      "text/plain": [
       "'\"\",\"Class\",\"Sex\",\"Age\",\"Survived\",\"Freq\"\\n\"1\",\"1st\",\"Male\",\"Child\",\"No\",0\\n\"2\",\"2nd\",\"Male\",\"Child\",\"No\",0\\n\"3\",\"3rd\",\"Male\",\"Child\",\"No\",35\\n\"4\",\"Crew\",\"Male\",\"Child\",\"No\",0\\n\"5\",\"1st\",\"Female\",\"Child\",\"No\",0\\n\"6\",\"2nd\",\"Female\",\"Child\",\"No\",0\\n\"7\",\"3rd\",\"Female\",\"Child\",\"No\",17\\n\"8\",\"Crew\",\"Female\",\"Child\",\"No\",0\\n\"9\",\"1st\",\"Male\",\"Adult\",\"No\",118\\n\"10\",\"2nd\",\"Male\",\"Adult\",\"No\",154\\n\"11\",\"3rd\",\"Male\",\"Adult\",\"No\",387\\n\"12\",\"Crew\",\"Male\",\"Adult\",\"No\",670\\n\"13\",\"1st\",\"Female\",\"Adult\",\"No\",4\\n\"14\",\"2nd\",\"Female\",\"Adult\",\"No\",13\\n\"15\",\"3rd\",\"Female\",\"Adult\",\"No\",89\\n\"16\",\"Crew\",\"Female\",\"Adult\",\"No\",3\\n\"17\",\"1st\",\"Male\",\"Child\",\"Yes\",5\\n\"18\",\"2nd\",\"Male\",\"Child\",\"Yes\",11\\n\"19\",\"3rd\",\"Male\",\"Child\",\"Yes\",13\\n\"20\",\"Crew\",\"Male\",\"Child\",\"Yes\",0\\n\"21\",\"1st\",\"Female\",\"Child\",\"Yes\",1\\n\"22\",\"2nd\",\"Female\",\"Child\",\"Yes\",13\\n\"23\",\"3rd\",\"Female\",\"Child\",\"Yes\",14\\n\"24\",\"Crew\",\"Female\",\"Child\",\"Yes\",0\\n\"25\",\"1st\",\"Male\",\"Adult\",\"Yes\",57\\n\"26\",\"2nd\",\"Male\",\"Adult\",\"Yes\",14\\n\"27\",\"3rd\",\"Male\",\"Adult\",\"Yes\",75\\n\"28\",\"Crew\",\"Male\",\"Adult\",\"Yes\",192\\n\"29\",\"1st\",\"Female\",\"Adult\",\"Yes\",140\\n\"30\",\"2nd\",\"Female\",\"Adult\",\"Yes\",80\\n\"31\",\"3rd\",\"Female\",\"Adult\",\"Yes\",76\\n\"32\",\"Crew\",\"Female\",\"Adult\",\"Yes\",20\\n'"
      ]
     },
     "execution_count": 43,
     "metadata": {},
     "output_type": "execute_result"
    }
   ],
   "source": [
    "raw"
   ]
  },
  {
   "cell_type": "code",
   "execution_count": 44,
   "metadata": {},
   "outputs": [
    {
     "name": "stdout",
     "output_type": "stream",
     "text": [
      "\"\",\"Class\",\"Sex\",\"Age\",\"Survived\",\"Freq\"\n",
      "\"1\",\"1st\",\"Male\",\"Child\",\"No\",0\n",
      "\"2\",\"2nd\",\"Male\",\"Child\",\"No\",0\n",
      "\"3\",\"3rd\",\"Male\",\"Child\",\"No\",35\n",
      "\"4\",\"Crew\",\"Male\",\"Child\",\"No\",0\n",
      "\"5\",\"1st\",\"Female\",\"Child\",\"No\",0\n",
      "\"6\",\"2nd\",\"Female\",\"Child\",\"No\",0\n",
      "\"7\",\"3rd\",\"Female\",\"Child\",\"No\",17\n",
      "\"8\",\"Crew\",\"Female\",\"Child\",\"No\",0\n",
      "\"9\",\"1st\",\"Male\",\"Adult\",\"No\",118\n",
      "\"10\",\"2nd\",\"Male\",\"Adult\",\"No\",154\n",
      "\"11\",\"3rd\",\"Male\",\"Adult\",\"No\",387\n",
      "\"12\",\"Crew\",\"Male\",\"Adult\",\"No\",670\n",
      "\"13\",\"1st\",\"Female\",\"Adult\",\"No\",4\n",
      "\"14\",\"2nd\",\"Female\",\"Adult\",\"No\",13\n",
      "\"15\",\"3rd\",\"Female\",\"Adult\",\"No\",89\n",
      "\"16\",\"Crew\",\"Female\",\"Adult\",\"No\",3\n",
      "\"17\",\"1st\",\"Male\",\"Child\",\"Yes\",5\n",
      "\"18\",\"2nd\",\"Male\",\"Child\",\"Yes\",11\n",
      "\"19\",\"3rd\",\"Male\",\"Child\",\"Yes\",13\n",
      "\"20\",\"Crew\",\"Male\",\"Child\",\"Yes\",0\n",
      "\"21\",\"1st\",\"Female\",\"Child\",\"Yes\",1\n",
      "\"22\",\"2nd\",\"Female\",\"Child\",\"Yes\",13\n",
      "\"23\",\"3rd\",\"Female\",\"Child\",\"Yes\",14\n",
      "\"24\",\"Crew\",\"Female\",\"Child\",\"Yes\",0\n",
      "\"25\",\"1st\",\"Male\",\"Adult\",\"Yes\",57\n",
      "\"26\",\"2nd\",\"Male\",\"Adult\",\"Yes\",14\n",
      "\"27\",\"3rd\",\"Male\",\"Adult\",\"Yes\",75\n",
      "\"28\",\"Crew\",\"Male\",\"Adult\",\"Yes\",192\n",
      "\"29\",\"1st\",\"Female\",\"Adult\",\"Yes\",140\n",
      "\"30\",\"2nd\",\"Female\",\"Adult\",\"Yes\",80\n",
      "\"31\",\"3rd\",\"Female\",\"Adult\",\"Yes\",76\n",
      "\"32\",\"Crew\",\"Female\",\"Adult\",\"Yes\",20\n",
      "\n"
     ]
    }
   ],
   "source": [
    "print(raw)"
   ]
  },
  {
   "cell_type": "code",
   "execution_count": 45,
   "metadata": {},
   "outputs": [
    {
     "data": {
      "text/plain": [
       "['\"\",\"Class\",\"Sex\",\"Age\",\"Survived\",\"Freq\"',\n",
       " '\"1\",\"1st\",\"Male\",\"Child\",\"No\",0',\n",
       " '\"2\",\"2nd\",\"Male\",\"Child\",\"No\",0',\n",
       " '\"3\",\"3rd\",\"Male\",\"Child\",\"No\",35',\n",
       " '\"4\",\"Crew\",\"Male\",\"Child\",\"No\",0',\n",
       " '\"5\",\"1st\",\"Female\",\"Child\",\"No\",0',\n",
       " '\"6\",\"2nd\",\"Female\",\"Child\",\"No\",0',\n",
       " '\"7\",\"3rd\",\"Female\",\"Child\",\"No\",17',\n",
       " '\"8\",\"Crew\",\"Female\",\"Child\",\"No\",0',\n",
       " '\"9\",\"1st\",\"Male\",\"Adult\",\"No\",118',\n",
       " '\"10\",\"2nd\",\"Male\",\"Adult\",\"No\",154',\n",
       " '\"11\",\"3rd\",\"Male\",\"Adult\",\"No\",387',\n",
       " '\"12\",\"Crew\",\"Male\",\"Adult\",\"No\",670',\n",
       " '\"13\",\"1st\",\"Female\",\"Adult\",\"No\",4',\n",
       " '\"14\",\"2nd\",\"Female\",\"Adult\",\"No\",13',\n",
       " '\"15\",\"3rd\",\"Female\",\"Adult\",\"No\",89',\n",
       " '\"16\",\"Crew\",\"Female\",\"Adult\",\"No\",3',\n",
       " '\"17\",\"1st\",\"Male\",\"Child\",\"Yes\",5',\n",
       " '\"18\",\"2nd\",\"Male\",\"Child\",\"Yes\",11',\n",
       " '\"19\",\"3rd\",\"Male\",\"Child\",\"Yes\",13',\n",
       " '\"20\",\"Crew\",\"Male\",\"Child\",\"Yes\",0',\n",
       " '\"21\",\"1st\",\"Female\",\"Child\",\"Yes\",1',\n",
       " '\"22\",\"2nd\",\"Female\",\"Child\",\"Yes\",13',\n",
       " '\"23\",\"3rd\",\"Female\",\"Child\",\"Yes\",14',\n",
       " '\"24\",\"Crew\",\"Female\",\"Child\",\"Yes\",0',\n",
       " '\"25\",\"1st\",\"Male\",\"Adult\",\"Yes\",57',\n",
       " '\"26\",\"2nd\",\"Male\",\"Adult\",\"Yes\",14',\n",
       " '\"27\",\"3rd\",\"Male\",\"Adult\",\"Yes\",75',\n",
       " '\"28\",\"Crew\",\"Male\",\"Adult\",\"Yes\",192',\n",
       " '\"29\",\"1st\",\"Female\",\"Adult\",\"Yes\",140',\n",
       " '\"30\",\"2nd\",\"Female\",\"Adult\",\"Yes\",80',\n",
       " '\"31\",\"3rd\",\"Female\",\"Adult\",\"Yes\",76',\n",
       " '\"32\",\"Crew\",\"Female\",\"Adult\",\"Yes\",20',\n",
       " '']"
      ]
     },
     "execution_count": 45,
     "metadata": {},
     "output_type": "execute_result"
    }
   ],
   "source": [
    "data = raw.split('\\n') # seperating into seperate strings\n",
    "data"
   ]
  },
  {
   "cell_type": "code",
   "execution_count": 46,
   "metadata": {},
   "outputs": [
    {
     "data": {
      "text/plain": [
       "'\"1\",\"1st\",\"Male\",\"Child\",\"No\",0'"
      ]
     },
     "execution_count": 46,
     "metadata": {},
     "output_type": "execute_result"
    }
   ],
   "source": [
    "data[1] # a string of strings... outside single quotes, double quotes on inside"
   ]
  },
  {
   "cell_type": "code",
   "execution_count": 47,
   "metadata": {},
   "outputs": [
    {
     "data": {
      "text/plain": [
       "'1,1st,Male,Child,No,0'"
      ]
     },
     "execution_count": 47,
     "metadata": {},
     "output_type": "execute_result"
    }
   ],
   "source": [
    "data[1].replace('\"', '')"
   ]
  },
  {
   "cell_type": "code",
   "execution_count": 48,
   "metadata": {},
   "outputs": [
    {
     "data": {
      "text/plain": [
       "['1', '1st', 'Male', 'Child', 'No', '0']"
      ]
     },
     "execution_count": 48,
     "metadata": {},
     "output_type": "execute_result"
    }
   ],
   "source": [
    "data[1].replace('\"', '').split(',')"
   ]
  },
  {
   "cell_type": "code",
   "execution_count": 49,
   "metadata": {},
   "outputs": [],
   "source": [
    "data = [row.replace('\"','').split(',') for row in data[1:-1]] # had to replace title row and empty last row"
   ]
  },
  {
   "cell_type": "code",
   "execution_count": 50,
   "metadata": {},
   "outputs": [
    {
     "data": {
      "text/plain": [
       "[['1', '1st', 'Male', 'Child', 'No', '0'],\n",
       " ['2', '2nd', 'Male', 'Child', 'No', '0'],\n",
       " ['3', '3rd', 'Male', 'Child', 'No', '35'],\n",
       " ['4', 'Crew', 'Male', 'Child', 'No', '0'],\n",
       " ['5', '1st', 'Female', 'Child', 'No', '0'],\n",
       " ['6', '2nd', 'Female', 'Child', 'No', '0'],\n",
       " ['7', '3rd', 'Female', 'Child', 'No', '17'],\n",
       " ['8', 'Crew', 'Female', 'Child', 'No', '0'],\n",
       " ['9', '1st', 'Male', 'Adult', 'No', '118'],\n",
       " ['10', '2nd', 'Male', 'Adult', 'No', '154'],\n",
       " ['11', '3rd', 'Male', 'Adult', 'No', '387'],\n",
       " ['12', 'Crew', 'Male', 'Adult', 'No', '670'],\n",
       " ['13', '1st', 'Female', 'Adult', 'No', '4'],\n",
       " ['14', '2nd', 'Female', 'Adult', 'No', '13'],\n",
       " ['15', '3rd', 'Female', 'Adult', 'No', '89'],\n",
       " ['16', 'Crew', 'Female', 'Adult', 'No', '3'],\n",
       " ['17', '1st', 'Male', 'Child', 'Yes', '5'],\n",
       " ['18', '2nd', 'Male', 'Child', 'Yes', '11'],\n",
       " ['19', '3rd', 'Male', 'Child', 'Yes', '13'],\n",
       " ['20', 'Crew', 'Male', 'Child', 'Yes', '0'],\n",
       " ['21', '1st', 'Female', 'Child', 'Yes', '1'],\n",
       " ['22', '2nd', 'Female', 'Child', 'Yes', '13'],\n",
       " ['23', '3rd', 'Female', 'Child', 'Yes', '14'],\n",
       " ['24', 'Crew', 'Female', 'Child', 'Yes', '0'],\n",
       " ['25', '1st', 'Male', 'Adult', 'Yes', '57'],\n",
       " ['26', '2nd', 'Male', 'Adult', 'Yes', '14'],\n",
       " ['27', '3rd', 'Male', 'Adult', 'Yes', '75'],\n",
       " ['28', 'Crew', 'Male', 'Adult', 'Yes', '192'],\n",
       " ['29', '1st', 'Female', 'Adult', 'Yes', '140'],\n",
       " ['30', '2nd', 'Female', 'Adult', 'Yes', '80'],\n",
       " ['31', '3rd', 'Female', 'Adult', 'Yes', '76'],\n",
       " ['32', 'Crew', 'Female', 'Adult', 'Yes', '20']]"
      ]
     },
     "execution_count": 50,
     "metadata": {},
     "output_type": "execute_result"
    }
   ],
   "source": [
    "data"
   ]
  },
  {
   "cell_type": "code",
   "execution_count": 51,
   "metadata": {},
   "outputs": [
    {
     "data": {
      "text/plain": [
       "'0'"
      ]
     },
     "execution_count": 51,
     "metadata": {},
     "output_type": "execute_result"
    }
   ],
   "source": [
    "data[0][-1] # row 0, last element"
   ]
  },
  {
   "cell_type": "code",
   "execution_count": 52,
   "metadata": {},
   "outputs": [
    {
     "data": {
      "text/plain": [
       "0"
      ]
     },
     "execution_count": 52,
     "metadata": {},
     "output_type": "execute_result"
    }
   ],
   "source": [
    "int(data[0][-1]) # convert to int"
   ]
  },
  {
   "cell_type": "code",
   "execution_count": 53,
   "metadata": {},
   "outputs": [
    {
     "data": {
      "text/plain": [
       "[0,\n",
       " 0,\n",
       " 35,\n",
       " 0,\n",
       " 0,\n",
       " 0,\n",
       " 17,\n",
       " 0,\n",
       " 118,\n",
       " 154,\n",
       " 387,\n",
       " 670,\n",
       " 4,\n",
       " 13,\n",
       " 89,\n",
       " 3,\n",
       " 5,\n",
       " 11,\n",
       " 13,\n",
       " 0,\n",
       " 1,\n",
       " 13,\n",
       " 14,\n",
       " 0,\n",
       " 57,\n",
       " 14,\n",
       " 75,\n",
       " 192,\n",
       " 140,\n",
       " 80,\n",
       " 76,\n",
       " 20]"
      ]
     },
     "execution_count": 53,
     "metadata": {},
     "output_type": "execute_result"
    }
   ],
   "source": [
    "[int(row[-1]) for row in data]\n"
   ]
  },
  {
   "cell_type": "code",
   "execution_count": 54,
   "metadata": {},
   "outputs": [
    {
     "data": {
      "text/plain": [
       "2201"
      ]
     },
     "execution_count": 54,
     "metadata": {},
     "output_type": "execute_result"
    }
   ],
   "source": [
    "sum(int(row[-1]) for row in data)"
   ]
  },
  {
   "cell_type": "code",
   "execution_count": 55,
   "metadata": {},
   "outputs": [
    {
     "data": {
      "text/plain": [
       "711"
      ]
     },
     "execution_count": 55,
     "metadata": {},
     "output_type": "execute_result"
    }
   ],
   "source": [
    "sum(int(row[-1]) for row in data if row[-2] == 'Yes')"
   ]
  },
  {
   "cell_type": "code",
   "execution_count": 56,
   "metadata": {},
   "outputs": [
    {
     "data": {
      "text/plain": [
       "344"
      ]
     },
     "execution_count": 56,
     "metadata": {},
     "output_type": "execute_result"
    }
   ],
   "source": [
    "sum(int(row[-1]) for row in data if row[-2] == 'Yes' and row[2] == 'Female')"
   ]
  },
  {
   "cell_type": "markdown",
   "metadata": {},
   "source": [
    "## Reading Data from a Disk "
   ]
  },
  {
   "cell_type": "code",
   "execution_count": 57,
   "metadata": {},
   "outputs": [
    {
     "name": "stdout",
     "output_type": "stream",
     "text": [
      "\"\",\"Class\",\"Sex\",\"Age\",\"Survived\",\"Freq\"\r\n",
      "\"1\",\"1st\",\"Male\",\"Child\",\"No\",0\r\n",
      "\"2\",\"2nd\",\"Male\",\"Child\",\"No\",0\r\n",
      "\"3\",\"3rd\",\"Male\",\"Child\",\"No\",35\r\n",
      "\"4\",\"Crew\",\"Male\",\"Child\",\"No\",0\r\n",
      "\"5\",\"1st\",\"Female\",\"Child\",\"No\",0\r\n",
      "\"6\",\"2nd\",\"Female\",\"Child\",\"No\",0\r\n",
      "\"7\",\"3rd\",\"Female\",\"Child\",\"No\",17\r\n",
      "\"8\",\"Crew\",\"Female\",\"Child\",\"No\",0\r\n",
      "\"9\",\"1st\",\"Male\",\"Adult\",\"No\",118\r\n",
      "\"10\",\"2nd\",\"Male\",\"Adult\",\"No\",154\r\n",
      "\"11\",\"3rd\",\"Male\",\"Adult\",\"No\",387\r\n",
      "\"12\",\"Crew\",\"Male\",\"Adult\",\"No\",670\r\n",
      "\"13\",\"1st\",\"Female\",\"Adult\",\"No\",4\r\n",
      "\"14\",\"2nd\",\"Female\",\"Adult\",\"No\",13\r\n",
      "\"15\",\"3rd\",\"Female\",\"Adult\",\"No\",89\r\n",
      "\"16\",\"Crew\",\"Female\",\"Adult\",\"No\",3\r\n",
      "\"17\",\"1st\",\"Male\",\"Child\",\"Yes\",5\r\n",
      "\"18\",\"2nd\",\"Male\",\"Child\",\"Yes\",11\r\n",
      "\"19\",\"3rd\",\"Male\",\"Child\",\"Yes\",13\r\n",
      "\"20\",\"Crew\",\"Male\",\"Child\",\"Yes\",0\r\n",
      "\"21\",\"1st\",\"Female\",\"Child\",\"Yes\",1\r\n",
      "\"22\",\"2nd\",\"Female\",\"Child\",\"Yes\",13\r\n",
      "\"23\",\"3rd\",\"Female\",\"Child\",\"Yes\",14\r\n",
      "\"24\",\"Crew\",\"Female\",\"Child\",\"Yes\",0\r\n",
      "\"25\",\"1st\",\"Male\",\"Adult\",\"Yes\",57\r\n",
      "\"26\",\"2nd\",\"Male\",\"Adult\",\"Yes\",14\r\n",
      "\"27\",\"3rd\",\"Male\",\"Adult\",\"Yes\",75\r\n",
      "\"28\",\"Crew\",\"Male\",\"Adult\",\"Yes\",192\r\n",
      "\"29\",\"1st\",\"Female\",\"Adult\",\"Yes\",140\r\n",
      "\"30\",\"2nd\",\"Female\",\"Adult\",\"Yes\",80\r\n",
      "\"31\",\"3rd\",\"Female\",\"Adult\",\"Yes\",76\r\n",
      "\"32\",\"Crew\",\"Female\",\"Adult\",\"Yes\",20\r\n"
     ]
    }
   ],
   "source": [
    "!cat Titanic.csv"
   ]
  },
  {
   "cell_type": "code",
   "execution_count": 58,
   "metadata": {},
   "outputs": [
    {
     "name": "stdout",
     "output_type": "stream",
     "text": [
      "--2019-06-03 10:45:03--  http://hilpisch.com/Titanic.csv\n",
      "Resolving hilpisch.com (hilpisch.com)... 80.82.223.106\n",
      "Connecting to hilpisch.com (hilpisch.com)|80.82.223.106|:80... connected.\n",
      "HTTP request sent, awaiting response... 200 OK\n",
      "Length: 1170 (1.1K) [text/plain]\n",
      "Saving to: ‘Titanic.csv.1’\n",
      "\n",
      "Titanic.csv.1       100%[===================>]   1.14K  --.-KB/s    in 0s      \n",
      "\n",
      "2019-06-03 10:45:03 (79.7 MB/s) - ‘Titanic.csv.1’ saved [1170/1170]\n",
      "\n"
     ]
    }
   ],
   "source": [
    "!wget 'http://hilpisch.com/Titanic.csv'"
   ]
  },
  {
   "cell_type": "code",
   "execution_count": 59,
   "metadata": {},
   "outputs": [
    {
     "name": "stdout",
     "output_type": "stream",
     "text": [
      "\"\",\"Class\",\"Sex\",\"Age\",\"Survived\",\"Freq\"\r\n",
      "\"1\",\"1st\",\"Male\",\"Child\",\"No\",0\r\n",
      "\"2\",\"2nd\",\"Male\",\"Child\",\"No\",0\r\n",
      "\"3\",\"3rd\",\"Male\",\"Child\",\"No\",35\r\n",
      "\"4\",\"Crew\",\"Male\",\"Child\",\"No\",0\r\n",
      "\"5\",\"1st\",\"Female\",\"Child\",\"No\",0\r\n",
      "\"6\",\"2nd\",\"Female\",\"Child\",\"No\",0\r\n",
      "\"7\",\"3rd\",\"Female\",\"Child\",\"No\",17\r\n",
      "\"8\",\"Crew\",\"Female\",\"Child\",\"No\",0\r\n",
      "\"9\",\"1st\",\"Male\",\"Adult\",\"No\",118\r\n",
      "\"10\",\"2nd\",\"Male\",\"Adult\",\"No\",154\r\n",
      "\"11\",\"3rd\",\"Male\",\"Adult\",\"No\",387\r\n",
      "\"12\",\"Crew\",\"Male\",\"Adult\",\"No\",670\r\n",
      "\"13\",\"1st\",\"Female\",\"Adult\",\"No\",4\r\n",
      "\"14\",\"2nd\",\"Female\",\"Adult\",\"No\",13\r\n",
      "\"15\",\"3rd\",\"Female\",\"Adult\",\"No\",89\r\n",
      "\"16\",\"Crew\",\"Female\",\"Adult\",\"No\",3\r\n",
      "\"17\",\"1st\",\"Male\",\"Child\",\"Yes\",5\r\n",
      "\"18\",\"2nd\",\"Male\",\"Child\",\"Yes\",11\r\n",
      "\"19\",\"3rd\",\"Male\",\"Child\",\"Yes\",13\r\n",
      "\"20\",\"Crew\",\"Male\",\"Child\",\"Yes\",0\r\n",
      "\"21\",\"1st\",\"Female\",\"Child\",\"Yes\",1\r\n",
      "\"22\",\"2nd\",\"Female\",\"Child\",\"Yes\",13\r\n",
      "\"23\",\"3rd\",\"Female\",\"Child\",\"Yes\",14\r\n",
      "\"24\",\"Crew\",\"Female\",\"Child\",\"Yes\",0\r\n",
      "\"25\",\"1st\",\"Male\",\"Adult\",\"Yes\",57\r\n",
      "\"26\",\"2nd\",\"Male\",\"Adult\",\"Yes\",14\r\n",
      "\"27\",\"3rd\",\"Male\",\"Adult\",\"Yes\",75\r\n",
      "\"28\",\"Crew\",\"Male\",\"Adult\",\"Yes\",192\r\n",
      "\"29\",\"1st\",\"Female\",\"Adult\",\"Yes\",140\r\n",
      "\"30\",\"2nd\",\"Female\",\"Adult\",\"Yes\",80\r\n",
      "\"31\",\"3rd\",\"Female\",\"Adult\",\"Yes\",76\r\n",
      "\"32\",\"Crew\",\"Female\",\"Adult\",\"Yes\",20\r\n"
     ]
    }
   ],
   "source": [
    "!cat Titanic.csv"
   ]
  },
  {
   "cell_type": "code",
   "execution_count": 60,
   "metadata": {},
   "outputs": [],
   "source": [
    "f = open('Titanic.csv', 'r')"
   ]
  },
  {
   "cell_type": "code",
   "execution_count": 61,
   "metadata": {},
   "outputs": [
    {
     "data": {
      "text/plain": [
       "<_io.TextIOWrapper name='Titanic.csv' mode='r' encoding='UTF-8'>"
      ]
     },
     "execution_count": 61,
     "metadata": {},
     "output_type": "execute_result"
    }
   ],
   "source": [
    "f"
   ]
  },
  {
   "cell_type": "code",
   "execution_count": 62,
   "metadata": {},
   "outputs": [
    {
     "data": {
      "text/plain": [
       "'\"\",\"Class\",\"Sex\",\"Age\",\"Survived\",\"Freq\"\\n\"1\",\"1st\",\"Male\",\"Child\",\"No\",0\\n\"2\",\"2nd\",\"Male\",\"Child\",\"No\",0\\n\"3\",\"3rd\",\"Male\",\"Child\",\"No\",35\\n\"4\",\"Crew\",\"Male\",\"Child\",\"No\",0\\n\"5\",\"1st\",\"Female\",\"Child\",\"No\",0\\n\"6\",\"2nd\",\"Female\",\"Child\",\"No\",0\\n\"7\",\"3rd\",\"Female\",\"Child\",\"No\",17\\n\"8\",\"Crew\",\"Female\",\"Child\",\"No\",0\\n\"9\",\"1st\",\"Male\",\"Adult\",\"No\",118\\n\"10\",\"2nd\",\"Male\",\"Adult\",\"No\",154\\n\"11\",\"3rd\",\"Male\",\"Adult\",\"No\",387\\n\"12\",\"Crew\",\"Male\",\"Adult\",\"No\",670\\n\"13\",\"1st\",\"Female\",\"Adult\",\"No\",4\\n\"14\",\"2nd\",\"Female\",\"Adult\",\"No\",13\\n\"15\",\"3rd\",\"Female\",\"Adult\",\"No\",89\\n\"16\",\"Crew\",\"Female\",\"Adult\",\"No\",3\\n\"17\",\"1st\",\"Male\",\"Child\",\"Yes\",5\\n\"18\",\"2nd\",\"Male\",\"Child\",\"Yes\",11\\n\"19\",\"3rd\",\"Male\",\"Child\",\"Yes\",13\\n\"20\",\"Crew\",\"Male\",\"Child\",\"Yes\",0\\n\"21\",\"1st\",\"Female\",\"Child\",\"Yes\",1\\n\"22\",\"2nd\",\"Female\",\"Child\",\"Yes\",13\\n\"23\",\"3rd\",\"Female\",\"Child\",\"Yes\",14\\n\"24\",\"Crew\",\"Female\",\"Child\",\"Yes\",0\\n\"25\",\"1st\",\"Male\",\"Adult\",\"Yes\",57\\n\"26\",\"2nd\",\"Male\",\"Adult\",\"Yes\",14\\n\"27\",\"3rd\",\"Male\",\"Adult\",\"Yes\",75\\n\"28\",\"Crew\",\"Male\",\"Adult\",\"Yes\",192\\n\"29\",\"1st\",\"Female\",\"Adult\",\"Yes\",140\\n\"30\",\"2nd\",\"Female\",\"Adult\",\"Yes\",80\\n\"31\",\"3rd\",\"Female\",\"Adult\",\"Yes\",76\\n\"32\",\"Crew\",\"Female\",\"Adult\",\"Yes\",20\\n'"
      ]
     },
     "execution_count": 62,
     "metadata": {},
     "output_type": "execute_result"
    }
   ],
   "source": [
    "f.read()"
   ]
  },
  {
   "cell_type": "code",
   "execution_count": 63,
   "metadata": {},
   "outputs": [
    {
     "name": "stdout",
     "output_type": "stream",
     "text": [
      "0 \"\",\"Class\",\"Sex\",\"Age\",\"Survived\",\"Freq\"\n",
      "1 \"1\",\"1st\",\"Male\",\"Child\",\"No\",0\n",
      "2 \"2\",\"2nd\",\"Male\",\"Child\",\"No\",0\n",
      "3 \"3\",\"3rd\",\"Male\",\"Child\",\"No\",35\n",
      "4 \"4\",\"Crew\",\"Male\",\"Child\",\"No\",0\n"
     ]
    }
   ],
   "source": [
    "with open('Titanic.csv', 'r') as f:\n",
    "    for _ in range(5):\n",
    "        print(_, f.readline(), end='') # with end"
   ]
  },
  {
   "cell_type": "code",
   "execution_count": 64,
   "metadata": {},
   "outputs": [
    {
     "name": "stdout",
     "output_type": "stream",
     "text": [
      "0 \"\",\"Class\",\"Sex\",\"Age\",\"Survived\",\"Freq\"\n",
      "\n",
      "1 \"1\",\"1st\",\"Male\",\"Child\",\"No\",0\n",
      "\n",
      "2 \"2\",\"2nd\",\"Male\",\"Child\",\"No\",0\n",
      "\n",
      "3 \"3\",\"3rd\",\"Male\",\"Child\",\"No\",35\n",
      "\n",
      "4 \"4\",\"Crew\",\"Male\",\"Child\",\"No\",0\n",
      "\n"
     ]
    }
   ],
   "source": [
    "with open('Titanic.csv', 'r') as f:\n",
    "    for _ in range(5):\n",
    "        print(_, f.readline()) # without end"
   ]
  },
  {
   "cell_type": "markdown",
   "metadata": {},
   "source": [
    "## Work With CSV Modules "
   ]
  },
  {
   "cell_type": "code",
   "execution_count": 65,
   "metadata": {},
   "outputs": [],
   "source": [
    "import csv"
   ]
  },
  {
   "cell_type": "code",
   "execution_count": 66,
   "metadata": {},
   "outputs": [],
   "source": [
    "reader = csv.reader(open('Titanic.csv', 'r'))"
   ]
  },
  {
   "cell_type": "code",
   "execution_count": 67,
   "metadata": {},
   "outputs": [],
   "source": [
    "data = []\n",
    "for row in reader:\n",
    "    data.append(row)"
   ]
  },
  {
   "cell_type": "code",
   "execution_count": 68,
   "metadata": {},
   "outputs": [
    {
     "data": {
      "text/plain": [
       "[['', 'Class', 'Sex', 'Age', 'Survived', 'Freq'],\n",
       " ['1', '1st', 'Male', 'Child', 'No', '0'],\n",
       " ['2', '2nd', 'Male', 'Child', 'No', '0'],\n",
       " ['3', '3rd', 'Male', 'Child', 'No', '35'],\n",
       " ['4', 'Crew', 'Male', 'Child', 'No', '0'],\n",
       " ['5', '1st', 'Female', 'Child', 'No', '0'],\n",
       " ['6', '2nd', 'Female', 'Child', 'No', '0'],\n",
       " ['7', '3rd', 'Female', 'Child', 'No', '17'],\n",
       " ['8', 'Crew', 'Female', 'Child', 'No', '0'],\n",
       " ['9', '1st', 'Male', 'Adult', 'No', '118'],\n",
       " ['10', '2nd', 'Male', 'Adult', 'No', '154'],\n",
       " ['11', '3rd', 'Male', 'Adult', 'No', '387'],\n",
       " ['12', 'Crew', 'Male', 'Adult', 'No', '670'],\n",
       " ['13', '1st', 'Female', 'Adult', 'No', '4'],\n",
       " ['14', '2nd', 'Female', 'Adult', 'No', '13'],\n",
       " ['15', '3rd', 'Female', 'Adult', 'No', '89'],\n",
       " ['16', 'Crew', 'Female', 'Adult', 'No', '3'],\n",
       " ['17', '1st', 'Male', 'Child', 'Yes', '5'],\n",
       " ['18', '2nd', 'Male', 'Child', 'Yes', '11'],\n",
       " ['19', '3rd', 'Male', 'Child', 'Yes', '13'],\n",
       " ['20', 'Crew', 'Male', 'Child', 'Yes', '0'],\n",
       " ['21', '1st', 'Female', 'Child', 'Yes', '1'],\n",
       " ['22', '2nd', 'Female', 'Child', 'Yes', '13'],\n",
       " ['23', '3rd', 'Female', 'Child', 'Yes', '14'],\n",
       " ['24', 'Crew', 'Female', 'Child', 'Yes', '0'],\n",
       " ['25', '1st', 'Male', 'Adult', 'Yes', '57'],\n",
       " ['26', '2nd', 'Male', 'Adult', 'Yes', '14'],\n",
       " ['27', '3rd', 'Male', 'Adult', 'Yes', '75'],\n",
       " ['28', 'Crew', 'Male', 'Adult', 'Yes', '192'],\n",
       " ['29', '1st', 'Female', 'Adult', 'Yes', '140'],\n",
       " ['30', '2nd', 'Female', 'Adult', 'Yes', '80'],\n",
       " ['31', '3rd', 'Female', 'Adult', 'Yes', '76'],\n",
       " ['32', 'Crew', 'Female', 'Adult', 'Yes', '20']]"
      ]
     },
     "execution_count": 68,
     "metadata": {},
     "output_type": "execute_result"
    }
   ],
   "source": [
    "data"
   ]
  },
  {
   "cell_type": "code",
   "execution_count": 69,
   "metadata": {},
   "outputs": [],
   "source": [
    "reader = csv.reader(open('Titanic.csv', 'r'))"
   ]
  },
  {
   "cell_type": "code",
   "execution_count": 70,
   "metadata": {},
   "outputs": [],
   "source": [
    "data = [row for row in reader]"
   ]
  },
  {
   "cell_type": "code",
   "execution_count": 71,
   "metadata": {},
   "outputs": [
    {
     "data": {
      "text/plain": [
       "[['', 'Class', 'Sex', 'Age', 'Survived', 'Freq'],\n",
       " ['1', '1st', 'Male', 'Child', 'No', '0'],\n",
       " ['2', '2nd', 'Male', 'Child', 'No', '0'],\n",
       " ['3', '3rd', 'Male', 'Child', 'No', '35'],\n",
       " ['4', 'Crew', 'Male', 'Child', 'No', '0'],\n",
       " ['5', '1st', 'Female', 'Child', 'No', '0'],\n",
       " ['6', '2nd', 'Female', 'Child', 'No', '0'],\n",
       " ['7', '3rd', 'Female', 'Child', 'No', '17'],\n",
       " ['8', 'Crew', 'Female', 'Child', 'No', '0'],\n",
       " ['9', '1st', 'Male', 'Adult', 'No', '118'],\n",
       " ['10', '2nd', 'Male', 'Adult', 'No', '154'],\n",
       " ['11', '3rd', 'Male', 'Adult', 'No', '387'],\n",
       " ['12', 'Crew', 'Male', 'Adult', 'No', '670'],\n",
       " ['13', '1st', 'Female', 'Adult', 'No', '4'],\n",
       " ['14', '2nd', 'Female', 'Adult', 'No', '13'],\n",
       " ['15', '3rd', 'Female', 'Adult', 'No', '89'],\n",
       " ['16', 'Crew', 'Female', 'Adult', 'No', '3'],\n",
       " ['17', '1st', 'Male', 'Child', 'Yes', '5'],\n",
       " ['18', '2nd', 'Male', 'Child', 'Yes', '11'],\n",
       " ['19', '3rd', 'Male', 'Child', 'Yes', '13'],\n",
       " ['20', 'Crew', 'Male', 'Child', 'Yes', '0'],\n",
       " ['21', '1st', 'Female', 'Child', 'Yes', '1'],\n",
       " ['22', '2nd', 'Female', 'Child', 'Yes', '13'],\n",
       " ['23', '3rd', 'Female', 'Child', 'Yes', '14'],\n",
       " ['24', 'Crew', 'Female', 'Child', 'Yes', '0'],\n",
       " ['25', '1st', 'Male', 'Adult', 'Yes', '57'],\n",
       " ['26', '2nd', 'Male', 'Adult', 'Yes', '14'],\n",
       " ['27', '3rd', 'Male', 'Adult', 'Yes', '75'],\n",
       " ['28', 'Crew', 'Male', 'Adult', 'Yes', '192'],\n",
       " ['29', '1st', 'Female', 'Adult', 'Yes', '140'],\n",
       " ['30', '2nd', 'Female', 'Adult', 'Yes', '80'],\n",
       " ['31', '3rd', 'Female', 'Adult', 'Yes', '76'],\n",
       " ['32', 'Crew', 'Female', 'Adult', 'Yes', '20']]"
      ]
     },
     "execution_count": 71,
     "metadata": {},
     "output_type": "execute_result"
    }
   ],
   "source": [
    "data"
   ]
  },
  {
   "cell_type": "code",
   "execution_count": 72,
   "metadata": {},
   "outputs": [
    {
     "data": {
      "text/plain": [
       "[['', 'Class', 'Sex', 'Age', 'Survived', 'Freq'],\n",
       " ['1', '1st', 'Male', 'Child', 'No', '0'],\n",
       " ['2', '2nd', 'Male', 'Child', 'No', '0'],\n",
       " ['3', '3rd', 'Male', 'Child', 'No', '35'],\n",
       " ['4', 'Crew', 'Male', 'Child', 'No', '0']]"
      ]
     },
     "execution_count": 72,
     "metadata": {},
     "output_type": "execute_result"
    }
   ],
   "source": [
    "data[:5]"
   ]
  },
  {
   "cell_type": "code",
   "execution_count": 73,
   "metadata": {},
   "outputs": [
    {
     "data": {
      "text/plain": [
       "2201"
      ]
     },
     "execution_count": 73,
     "metadata": {},
     "output_type": "execute_result"
    }
   ],
   "source": [
    "sum(int(row[-1]) for row in data[1:])"
   ]
  },
  {
   "cell_type": "code",
   "execution_count": 74,
   "metadata": {},
   "outputs": [],
   "source": [
    "dict_reader = csv.DictReader(open('Titanic.csv','r'))"
   ]
  },
  {
   "cell_type": "code",
   "execution_count": 75,
   "metadata": {},
   "outputs": [],
   "source": [
    "data = [row for row in dict_reader]"
   ]
  },
  {
   "cell_type": "code",
   "execution_count": 76,
   "metadata": {},
   "outputs": [
    {
     "data": {
      "text/plain": [
       "[OrderedDict([('', '1'),\n",
       "              ('Class', '1st'),\n",
       "              ('Sex', 'Male'),\n",
       "              ('Age', 'Child'),\n",
       "              ('Survived', 'No'),\n",
       "              ('Freq', '0')]),\n",
       " OrderedDict([('', '2'),\n",
       "              ('Class', '2nd'),\n",
       "              ('Sex', 'Male'),\n",
       "              ('Age', 'Child'),\n",
       "              ('Survived', 'No'),\n",
       "              ('Freq', '0')]),\n",
       " OrderedDict([('', '3'),\n",
       "              ('Class', '3rd'),\n",
       "              ('Sex', 'Male'),\n",
       "              ('Age', 'Child'),\n",
       "              ('Survived', 'No'),\n",
       "              ('Freq', '35')])]"
      ]
     },
     "execution_count": 76,
     "metadata": {},
     "output_type": "execute_result"
    }
   ],
   "source": [
    "data[:3]"
   ]
  },
  {
   "cell_type": "code",
   "execution_count": 77,
   "metadata": {},
   "outputs": [
    {
     "data": {
      "text/plain": [
       "2201"
      ]
     },
     "execution_count": 77,
     "metadata": {},
     "output_type": "execute_result"
    }
   ],
   "source": [
    "sum([int(row['Freq']) for row in data[1:]])"
   ]
  },
  {
   "cell_type": "code",
   "execution_count": 78,
   "metadata": {},
   "outputs": [
    {
     "data": {
      "text/plain": [
       "1731"
      ]
     },
     "execution_count": 78,
     "metadata": {},
     "output_type": "execute_result"
    }
   ],
   "source": [
    "sum(int(row['Freq']) for row in data if row['Sex'] == 'Male')"
   ]
  },
  {
   "cell_type": "markdown",
   "metadata": {},
   "source": [
    "## Using Pandas"
   ]
  },
  {
   "cell_type": "code",
   "execution_count": 79,
   "metadata": {},
   "outputs": [],
   "source": [
    "import pandas as pd"
   ]
  },
  {
   "cell_type": "code",
   "execution_count": 80,
   "metadata": {},
   "outputs": [],
   "source": [
    "df = pd.read_csv('Titanic.csv')"
   ]
  },
  {
   "cell_type": "code",
   "execution_count": 81,
   "metadata": {},
   "outputs": [
    {
     "data": {
      "text/html": [
       "<div>\n",
       "<style scoped>\n",
       "    .dataframe tbody tr th:only-of-type {\n",
       "        vertical-align: middle;\n",
       "    }\n",
       "\n",
       "    .dataframe tbody tr th {\n",
       "        vertical-align: top;\n",
       "    }\n",
       "\n",
       "    .dataframe thead th {\n",
       "        text-align: right;\n",
       "    }\n",
       "</style>\n",
       "<table border=\"1\" class=\"dataframe\">\n",
       "  <thead>\n",
       "    <tr style=\"text-align: right;\">\n",
       "      <th></th>\n",
       "      <th>Unnamed: 0</th>\n",
       "      <th>Class</th>\n",
       "      <th>Sex</th>\n",
       "      <th>Age</th>\n",
       "      <th>Survived</th>\n",
       "      <th>Freq</th>\n",
       "    </tr>\n",
       "  </thead>\n",
       "  <tbody>\n",
       "    <tr>\n",
       "      <th>0</th>\n",
       "      <td>1</td>\n",
       "      <td>1st</td>\n",
       "      <td>Male</td>\n",
       "      <td>Child</td>\n",
       "      <td>No</td>\n",
       "      <td>0</td>\n",
       "    </tr>\n",
       "    <tr>\n",
       "      <th>1</th>\n",
       "      <td>2</td>\n",
       "      <td>2nd</td>\n",
       "      <td>Male</td>\n",
       "      <td>Child</td>\n",
       "      <td>No</td>\n",
       "      <td>0</td>\n",
       "    </tr>\n",
       "    <tr>\n",
       "      <th>2</th>\n",
       "      <td>3</td>\n",
       "      <td>3rd</td>\n",
       "      <td>Male</td>\n",
       "      <td>Child</td>\n",
       "      <td>No</td>\n",
       "      <td>35</td>\n",
       "    </tr>\n",
       "    <tr>\n",
       "      <th>3</th>\n",
       "      <td>4</td>\n",
       "      <td>Crew</td>\n",
       "      <td>Male</td>\n",
       "      <td>Child</td>\n",
       "      <td>No</td>\n",
       "      <td>0</td>\n",
       "    </tr>\n",
       "    <tr>\n",
       "      <th>4</th>\n",
       "      <td>5</td>\n",
       "      <td>1st</td>\n",
       "      <td>Female</td>\n",
       "      <td>Child</td>\n",
       "      <td>No</td>\n",
       "      <td>0</td>\n",
       "    </tr>\n",
       "    <tr>\n",
       "      <th>5</th>\n",
       "      <td>6</td>\n",
       "      <td>2nd</td>\n",
       "      <td>Female</td>\n",
       "      <td>Child</td>\n",
       "      <td>No</td>\n",
       "      <td>0</td>\n",
       "    </tr>\n",
       "    <tr>\n",
       "      <th>6</th>\n",
       "      <td>7</td>\n",
       "      <td>3rd</td>\n",
       "      <td>Female</td>\n",
       "      <td>Child</td>\n",
       "      <td>No</td>\n",
       "      <td>17</td>\n",
       "    </tr>\n",
       "    <tr>\n",
       "      <th>7</th>\n",
       "      <td>8</td>\n",
       "      <td>Crew</td>\n",
       "      <td>Female</td>\n",
       "      <td>Child</td>\n",
       "      <td>No</td>\n",
       "      <td>0</td>\n",
       "    </tr>\n",
       "    <tr>\n",
       "      <th>8</th>\n",
       "      <td>9</td>\n",
       "      <td>1st</td>\n",
       "      <td>Male</td>\n",
       "      <td>Adult</td>\n",
       "      <td>No</td>\n",
       "      <td>118</td>\n",
       "    </tr>\n",
       "    <tr>\n",
       "      <th>9</th>\n",
       "      <td>10</td>\n",
       "      <td>2nd</td>\n",
       "      <td>Male</td>\n",
       "      <td>Adult</td>\n",
       "      <td>No</td>\n",
       "      <td>154</td>\n",
       "    </tr>\n",
       "    <tr>\n",
       "      <th>10</th>\n",
       "      <td>11</td>\n",
       "      <td>3rd</td>\n",
       "      <td>Male</td>\n",
       "      <td>Adult</td>\n",
       "      <td>No</td>\n",
       "      <td>387</td>\n",
       "    </tr>\n",
       "    <tr>\n",
       "      <th>11</th>\n",
       "      <td>12</td>\n",
       "      <td>Crew</td>\n",
       "      <td>Male</td>\n",
       "      <td>Adult</td>\n",
       "      <td>No</td>\n",
       "      <td>670</td>\n",
       "    </tr>\n",
       "    <tr>\n",
       "      <th>12</th>\n",
       "      <td>13</td>\n",
       "      <td>1st</td>\n",
       "      <td>Female</td>\n",
       "      <td>Adult</td>\n",
       "      <td>No</td>\n",
       "      <td>4</td>\n",
       "    </tr>\n",
       "    <tr>\n",
       "      <th>13</th>\n",
       "      <td>14</td>\n",
       "      <td>2nd</td>\n",
       "      <td>Female</td>\n",
       "      <td>Adult</td>\n",
       "      <td>No</td>\n",
       "      <td>13</td>\n",
       "    </tr>\n",
       "    <tr>\n",
       "      <th>14</th>\n",
       "      <td>15</td>\n",
       "      <td>3rd</td>\n",
       "      <td>Female</td>\n",
       "      <td>Adult</td>\n",
       "      <td>No</td>\n",
       "      <td>89</td>\n",
       "    </tr>\n",
       "    <tr>\n",
       "      <th>15</th>\n",
       "      <td>16</td>\n",
       "      <td>Crew</td>\n",
       "      <td>Female</td>\n",
       "      <td>Adult</td>\n",
       "      <td>No</td>\n",
       "      <td>3</td>\n",
       "    </tr>\n",
       "    <tr>\n",
       "      <th>16</th>\n",
       "      <td>17</td>\n",
       "      <td>1st</td>\n",
       "      <td>Male</td>\n",
       "      <td>Child</td>\n",
       "      <td>Yes</td>\n",
       "      <td>5</td>\n",
       "    </tr>\n",
       "    <tr>\n",
       "      <th>17</th>\n",
       "      <td>18</td>\n",
       "      <td>2nd</td>\n",
       "      <td>Male</td>\n",
       "      <td>Child</td>\n",
       "      <td>Yes</td>\n",
       "      <td>11</td>\n",
       "    </tr>\n",
       "    <tr>\n",
       "      <th>18</th>\n",
       "      <td>19</td>\n",
       "      <td>3rd</td>\n",
       "      <td>Male</td>\n",
       "      <td>Child</td>\n",
       "      <td>Yes</td>\n",
       "      <td>13</td>\n",
       "    </tr>\n",
       "    <tr>\n",
       "      <th>19</th>\n",
       "      <td>20</td>\n",
       "      <td>Crew</td>\n",
       "      <td>Male</td>\n",
       "      <td>Child</td>\n",
       "      <td>Yes</td>\n",
       "      <td>0</td>\n",
       "    </tr>\n",
       "    <tr>\n",
       "      <th>20</th>\n",
       "      <td>21</td>\n",
       "      <td>1st</td>\n",
       "      <td>Female</td>\n",
       "      <td>Child</td>\n",
       "      <td>Yes</td>\n",
       "      <td>1</td>\n",
       "    </tr>\n",
       "    <tr>\n",
       "      <th>21</th>\n",
       "      <td>22</td>\n",
       "      <td>2nd</td>\n",
       "      <td>Female</td>\n",
       "      <td>Child</td>\n",
       "      <td>Yes</td>\n",
       "      <td>13</td>\n",
       "    </tr>\n",
       "    <tr>\n",
       "      <th>22</th>\n",
       "      <td>23</td>\n",
       "      <td>3rd</td>\n",
       "      <td>Female</td>\n",
       "      <td>Child</td>\n",
       "      <td>Yes</td>\n",
       "      <td>14</td>\n",
       "    </tr>\n",
       "    <tr>\n",
       "      <th>23</th>\n",
       "      <td>24</td>\n",
       "      <td>Crew</td>\n",
       "      <td>Female</td>\n",
       "      <td>Child</td>\n",
       "      <td>Yes</td>\n",
       "      <td>0</td>\n",
       "    </tr>\n",
       "    <tr>\n",
       "      <th>24</th>\n",
       "      <td>25</td>\n",
       "      <td>1st</td>\n",
       "      <td>Male</td>\n",
       "      <td>Adult</td>\n",
       "      <td>Yes</td>\n",
       "      <td>57</td>\n",
       "    </tr>\n",
       "    <tr>\n",
       "      <th>25</th>\n",
       "      <td>26</td>\n",
       "      <td>2nd</td>\n",
       "      <td>Male</td>\n",
       "      <td>Adult</td>\n",
       "      <td>Yes</td>\n",
       "      <td>14</td>\n",
       "    </tr>\n",
       "    <tr>\n",
       "      <th>26</th>\n",
       "      <td>27</td>\n",
       "      <td>3rd</td>\n",
       "      <td>Male</td>\n",
       "      <td>Adult</td>\n",
       "      <td>Yes</td>\n",
       "      <td>75</td>\n",
       "    </tr>\n",
       "    <tr>\n",
       "      <th>27</th>\n",
       "      <td>28</td>\n",
       "      <td>Crew</td>\n",
       "      <td>Male</td>\n",
       "      <td>Adult</td>\n",
       "      <td>Yes</td>\n",
       "      <td>192</td>\n",
       "    </tr>\n",
       "    <tr>\n",
       "      <th>28</th>\n",
       "      <td>29</td>\n",
       "      <td>1st</td>\n",
       "      <td>Female</td>\n",
       "      <td>Adult</td>\n",
       "      <td>Yes</td>\n",
       "      <td>140</td>\n",
       "    </tr>\n",
       "    <tr>\n",
       "      <th>29</th>\n",
       "      <td>30</td>\n",
       "      <td>2nd</td>\n",
       "      <td>Female</td>\n",
       "      <td>Adult</td>\n",
       "      <td>Yes</td>\n",
       "      <td>80</td>\n",
       "    </tr>\n",
       "    <tr>\n",
       "      <th>30</th>\n",
       "      <td>31</td>\n",
       "      <td>3rd</td>\n",
       "      <td>Female</td>\n",
       "      <td>Adult</td>\n",
       "      <td>Yes</td>\n",
       "      <td>76</td>\n",
       "    </tr>\n",
       "    <tr>\n",
       "      <th>31</th>\n",
       "      <td>32</td>\n",
       "      <td>Crew</td>\n",
       "      <td>Female</td>\n",
       "      <td>Adult</td>\n",
       "      <td>Yes</td>\n",
       "      <td>20</td>\n",
       "    </tr>\n",
       "  </tbody>\n",
       "</table>\n",
       "</div>"
      ],
      "text/plain": [
       "    Unnamed: 0 Class     Sex    Age Survived  Freq\n",
       "0            1   1st    Male  Child       No     0\n",
       "1            2   2nd    Male  Child       No     0\n",
       "2            3   3rd    Male  Child       No    35\n",
       "3            4  Crew    Male  Child       No     0\n",
       "4            5   1st  Female  Child       No     0\n",
       "5            6   2nd  Female  Child       No     0\n",
       "6            7   3rd  Female  Child       No    17\n",
       "7            8  Crew  Female  Child       No     0\n",
       "8            9   1st    Male  Adult       No   118\n",
       "9           10   2nd    Male  Adult       No   154\n",
       "10          11   3rd    Male  Adult       No   387\n",
       "11          12  Crew    Male  Adult       No   670\n",
       "12          13   1st  Female  Adult       No     4\n",
       "13          14   2nd  Female  Adult       No    13\n",
       "14          15   3rd  Female  Adult       No    89\n",
       "15          16  Crew  Female  Adult       No     3\n",
       "16          17   1st    Male  Child      Yes     5\n",
       "17          18   2nd    Male  Child      Yes    11\n",
       "18          19   3rd    Male  Child      Yes    13\n",
       "19          20  Crew    Male  Child      Yes     0\n",
       "20          21   1st  Female  Child      Yes     1\n",
       "21          22   2nd  Female  Child      Yes    13\n",
       "22          23   3rd  Female  Child      Yes    14\n",
       "23          24  Crew  Female  Child      Yes     0\n",
       "24          25   1st    Male  Adult      Yes    57\n",
       "25          26   2nd    Male  Adult      Yes    14\n",
       "26          27   3rd    Male  Adult      Yes    75\n",
       "27          28  Crew    Male  Adult      Yes   192\n",
       "28          29   1st  Female  Adult      Yes   140\n",
       "29          30   2nd  Female  Adult      Yes    80\n",
       "30          31   3rd  Female  Adult      Yes    76\n",
       "31          32  Crew  Female  Adult      Yes    20"
      ]
     },
     "execution_count": 81,
     "metadata": {},
     "output_type": "execute_result"
    }
   ],
   "source": [
    "df"
   ]
  },
  {
   "cell_type": "code",
   "execution_count": 82,
   "metadata": {},
   "outputs": [
    {
     "name": "stdout",
     "output_type": "stream",
     "text": [
      "<class 'pandas.core.frame.DataFrame'>\n",
      "RangeIndex: 32 entries, 0 to 31\n",
      "Data columns (total 6 columns):\n",
      "Unnamed: 0    32 non-null int64\n",
      "Class         32 non-null object\n",
      "Sex           32 non-null object\n",
      "Age           32 non-null object\n",
      "Survived      32 non-null object\n",
      "Freq          32 non-null int64\n",
      "dtypes: int64(2), object(4)\n",
      "memory usage: 1.6+ KB\n"
     ]
    }
   ],
   "source": [
    "df.info()"
   ]
  },
  {
   "cell_type": "code",
   "execution_count": 83,
   "metadata": {},
   "outputs": [
    {
     "data": {
      "text/plain": [
       "2201"
      ]
     },
     "execution_count": 83,
     "metadata": {},
     "output_type": "execute_result"
    }
   ],
   "source": [
    "df['Freq'].sum()"
   ]
  },
  {
   "cell_type": "code",
   "execution_count": 84,
   "metadata": {},
   "outputs": [
    {
     "data": {
      "text/plain": [
       "0     False\n",
       "1     False\n",
       "2     False\n",
       "3     False\n",
       "4     False\n",
       "5     False\n",
       "6     False\n",
       "7     False\n",
       "8     False\n",
       "9     False\n",
       "10    False\n",
       "11    False\n",
       "12    False\n",
       "13    False\n",
       "14    False\n",
       "15    False\n",
       "16     True\n",
       "17     True\n",
       "18     True\n",
       "19     True\n",
       "20     True\n",
       "21     True\n",
       "22     True\n",
       "23     True\n",
       "24     True\n",
       "25     True\n",
       "26     True\n",
       "27     True\n",
       "28     True\n",
       "29     True\n",
       "30     True\n",
       "31     True\n",
       "Name: Survived, dtype: bool"
      ]
     },
     "execution_count": 84,
     "metadata": {},
     "output_type": "execute_result"
    }
   ],
   "source": [
    "df['Survived'] == 'Yes'"
   ]
  },
  {
   "cell_type": "code",
   "execution_count": 85,
   "metadata": {},
   "outputs": [
    {
     "data": {
      "text/html": [
       "<div>\n",
       "<style scoped>\n",
       "    .dataframe tbody tr th:only-of-type {\n",
       "        vertical-align: middle;\n",
       "    }\n",
       "\n",
       "    .dataframe tbody tr th {\n",
       "        vertical-align: top;\n",
       "    }\n",
       "\n",
       "    .dataframe thead th {\n",
       "        text-align: right;\n",
       "    }\n",
       "</style>\n",
       "<table border=\"1\" class=\"dataframe\">\n",
       "  <thead>\n",
       "    <tr style=\"text-align: right;\">\n",
       "      <th></th>\n",
       "      <th>Unnamed: 0</th>\n",
       "      <th>Class</th>\n",
       "      <th>Sex</th>\n",
       "      <th>Age</th>\n",
       "      <th>Survived</th>\n",
       "      <th>Freq</th>\n",
       "    </tr>\n",
       "  </thead>\n",
       "  <tbody>\n",
       "    <tr>\n",
       "      <th>16</th>\n",
       "      <td>17</td>\n",
       "      <td>1st</td>\n",
       "      <td>Male</td>\n",
       "      <td>Child</td>\n",
       "      <td>Yes</td>\n",
       "      <td>5</td>\n",
       "    </tr>\n",
       "    <tr>\n",
       "      <th>17</th>\n",
       "      <td>18</td>\n",
       "      <td>2nd</td>\n",
       "      <td>Male</td>\n",
       "      <td>Child</td>\n",
       "      <td>Yes</td>\n",
       "      <td>11</td>\n",
       "    </tr>\n",
       "    <tr>\n",
       "      <th>18</th>\n",
       "      <td>19</td>\n",
       "      <td>3rd</td>\n",
       "      <td>Male</td>\n",
       "      <td>Child</td>\n",
       "      <td>Yes</td>\n",
       "      <td>13</td>\n",
       "    </tr>\n",
       "    <tr>\n",
       "      <th>19</th>\n",
       "      <td>20</td>\n",
       "      <td>Crew</td>\n",
       "      <td>Male</td>\n",
       "      <td>Child</td>\n",
       "      <td>Yes</td>\n",
       "      <td>0</td>\n",
       "    </tr>\n",
       "    <tr>\n",
       "      <th>20</th>\n",
       "      <td>21</td>\n",
       "      <td>1st</td>\n",
       "      <td>Female</td>\n",
       "      <td>Child</td>\n",
       "      <td>Yes</td>\n",
       "      <td>1</td>\n",
       "    </tr>\n",
       "    <tr>\n",
       "      <th>21</th>\n",
       "      <td>22</td>\n",
       "      <td>2nd</td>\n",
       "      <td>Female</td>\n",
       "      <td>Child</td>\n",
       "      <td>Yes</td>\n",
       "      <td>13</td>\n",
       "    </tr>\n",
       "    <tr>\n",
       "      <th>22</th>\n",
       "      <td>23</td>\n",
       "      <td>3rd</td>\n",
       "      <td>Female</td>\n",
       "      <td>Child</td>\n",
       "      <td>Yes</td>\n",
       "      <td>14</td>\n",
       "    </tr>\n",
       "    <tr>\n",
       "      <th>23</th>\n",
       "      <td>24</td>\n",
       "      <td>Crew</td>\n",
       "      <td>Female</td>\n",
       "      <td>Child</td>\n",
       "      <td>Yes</td>\n",
       "      <td>0</td>\n",
       "    </tr>\n",
       "    <tr>\n",
       "      <th>24</th>\n",
       "      <td>25</td>\n",
       "      <td>1st</td>\n",
       "      <td>Male</td>\n",
       "      <td>Adult</td>\n",
       "      <td>Yes</td>\n",
       "      <td>57</td>\n",
       "    </tr>\n",
       "    <tr>\n",
       "      <th>25</th>\n",
       "      <td>26</td>\n",
       "      <td>2nd</td>\n",
       "      <td>Male</td>\n",
       "      <td>Adult</td>\n",
       "      <td>Yes</td>\n",
       "      <td>14</td>\n",
       "    </tr>\n",
       "    <tr>\n",
       "      <th>26</th>\n",
       "      <td>27</td>\n",
       "      <td>3rd</td>\n",
       "      <td>Male</td>\n",
       "      <td>Adult</td>\n",
       "      <td>Yes</td>\n",
       "      <td>75</td>\n",
       "    </tr>\n",
       "    <tr>\n",
       "      <th>27</th>\n",
       "      <td>28</td>\n",
       "      <td>Crew</td>\n",
       "      <td>Male</td>\n",
       "      <td>Adult</td>\n",
       "      <td>Yes</td>\n",
       "      <td>192</td>\n",
       "    </tr>\n",
       "    <tr>\n",
       "      <th>28</th>\n",
       "      <td>29</td>\n",
       "      <td>1st</td>\n",
       "      <td>Female</td>\n",
       "      <td>Adult</td>\n",
       "      <td>Yes</td>\n",
       "      <td>140</td>\n",
       "    </tr>\n",
       "    <tr>\n",
       "      <th>29</th>\n",
       "      <td>30</td>\n",
       "      <td>2nd</td>\n",
       "      <td>Female</td>\n",
       "      <td>Adult</td>\n",
       "      <td>Yes</td>\n",
       "      <td>80</td>\n",
       "    </tr>\n",
       "    <tr>\n",
       "      <th>30</th>\n",
       "      <td>31</td>\n",
       "      <td>3rd</td>\n",
       "      <td>Female</td>\n",
       "      <td>Adult</td>\n",
       "      <td>Yes</td>\n",
       "      <td>76</td>\n",
       "    </tr>\n",
       "    <tr>\n",
       "      <th>31</th>\n",
       "      <td>32</td>\n",
       "      <td>Crew</td>\n",
       "      <td>Female</td>\n",
       "      <td>Adult</td>\n",
       "      <td>Yes</td>\n",
       "      <td>20</td>\n",
       "    </tr>\n",
       "  </tbody>\n",
       "</table>\n",
       "</div>"
      ],
      "text/plain": [
       "    Unnamed: 0 Class     Sex    Age Survived  Freq\n",
       "16          17   1st    Male  Child      Yes     5\n",
       "17          18   2nd    Male  Child      Yes    11\n",
       "18          19   3rd    Male  Child      Yes    13\n",
       "19          20  Crew    Male  Child      Yes     0\n",
       "20          21   1st  Female  Child      Yes     1\n",
       "21          22   2nd  Female  Child      Yes    13\n",
       "22          23   3rd  Female  Child      Yes    14\n",
       "23          24  Crew  Female  Child      Yes     0\n",
       "24          25   1st    Male  Adult      Yes    57\n",
       "25          26   2nd    Male  Adult      Yes    14\n",
       "26          27   3rd    Male  Adult      Yes    75\n",
       "27          28  Crew    Male  Adult      Yes   192\n",
       "28          29   1st  Female  Adult      Yes   140\n",
       "29          30   2nd  Female  Adult      Yes    80\n",
       "30          31   3rd  Female  Adult      Yes    76\n",
       "31          32  Crew  Female  Adult      Yes    20"
      ]
     },
     "execution_count": 85,
     "metadata": {},
     "output_type": "execute_result"
    }
   ],
   "source": [
    "df[df['Survived'] == 'Yes']"
   ]
  },
  {
   "cell_type": "code",
   "execution_count": 86,
   "metadata": {},
   "outputs": [
    {
     "data": {
      "text/plain": [
       "711"
      ]
     },
     "execution_count": 86,
     "metadata": {},
     "output_type": "execute_result"
    }
   ],
   "source": [
    "df[df['Survived'] == 'Yes']['Freq'].sum()"
   ]
  },
  {
   "cell_type": "code",
   "execution_count": 87,
   "metadata": {},
   "outputs": [],
   "source": [
    "groups = df.groupby(['Class','Sex','Survived','Age']).sum()"
   ]
  },
  {
   "cell_type": "code",
   "execution_count": 88,
   "metadata": {},
   "outputs": [
    {
     "data": {
      "text/html": [
       "<div>\n",
       "<style scoped>\n",
       "    .dataframe tbody tr th:only-of-type {\n",
       "        vertical-align: middle;\n",
       "    }\n",
       "\n",
       "    .dataframe tbody tr th {\n",
       "        vertical-align: top;\n",
       "    }\n",
       "\n",
       "    .dataframe thead th {\n",
       "        text-align: right;\n",
       "    }\n",
       "</style>\n",
       "<table border=\"1\" class=\"dataframe\">\n",
       "  <thead>\n",
       "    <tr style=\"text-align: right;\">\n",
       "      <th></th>\n",
       "      <th></th>\n",
       "      <th></th>\n",
       "      <th></th>\n",
       "      <th>Unnamed: 0</th>\n",
       "      <th>Freq</th>\n",
       "    </tr>\n",
       "    <tr>\n",
       "      <th>Class</th>\n",
       "      <th>Sex</th>\n",
       "      <th>Survived</th>\n",
       "      <th>Age</th>\n",
       "      <th></th>\n",
       "      <th></th>\n",
       "    </tr>\n",
       "  </thead>\n",
       "  <tbody>\n",
       "    <tr>\n",
       "      <th rowspan=\"8\" valign=\"top\">1st</th>\n",
       "      <th rowspan=\"4\" valign=\"top\">Female</th>\n",
       "      <th rowspan=\"2\" valign=\"top\">No</th>\n",
       "      <th>Adult</th>\n",
       "      <td>13</td>\n",
       "      <td>4</td>\n",
       "    </tr>\n",
       "    <tr>\n",
       "      <th>Child</th>\n",
       "      <td>5</td>\n",
       "      <td>0</td>\n",
       "    </tr>\n",
       "    <tr>\n",
       "      <th rowspan=\"2\" valign=\"top\">Yes</th>\n",
       "      <th>Adult</th>\n",
       "      <td>29</td>\n",
       "      <td>140</td>\n",
       "    </tr>\n",
       "    <tr>\n",
       "      <th>Child</th>\n",
       "      <td>21</td>\n",
       "      <td>1</td>\n",
       "    </tr>\n",
       "    <tr>\n",
       "      <th rowspan=\"4\" valign=\"top\">Male</th>\n",
       "      <th rowspan=\"2\" valign=\"top\">No</th>\n",
       "      <th>Adult</th>\n",
       "      <td>9</td>\n",
       "      <td>118</td>\n",
       "    </tr>\n",
       "    <tr>\n",
       "      <th>Child</th>\n",
       "      <td>1</td>\n",
       "      <td>0</td>\n",
       "    </tr>\n",
       "    <tr>\n",
       "      <th rowspan=\"2\" valign=\"top\">Yes</th>\n",
       "      <th>Adult</th>\n",
       "      <td>25</td>\n",
       "      <td>57</td>\n",
       "    </tr>\n",
       "    <tr>\n",
       "      <th>Child</th>\n",
       "      <td>17</td>\n",
       "      <td>5</td>\n",
       "    </tr>\n",
       "    <tr>\n",
       "      <th rowspan=\"8\" valign=\"top\">2nd</th>\n",
       "      <th rowspan=\"4\" valign=\"top\">Female</th>\n",
       "      <th rowspan=\"2\" valign=\"top\">No</th>\n",
       "      <th>Adult</th>\n",
       "      <td>14</td>\n",
       "      <td>13</td>\n",
       "    </tr>\n",
       "    <tr>\n",
       "      <th>Child</th>\n",
       "      <td>6</td>\n",
       "      <td>0</td>\n",
       "    </tr>\n",
       "    <tr>\n",
       "      <th rowspan=\"2\" valign=\"top\">Yes</th>\n",
       "      <th>Adult</th>\n",
       "      <td>30</td>\n",
       "      <td>80</td>\n",
       "    </tr>\n",
       "    <tr>\n",
       "      <th>Child</th>\n",
       "      <td>22</td>\n",
       "      <td>13</td>\n",
       "    </tr>\n",
       "    <tr>\n",
       "      <th rowspan=\"4\" valign=\"top\">Male</th>\n",
       "      <th rowspan=\"2\" valign=\"top\">No</th>\n",
       "      <th>Adult</th>\n",
       "      <td>10</td>\n",
       "      <td>154</td>\n",
       "    </tr>\n",
       "    <tr>\n",
       "      <th>Child</th>\n",
       "      <td>2</td>\n",
       "      <td>0</td>\n",
       "    </tr>\n",
       "    <tr>\n",
       "      <th rowspan=\"2\" valign=\"top\">Yes</th>\n",
       "      <th>Adult</th>\n",
       "      <td>26</td>\n",
       "      <td>14</td>\n",
       "    </tr>\n",
       "    <tr>\n",
       "      <th>Child</th>\n",
       "      <td>18</td>\n",
       "      <td>11</td>\n",
       "    </tr>\n",
       "    <tr>\n",
       "      <th rowspan=\"8\" valign=\"top\">3rd</th>\n",
       "      <th rowspan=\"4\" valign=\"top\">Female</th>\n",
       "      <th rowspan=\"2\" valign=\"top\">No</th>\n",
       "      <th>Adult</th>\n",
       "      <td>15</td>\n",
       "      <td>89</td>\n",
       "    </tr>\n",
       "    <tr>\n",
       "      <th>Child</th>\n",
       "      <td>7</td>\n",
       "      <td>17</td>\n",
       "    </tr>\n",
       "    <tr>\n",
       "      <th rowspan=\"2\" valign=\"top\">Yes</th>\n",
       "      <th>Adult</th>\n",
       "      <td>31</td>\n",
       "      <td>76</td>\n",
       "    </tr>\n",
       "    <tr>\n",
       "      <th>Child</th>\n",
       "      <td>23</td>\n",
       "      <td>14</td>\n",
       "    </tr>\n",
       "    <tr>\n",
       "      <th rowspan=\"4\" valign=\"top\">Male</th>\n",
       "      <th rowspan=\"2\" valign=\"top\">No</th>\n",
       "      <th>Adult</th>\n",
       "      <td>11</td>\n",
       "      <td>387</td>\n",
       "    </tr>\n",
       "    <tr>\n",
       "      <th>Child</th>\n",
       "      <td>3</td>\n",
       "      <td>35</td>\n",
       "    </tr>\n",
       "    <tr>\n",
       "      <th rowspan=\"2\" valign=\"top\">Yes</th>\n",
       "      <th>Adult</th>\n",
       "      <td>27</td>\n",
       "      <td>75</td>\n",
       "    </tr>\n",
       "    <tr>\n",
       "      <th>Child</th>\n",
       "      <td>19</td>\n",
       "      <td>13</td>\n",
       "    </tr>\n",
       "    <tr>\n",
       "      <th rowspan=\"8\" valign=\"top\">Crew</th>\n",
       "      <th rowspan=\"4\" valign=\"top\">Female</th>\n",
       "      <th rowspan=\"2\" valign=\"top\">No</th>\n",
       "      <th>Adult</th>\n",
       "      <td>16</td>\n",
       "      <td>3</td>\n",
       "    </tr>\n",
       "    <tr>\n",
       "      <th>Child</th>\n",
       "      <td>8</td>\n",
       "      <td>0</td>\n",
       "    </tr>\n",
       "    <tr>\n",
       "      <th rowspan=\"2\" valign=\"top\">Yes</th>\n",
       "      <th>Adult</th>\n",
       "      <td>32</td>\n",
       "      <td>20</td>\n",
       "    </tr>\n",
       "    <tr>\n",
       "      <th>Child</th>\n",
       "      <td>24</td>\n",
       "      <td>0</td>\n",
       "    </tr>\n",
       "    <tr>\n",
       "      <th rowspan=\"4\" valign=\"top\">Male</th>\n",
       "      <th rowspan=\"2\" valign=\"top\">No</th>\n",
       "      <th>Adult</th>\n",
       "      <td>12</td>\n",
       "      <td>670</td>\n",
       "    </tr>\n",
       "    <tr>\n",
       "      <th>Child</th>\n",
       "      <td>4</td>\n",
       "      <td>0</td>\n",
       "    </tr>\n",
       "    <tr>\n",
       "      <th rowspan=\"2\" valign=\"top\">Yes</th>\n",
       "      <th>Adult</th>\n",
       "      <td>28</td>\n",
       "      <td>192</td>\n",
       "    </tr>\n",
       "    <tr>\n",
       "      <th>Child</th>\n",
       "      <td>20</td>\n",
       "      <td>0</td>\n",
       "    </tr>\n",
       "  </tbody>\n",
       "</table>\n",
       "</div>"
      ],
      "text/plain": [
       "                             Unnamed: 0  Freq\n",
       "Class Sex    Survived Age                    \n",
       "1st   Female No       Adult          13     4\n",
       "                      Child           5     0\n",
       "             Yes      Adult          29   140\n",
       "                      Child          21     1\n",
       "      Male   No       Adult           9   118\n",
       "                      Child           1     0\n",
       "             Yes      Adult          25    57\n",
       "                      Child          17     5\n",
       "2nd   Female No       Adult          14    13\n",
       "                      Child           6     0\n",
       "             Yes      Adult          30    80\n",
       "                      Child          22    13\n",
       "      Male   No       Adult          10   154\n",
       "                      Child           2     0\n",
       "             Yes      Adult          26    14\n",
       "                      Child          18    11\n",
       "3rd   Female No       Adult          15    89\n",
       "                      Child           7    17\n",
       "             Yes      Adult          31    76\n",
       "                      Child          23    14\n",
       "      Male   No       Adult          11   387\n",
       "                      Child           3    35\n",
       "             Yes      Adult          27    75\n",
       "                      Child          19    13\n",
       "Crew  Female No       Adult          16     3\n",
       "                      Child           8     0\n",
       "             Yes      Adult          32    20\n",
       "                      Child          24     0\n",
       "      Male   No       Adult          12   670\n",
       "                      Child           4     0\n",
       "             Yes      Adult          28   192\n",
       "                      Child          20     0"
      ]
     },
     "execution_count": 88,
     "metadata": {},
     "output_type": "execute_result"
    }
   ],
   "source": [
    "groups"
   ]
  },
  {
   "cell_type": "code",
   "execution_count": null,
   "metadata": {},
   "outputs": [],
   "source": []
  }
 ],
 "metadata": {
  "kernelspec": {
   "display_name": "Python 3",
   "language": "python",
   "name": "python3"
  },
  "language_info": {
   "codemirror_mode": {
    "name": "ipython",
    "version": 3
   },
   "file_extension": ".py",
   "mimetype": "text/x-python",
   "name": "python",
   "nbconvert_exporter": "python",
   "pygments_lexer": "ipython3",
   "version": "3.7.3"
  }
 },
 "nbformat": 4,
 "nbformat_minor": 2
}
